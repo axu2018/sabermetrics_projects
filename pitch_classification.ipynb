{
 "cells": [
  {
   "cell_type": "markdown",
   "metadata": {},
   "source": [
    "# Pitch Classification"
   ]
  },
  {
   "cell_type": "markdown",
   "metadata": {},
   "source": [
    "### Name: Alex Xu"
   ]
  },
  {
   "cell_type": "code",
   "execution_count": 2,
   "metadata": {},
   "outputs": [],
   "source": [
    "#Imports\n",
    "import numpy as np\n",
    "import pandas as pd\n",
    "from collections import Counter\n",
    "from matplotlib.pyplot import figure\n",
    "import re\n",
    "from sklearn.preprocessing import StandardScaler\n",
    "from sklearn.model_selection import RepeatedStratifiedKFold\n",
    "import tqdm\n",
    "import matplotlib.pyplot as plt\n",
    "from sklearn.model_selection import train_test_split\n",
    "from sklearn import metrics\n",
    "from sklearn.neighbors import KNeighborsClassifier\n",
    "from sklearn.model_selection import GridSearchCV\n",
    "from sklearn.tree import DecisionTreeClassifier\n",
    "from sklearn.linear_model import LogisticRegression\n",
    "from sklearn.ensemble import RandomForestClassifier,GradientBoostingClassifier,VotingClassifier\n",
    "from scipy import stats\n",
    "from sklearn.model_selection import cross_val_score, cross_validate\n",
    "from sklearn.feature_selection import RFE, SelectKBest, chi2, f_classif\n",
    "from sklearn.tree import DecisionTreeClassifier\n",
    "from sklearn.neural_network import MLPClassifier\n",
    "from sklearn.pipeline import Pipeline\n",
    "import sqlite3\n",
    "import datetime\n",
    "import seaborn as sns\n",
    "import math\n",
    "import statsmodels.api as sm \n",
    "import xgboost as xgb"
   ]
  },
  {
   "cell_type": "markdown",
   "metadata": {},
   "source": [
    "## Problem Statement:\n",
    "\n",
    "Create a model that can predict the most likely pitch type from the test dataset."
   ]
  },
  {
   "cell_type": "markdown",
   "metadata": {},
   "source": [
    "## Data"
   ]
  },
  {
   "cell_type": "code",
   "execution_count": 74,
   "metadata": {},
   "outputs": [],
   "source": [
    "train = pd.read_csv('Quantitative Analysis Associate Questionnaire/pitchclassificationtrain.csv')\n",
    "test = pd.read_csv('Quantitative Analysis Associate Questionnaire/pitchclassificationtest.csv')"
   ]
  },
  {
   "cell_type": "code",
   "execution_count": 4,
   "metadata": {},
   "outputs": [
    {
     "data": {
      "text/html": [
       "<div>\n",
       "<style scoped>\n",
       "    .dataframe tbody tr th:only-of-type {\n",
       "        vertical-align: middle;\n",
       "    }\n",
       "\n",
       "    .dataframe tbody tr th {\n",
       "        vertical-align: top;\n",
       "    }\n",
       "\n",
       "    .dataframe thead th {\n",
       "        text-align: right;\n",
       "    }\n",
       "</style>\n",
       "<table border=\"1\" class=\"dataframe\">\n",
       "  <thead>\n",
       "    <tr style=\"text-align: right;\">\n",
       "      <th></th>\n",
       "      <th>pitchid</th>\n",
       "      <th>pitcherid</th>\n",
       "      <th>yearid</th>\n",
       "      <th>height</th>\n",
       "      <th>initspeed</th>\n",
       "      <th>breakx</th>\n",
       "      <th>breakz</th>\n",
       "      <th>initposx</th>\n",
       "      <th>initposz</th>\n",
       "      <th>extension</th>\n",
       "      <th>spinrate</th>\n",
       "      <th>type</th>\n",
       "    </tr>\n",
       "  </thead>\n",
       "  <tbody>\n",
       "    <tr>\n",
       "      <th>0</th>\n",
       "      <td>1</td>\n",
       "      <td>5</td>\n",
       "      <td>1</td>\n",
       "      <td>72</td>\n",
       "      <td>83.774424</td>\n",
       "      <td>-1.293106</td>\n",
       "      <td>4.451670</td>\n",
       "      <td>-1.330641</td>\n",
       "      <td>6.065956</td>\n",
       "      <td>6.317961</td>\n",
       "      <td>1386.459243</td>\n",
       "      <td>3</td>\n",
       "    </tr>\n",
       "    <tr>\n",
       "      <th>1</th>\n",
       "      <td>2</td>\n",
       "      <td>5</td>\n",
       "      <td>1</td>\n",
       "      <td>72</td>\n",
       "      <td>89.642714</td>\n",
       "      <td>-6.550556</td>\n",
       "      <td>7.993455</td>\n",
       "      <td>-1.556463</td>\n",
       "      <td>5.719125</td>\n",
       "      <td>6.119526</td>\n",
       "      <td>1963.264977</td>\n",
       "      <td>9</td>\n",
       "    </tr>\n",
       "    <tr>\n",
       "      <th>2</th>\n",
       "      <td>3</td>\n",
       "      <td>4</td>\n",
       "      <td>1</td>\n",
       "      <td>72</td>\n",
       "      <td>91.750648</td>\n",
       "      <td>-6.985574</td>\n",
       "      <td>8.991264</td>\n",
       "      <td>-2.055134</td>\n",
       "      <td>5.780312</td>\n",
       "      <td>6.201200</td>\n",
       "      <td>2360.758263</td>\n",
       "      <td>9</td>\n",
       "    </tr>\n",
       "    <tr>\n",
       "      <th>3</th>\n",
       "      <td>4</td>\n",
       "      <td>5</td>\n",
       "      <td>1</td>\n",
       "      <td>72</td>\n",
       "      <td>83.189766</td>\n",
       "      <td>-2.549204</td>\n",
       "      <td>4.844714</td>\n",
       "      <td>-1.001020</td>\n",
       "      <td>6.240138</td>\n",
       "      <td>6.074156</td>\n",
       "      <td>858.997788</td>\n",
       "      <td>7</td>\n",
       "    </tr>\n",
       "    <tr>\n",
       "      <th>4</th>\n",
       "      <td>5</td>\n",
       "      <td>2</td>\n",
       "      <td>1</td>\n",
       "      <td>80</td>\n",
       "      <td>92.698738</td>\n",
       "      <td>-5.216516</td>\n",
       "      <td>7.267769</td>\n",
       "      <td>-2.097643</td>\n",
       "      <td>5.776138</td>\n",
       "      <td>6.212281</td>\n",
       "      <td>2060.155099</td>\n",
       "      <td>9</td>\n",
       "    </tr>\n",
       "    <tr>\n",
       "      <th>5</th>\n",
       "      <td>6</td>\n",
       "      <td>2</td>\n",
       "      <td>1</td>\n",
       "      <td>80</td>\n",
       "      <td>93.465101</td>\n",
       "      <td>-3.705180</td>\n",
       "      <td>9.575830</td>\n",
       "      <td>-2.412097</td>\n",
       "      <td>5.930423</td>\n",
       "      <td>6.362127</td>\n",
       "      <td>2150.557826</td>\n",
       "      <td>10</td>\n",
       "    </tr>\n",
       "    <tr>\n",
       "      <th>6</th>\n",
       "      <td>7</td>\n",
       "      <td>5</td>\n",
       "      <td>1</td>\n",
       "      <td>72</td>\n",
       "      <td>90.133351</td>\n",
       "      <td>-3.457456</td>\n",
       "      <td>9.394351</td>\n",
       "      <td>-1.712198</td>\n",
       "      <td>5.878997</td>\n",
       "      <td>6.315298</td>\n",
       "      <td>2070.610056</td>\n",
       "      <td>10</td>\n",
       "    </tr>\n",
       "    <tr>\n",
       "      <th>7</th>\n",
       "      <td>8</td>\n",
       "      <td>2</td>\n",
       "      <td>1</td>\n",
       "      <td>80</td>\n",
       "      <td>94.988449</td>\n",
       "      <td>-0.475622</td>\n",
       "      <td>9.409168</td>\n",
       "      <td>-1.708333</td>\n",
       "      <td>6.168799</td>\n",
       "      <td>6.565337</td>\n",
       "      <td>2254.638912</td>\n",
       "      <td>10</td>\n",
       "    </tr>\n",
       "    <tr>\n",
       "      <th>8</th>\n",
       "      <td>9</td>\n",
       "      <td>5</td>\n",
       "      <td>1</td>\n",
       "      <td>72</td>\n",
       "      <td>90.934010</td>\n",
       "      <td>-1.173693</td>\n",
       "      <td>7.685287</td>\n",
       "      <td>-1.005594</td>\n",
       "      <td>5.963014</td>\n",
       "      <td>5.986846</td>\n",
       "      <td>1740.423250</td>\n",
       "      <td>10</td>\n",
       "    </tr>\n",
       "    <tr>\n",
       "      <th>9</th>\n",
       "      <td>10</td>\n",
       "      <td>4</td>\n",
       "      <td>1</td>\n",
       "      <td>72</td>\n",
       "      <td>87.374464</td>\n",
       "      <td>1.512633</td>\n",
       "      <td>4.563257</td>\n",
       "      <td>-2.331637</td>\n",
       "      <td>5.982525</td>\n",
       "      <td>6.225165</td>\n",
       "      <td>2442.328132</td>\n",
       "      <td>8</td>\n",
       "    </tr>\n",
       "  </tbody>\n",
       "</table>\n",
       "</div>"
      ],
      "text/plain": [
       "   pitchid  pitcherid  yearid  height  initspeed    breakx    breakz  \\\n",
       "0        1          5       1      72  83.774424 -1.293106  4.451670   \n",
       "1        2          5       1      72  89.642714 -6.550556  7.993455   \n",
       "2        3          4       1      72  91.750648 -6.985574  8.991264   \n",
       "3        4          5       1      72  83.189766 -2.549204  4.844714   \n",
       "4        5          2       1      80  92.698738 -5.216516  7.267769   \n",
       "5        6          2       1      80  93.465101 -3.705180  9.575830   \n",
       "6        7          5       1      72  90.133351 -3.457456  9.394351   \n",
       "7        8          2       1      80  94.988449 -0.475622  9.409168   \n",
       "8        9          5       1      72  90.934010 -1.173693  7.685287   \n",
       "9       10          4       1      72  87.374464  1.512633  4.563257   \n",
       "\n",
       "   initposx  initposz  extension     spinrate  type  \n",
       "0 -1.330641  6.065956   6.317961  1386.459243     3  \n",
       "1 -1.556463  5.719125   6.119526  1963.264977     9  \n",
       "2 -2.055134  5.780312   6.201200  2360.758263     9  \n",
       "3 -1.001020  6.240138   6.074156   858.997788     7  \n",
       "4 -2.097643  5.776138   6.212281  2060.155099     9  \n",
       "5 -2.412097  5.930423   6.362127  2150.557826    10  \n",
       "6 -1.712198  5.878997   6.315298  2070.610056    10  \n",
       "7 -1.708333  6.168799   6.565337  2254.638912    10  \n",
       "8 -1.005594  5.963014   5.986846  1740.423250    10  \n",
       "9 -2.331637  5.982525   6.225165  2442.328132     8  "
      ]
     },
     "execution_count": 4,
     "metadata": {},
     "output_type": "execute_result"
    }
   ],
   "source": [
    "train.head(10)"
   ]
  },
  {
   "cell_type": "code",
   "execution_count": 5,
   "metadata": {},
   "outputs": [
    {
     "data": {
      "text/plain": [
       "Index(['pitchid', 'pitcherid', 'yearid', 'height', 'initspeed', 'breakx',\n",
       "       'breakz', 'initposx', 'initposz', 'extension', 'spinrate', 'type'],\n",
       "      dtype='object')"
      ]
     },
     "execution_count": 5,
     "metadata": {},
     "output_type": "execute_result"
    }
   ],
   "source": [
    "train.columns"
   ]
  },
  {
   "cell_type": "code",
   "execution_count": 75,
   "metadata": {},
   "outputs": [
    {
     "data": {
      "text/plain": [
       "Index(['pitchid', 'pitcherid', 'yearid', 'height', 'initspeed', 'breakx',\n",
       "       'breakz', 'initposx', 'initposz', 'extension', 'spinrate'],\n",
       "      dtype='object')"
      ]
     },
     "execution_count": 75,
     "metadata": {},
     "output_type": "execute_result"
    }
   ],
   "source": [
    "test.columns"
   ]
  },
  {
   "cell_type": "code",
   "execution_count": 6,
   "metadata": {},
   "outputs": [
    {
     "data": {
      "text/plain": [
       "False"
      ]
     },
     "execution_count": 6,
     "metadata": {},
     "output_type": "execute_result"
    }
   ],
   "source": [
    "train.isnull().values.any()"
   ]
  },
  {
   "cell_type": "code",
   "execution_count": 7,
   "metadata": {},
   "outputs": [],
   "source": [
    "train = train.astype({'pitcherid':'category','yearid':'category','type': 'category'})"
   ]
  },
  {
   "cell_type": "markdown",
   "metadata": {},
   "source": [
    "Turning `pitcherid` and `yearid` into categorical variables, as well as the pitch `type`"
   ]
  },
  {
   "cell_type": "markdown",
   "metadata": {},
   "source": [
    "## EDA"
   ]
  },
  {
   "cell_type": "code",
   "execution_count": 8,
   "metadata": {},
   "outputs": [
    {
     "data": {
      "image/png": "[encoded data removed]",
      "text/plain": [
       "<Figure size 432x288 with 1 Axes>"
      ]
     },
     "metadata": {},
     "output_type": "display_data"
    }
   ],
   "source": [
    "pitchers = train.groupby('pitcherid').size()\n",
    "pitchers.plot.bar()\n",
    "plt.xlabel('Pitcher ID')\n",
    "plt.ylabel('Pitches')\n",
    "plt.show()"
   ]
  },
  {
   "cell_type": "code",
   "execution_count": 9,
   "metadata": {},
   "outputs": [
    {
     "data": {
      "image/png": "[encoded data removed]",
      "text/plain": [
       "<Figure size 432x288 with 1 Axes>"
      ]
     },
     "metadata": {},
     "output_type": "display_data"
    }
   ],
   "source": [
    "pitch_type = train.groupby(['type']).size()\n",
    "pitch_type.plot.bar()\n",
    "plt.xlabel('Pitch Type')\n",
    "plt.ylabel('Pitches')\n",
    "plt.show()"
   ]
  },
  {
   "cell_type": "markdown",
   "metadata": {},
   "source": [
    "## Feature Selection"
   ]
  },
  {
   "cell_type": "code",
   "execution_count": 10,
   "metadata": {},
   "outputs": [],
   "source": [
    "pitch_data = pd.DataFrame(train,columns=['pitcherid','yearid', 'height', 'initspeed', 'breakx','breakz', 'initposx', 'initposz', 'extension', 'spinrate'])\n",
    "dummy_pitch_data = pd.get_dummies(pitch_data)"
   ]
  },
  {
   "cell_type": "code",
   "execution_count": 13,
   "metadata": {},
   "outputs": [
    {
     "data": {
      "image/png": "[encoded data removed]",
      "text/plain": [
       "<Figure size 1440x1152 with 2 Axes>"
      ]
     },
     "metadata": {},
     "output_type": "display_data"
    }
   ],
   "source": [
    "corrMatrix = dummy_pitch_data.corr()\n",
    "fig, ax = plt.subplots(figsize = (20, 16))\n",
    "\n",
    "sns.heatmap(corrMatrix, annot = True, linewidths = 0.4, vmax = 1, vmin = -1)\n",
    "plt.title('Correlation Matrix')\n",
    "plt.show()"
   ]
  },
  {
   "cell_type": "markdown",
   "metadata": {},
   "source": [
    "### Feature Selection Functions"
   ]
  },
  {
   "cell_type": "code",
   "execution_count": 14,
   "metadata": {},
   "outputs": [],
   "source": [
    "def get_features_rfe(model):\n",
    "    scores = []\n",
    "    means = []\n",
    "    for i in range(2,11):\n",
    "        rfe = RFE(estimator=model, n_features_to_select=i)\n",
    "        pipeline = Pipeline(steps=[('s',rfe),('m',model)])\n",
    "        \n",
    "        scaler = StandardScaler()\n",
    "        cv = RepeatedStratifiedKFold(n_splits=10, n_repeats=5, random_state=1)\n",
    "        n_scores = cross_val_score(pipeline, scaler.fit_transform(pitch_data), train['type'], scoring='accuracy', cv=cv, n_jobs=-1, error_score='raise')\n",
    "        scores.append(n_scores)\n",
    "        means.append(np.mean(n_scores))\n",
    "        max_index = means.index(max(means))\n",
    "        print('Testing',i,'features accuracy: %.3f (%.3f)' % (np.mean(n_scores), np.std(n_scores)))\n",
    "    plt.boxplot(scores, labels=range(2,11), showmeans=True)\n",
    "    plt.title('RFE')\n",
    "    plt.xlabel('Number of Features')\n",
    "    plt.ylabel('Accuracy')\n",
    "    plt.show()\n",
    "    print('Maximum cross-validated accuracy with',max_index+2,'features:',max(means))"
   ]
  },
  {
   "cell_type": "code",
   "execution_count": 142,
   "metadata": {},
   "outputs": [],
   "source": [
    "def get_features_kbest(model):\n",
    "    scores = []\n",
    "    means = []\n",
    "    for i in range(2,11):\n",
    "        k_best = SelectKBest(f_classif,k=i)\n",
    "        pipeline = Pipeline(steps=[('s',k_best),('m',model)])\n",
    "        scaler = StandardScaler()\n",
    "\n",
    "        cv = RepeatedStratifiedKFold(n_splits=10, n_repeats=5, random_state=1)\n",
    "        n_scores = cross_val_score(pipeline, scaler.fit_transform(pitch_data), train['type'], scoring='accuracy', cv=cv, n_jobs=-1, error_score='raise')\n",
    "        scores.append(n_scores)\n",
    "        means.append(np.mean(n_scores))\n",
    "        max_index = means.index(max(means))\n",
    "        print('Testing',i,'features accuracy: %.3f (%.3f)' % (np.mean(n_scores), np.std(n_scores)))\n",
    "    plt.boxplot(scores, labels=range(2,11), showmeans=True)\n",
    "    plt.title('SelectKBest')\n",
    "    plt.xlabel('Number of Features')\n",
    "    plt.ylabel('Accuracy')\n",
    "    plt.show()\n",
    "    print('Maximum cross-validated accuracy with',max_index+2,'features:',max(means))"
   ]
  },
  {
   "cell_type": "markdown",
   "metadata": {},
   "source": [
    "#### Function for Hyperparameter Tuning Visualization"
   ]
  },
  {
   "cell_type": "code",
   "execution_count": 15,
   "metadata": {},
   "outputs": [],
   "source": [
    "def compare_scores(scores_dict):\n",
    "    import pandas as pd\n",
    "    df = pd.DataFrame(scores_dict).T.applymap(np.mean).style.background_gradient(cmap='RdYlGn')\n",
    "    return df"
   ]
  },
  {
   "cell_type": "markdown",
   "metadata": {},
   "source": [
    "## Model Selection\n",
    "\n",
    "The general process for each model is to first determine a feature set using cross-validation combined with either Recursive Feature Elimination or the SelectKBest function. Then it is a matter of tuning hyperparameters to determine the optimal parameters for accuracy before splitting the train dataset into training and validation sets. After all the training has been complete we can use the best-performing model on the test set.\n",
    "\n",
    "Note: Some of the graphs may show 'RFE' when SelectKBest was used"
   ]
  },
  {
   "cell_type": "markdown",
   "metadata": {},
   "source": [
    "### Multiclass Logistic Regression"
   ]
  },
  {
   "cell_type": "code",
   "execution_count": 43,
   "metadata": {},
   "outputs": [],
   "source": [
    "lm = LogisticRegression(multi_class='multinomial')"
   ]
  },
  {
   "cell_type": "code",
   "execution_count": 44,
   "metadata": {},
   "outputs": [
    {
     "name": "stdout",
     "output_type": "stream",
     "text": [
      "Testing 2 features accuracy: 0.683 (0.012)\n",
      "Testing 3 features accuracy: 0.782 (0.014)\n",
      "Testing 4 features accuracy: 0.827 (0.010)\n",
      "Testing 5 features accuracy: 0.910 (0.008)\n",
      "Testing 6 features accuracy: 0.918 (0.008)\n",
      "Testing 7 features accuracy: 0.925 (0.008)\n",
      "Testing 8 features accuracy: 0.926 (0.009)\n",
      "Testing 9 features accuracy: 0.926 (0.009)\n",
      "Testing 10 features accuracy: 0.926 (0.009)\n"
     ]
    },
    {
     "data": {
      "image/png": "[encoded data removed]",
      "text/plain": [
       "<Figure size 432x288 with 1 Axes>"
      ]
     },
     "metadata": {},
     "output_type": "display_data"
    },
    {
     "name": "stdout",
     "output_type": "stream",
     "text": [
      "Maximum cross-validated accuracy with 10 features: 0.9264959052560978\n"
     ]
    }
   ],
   "source": [
    "get_features_rfe(lm)"
   ]
  },
  {
   "cell_type": "code",
   "execution_count": 47,
   "metadata": {},
   "outputs": [
    {
     "name": "stdout",
     "output_type": "stream",
     "text": [
      "Attribute: pitcherid selected True, Rank: 1.000\n",
      "Attribute: yearid selected False, Rank: 3.000\n",
      "Attribute: height selected True, Rank: 1.000\n",
      "Attribute: initspeed selected True, Rank: 1.000\n",
      "Attribute: breakx selected True, Rank: 1.000\n",
      "Attribute: breakz selected True, Rank: 1.000\n",
      "Attribute: initposx selected False, Rank: 2.000\n",
      "Attribute: initposz selected True, Rank: 1.000\n",
      "Attribute: extension selected False, Rank: 4.000\n",
      "Attribute: spinrate selected True, Rank: 1.000\n"
     ]
    }
   ],
   "source": [
    "scaler = StandardScaler()\n",
    "model =LogisticRegression(multi_class='multinomial',max_iter= 1000)\n",
    "rfe = RFE(estimator=model, n_features_to_select=7)\n",
    "pipeline = Pipeline(steps=[('s',rfe),('m',model)])\n",
    "scaled_pitch = scaler.fit_transform(pitch_data)\n",
    "rfe.fit(scaled_pitch,train['type'])\n",
    "\n",
    "for i in range(pitch_data.shape[1]):\n",
    "    print('Attribute:', pitch_data.columns[i], 'selected %s, Rank: %.3f' % (rfe.support_[i], rfe.ranking_[i]))"
   ]
  },
  {
   "cell_type": "markdown",
   "metadata": {},
   "source": [
    "The features that were selected by RFE were `pitcherid`, `height`, `initspeed`, `breakx`, `breakz`,`initposz`, and `spinrate`"
   ]
  },
  {
   "cell_type": "code",
   "execution_count": 48,
   "metadata": {},
   "outputs": [],
   "source": [
    "scaler = StandardScaler()\n",
    "X_rfe = pd.DataFrame(pitch_data,columns=['pitcherid','height', 'initspeed', 'breakx','breakz','initposz','spinrate'])\n",
    "X_scaled = scaler.fit_transform(X_rfe)"
   ]
  },
  {
   "cell_type": "markdown",
   "metadata": {},
   "source": [
    "#### Logistic Regression Tuning"
   ]
  },
  {
   "cell_type": "code",
   "execution_count": 50,
   "metadata": {},
   "outputs": [
    {
     "data": {
      "text/html": [
       "<style  type=\"text/css\" >\n",
       "    #T_c6cc052c_7289_11ed_9608_1094bbd18074row0_col0 {\n",
       "            background-color:  #006837;\n",
       "            color:  #f1f1f1;\n",
       "        }    #T_c6cc052c_7289_11ed_9608_1094bbd18074row0_col1 {\n",
       "            background-color:  #006837;\n",
       "            color:  #f1f1f1;\n",
       "        }    #T_c6cc052c_7289_11ed_9608_1094bbd18074row0_col2 {\n",
       "            background-color:  #a50026;\n",
       "            color:  #f1f1f1;\n",
       "        }    #T_c6cc052c_7289_11ed_9608_1094bbd18074row0_col3 {\n",
       "            background-color:  #a50026;\n",
       "            color:  #f1f1f1;\n",
       "        }    #T_c6cc052c_7289_11ed_9608_1094bbd18074row0_col4 {\n",
       "            background-color:  #a50026;\n",
       "            color:  #f1f1f1;\n",
       "        }    #T_c6cc052c_7289_11ed_9608_1094bbd18074row0_col5 {\n",
       "            background-color:  #a50026;\n",
       "            color:  #f1f1f1;\n",
       "        }    #T_c6cc052c_7289_11ed_9608_1094bbd18074row1_col0 {\n",
       "            background-color:  #a50026;\n",
       "            color:  #f1f1f1;\n",
       "        }    #T_c6cc052c_7289_11ed_9608_1094bbd18074row1_col1 {\n",
       "            background-color:  #fff3ac;\n",
       "            color:  #000000;\n",
       "        }    #T_c6cc052c_7289_11ed_9608_1094bbd18074row1_col2 {\n",
       "            background-color:  #a50026;\n",
       "            color:  #f1f1f1;\n",
       "        }    #T_c6cc052c_7289_11ed_9608_1094bbd18074row1_col3 {\n",
       "            background-color:  #a50026;\n",
       "            color:  #f1f1f1;\n",
       "        }    #T_c6cc052c_7289_11ed_9608_1094bbd18074row1_col4 {\n",
       "            background-color:  #a50026;\n",
       "            color:  #f1f1f1;\n",
       "        }    #T_c6cc052c_7289_11ed_9608_1094bbd18074row1_col5 {\n",
       "            background-color:  #a50026;\n",
       "            color:  #f1f1f1;\n",
       "        }    #T_c6cc052c_7289_11ed_9608_1094bbd18074row2_col0 {\n",
       "            background-color:  #addc6f;\n",
       "            color:  #000000;\n",
       "        }    #T_c6cc052c_7289_11ed_9608_1094bbd18074row2_col1 {\n",
       "            background-color:  #a50026;\n",
       "            color:  #f1f1f1;\n",
       "        }    #T_c6cc052c_7289_11ed_9608_1094bbd18074row2_col2 {\n",
       "            background-color:  #a50026;\n",
       "            color:  #f1f1f1;\n",
       "        }    #T_c6cc052c_7289_11ed_9608_1094bbd18074row2_col3 {\n",
       "            background-color:  #a50026;\n",
       "            color:  #f1f1f1;\n",
       "        }    #T_c6cc052c_7289_11ed_9608_1094bbd18074row2_col4 {\n",
       "            background-color:  #a50026;\n",
       "            color:  #f1f1f1;\n",
       "        }    #T_c6cc052c_7289_11ed_9608_1094bbd18074row2_col5 {\n",
       "            background-color:  #a50026;\n",
       "            color:  #f1f1f1;\n",
       "        }    #T_c6cc052c_7289_11ed_9608_1094bbd18074row3_col0 {\n",
       "            background-color:  #feca79;\n",
       "            color:  #000000;\n",
       "        }    #T_c6cc052c_7289_11ed_9608_1094bbd18074row3_col1 {\n",
       "            background-color:  #e75337;\n",
       "            color:  #000000;\n",
       "        }    #T_c6cc052c_7289_11ed_9608_1094bbd18074row3_col2 {\n",
       "            background-color:  #a50026;\n",
       "            color:  #f1f1f1;\n",
       "        }    #T_c6cc052c_7289_11ed_9608_1094bbd18074row3_col3 {\n",
       "            background-color:  #a50026;\n",
       "            color:  #f1f1f1;\n",
       "        }    #T_c6cc052c_7289_11ed_9608_1094bbd18074row3_col4 {\n",
       "            background-color:  #a50026;\n",
       "            color:  #f1f1f1;\n",
       "        }    #T_c6cc052c_7289_11ed_9608_1094bbd18074row3_col5 {\n",
       "            background-color:  #a50026;\n",
       "            color:  #f1f1f1;\n",
       "        }</style><table id=\"T_c6cc052c_7289_11ed_9608_1094bbd18074\" ><thead>    <tr>        <th class=\"blank level0\" ></th>        <th class=\"col_heading level0 col0\" >fit_time</th>        <th class=\"col_heading level0 col1\" >score_time</th>        <th class=\"col_heading level0 col2\" >test_accuracy</th>        <th class=\"col_heading level0 col3\" >test_f1_macro</th>        <th class=\"col_heading level0 col4\" >test_f1_micro</th>        <th class=\"col_heading level0 col5\" >test_f1_weighted</th>    </tr></thead><tbody>\n",
       "                <tr>\n",
       "                        <th id=\"T_c6cc052c_7289_11ed_9608_1094bbd18074level0_row0\" class=\"row_heading level0 row0\" >lbfgs</th>\n",
       "                        <td id=\"T_c6cc052c_7289_11ed_9608_1094bbd18074row0_col0\" class=\"data row0 col0\" >0.896188</td>\n",
       "                        <td id=\"T_c6cc052c_7289_11ed_9608_1094bbd18074row0_col1\" class=\"data row0 col1\" >0.0123064</td>\n",
       "                        <td id=\"T_c6cc052c_7289_11ed_9608_1094bbd18074row0_col2\" class=\"data row0 col2\" >0.925802</td>\n",
       "                        <td id=\"T_c6cc052c_7289_11ed_9608_1094bbd18074row0_col3\" class=\"data row0 col3\" >0.921432</td>\n",
       "                        <td id=\"T_c6cc052c_7289_11ed_9608_1094bbd18074row0_col4\" class=\"data row0 col4\" >0.925802</td>\n",
       "                        <td id=\"T_c6cc052c_7289_11ed_9608_1094bbd18074row0_col5\" class=\"data row0 col5\" >0.925668</td>\n",
       "            </tr>\n",
       "            <tr>\n",
       "                        <th id=\"T_c6cc052c_7289_11ed_9608_1094bbd18074level0_row1\" class=\"row_heading level0 row1\" >sag</th>\n",
       "                        <td id=\"T_c6cc052c_7289_11ed_9608_1094bbd18074row1_col0\" class=\"data row1 col0\" >0.30003</td>\n",
       "                        <td id=\"T_c6cc052c_7289_11ed_9608_1094bbd18074row1_col1\" class=\"data row1 col1\" >0.0099467</td>\n",
       "                        <td id=\"T_c6cc052c_7289_11ed_9608_1094bbd18074row1_col2\" class=\"data row1 col2\" >0.925802</td>\n",
       "                        <td id=\"T_c6cc052c_7289_11ed_9608_1094bbd18074row1_col3\" class=\"data row1 col3\" >0.921432</td>\n",
       "                        <td id=\"T_c6cc052c_7289_11ed_9608_1094bbd18074row1_col4\" class=\"data row1 col4\" >0.925802</td>\n",
       "                        <td id=\"T_c6cc052c_7289_11ed_9608_1094bbd18074row1_col5\" class=\"data row1 col5\" >0.925668</td>\n",
       "            </tr>\n",
       "            <tr>\n",
       "                        <th id=\"T_c6cc052c_7289_11ed_9608_1094bbd18074level0_row2\" class=\"row_heading level0 row2\" >saga</th>\n",
       "                        <td id=\"T_c6cc052c_7289_11ed_9608_1094bbd18074row2_col0\" class=\"data row2 col0\" >0.708644</td>\n",
       "                        <td id=\"T_c6cc052c_7289_11ed_9608_1094bbd18074row2_col1\" class=\"data row2 col1\" >0.00789945</td>\n",
       "                        <td id=\"T_c6cc052c_7289_11ed_9608_1094bbd18074row2_col2\" class=\"data row2 col2\" >0.925802</td>\n",
       "                        <td id=\"T_c6cc052c_7289_11ed_9608_1094bbd18074row2_col3\" class=\"data row2 col3\" >0.921432</td>\n",
       "                        <td id=\"T_c6cc052c_7289_11ed_9608_1094bbd18074row2_col4\" class=\"data row2 col4\" >0.925802</td>\n",
       "                        <td id=\"T_c6cc052c_7289_11ed_9608_1094bbd18074row2_col5\" class=\"data row2 col5\" >0.925668</td>\n",
       "            </tr>\n",
       "            <tr>\n",
       "                        <th id=\"T_c6cc052c_7289_11ed_9608_1094bbd18074level0_row3\" class=\"row_heading level0 row3\" >newton-cg</th>\n",
       "                        <td id=\"T_c6cc052c_7289_11ed_9608_1094bbd18074row3_col0\" class=\"data row3 col0\" >0.513833</td>\n",
       "                        <td id=\"T_c6cc052c_7289_11ed_9608_1094bbd18074row3_col1\" class=\"data row3 col1\" >0.00859263</td>\n",
       "                        <td id=\"T_c6cc052c_7289_11ed_9608_1094bbd18074row3_col2\" class=\"data row3 col2\" >0.925802</td>\n",
       "                        <td id=\"T_c6cc052c_7289_11ed_9608_1094bbd18074row3_col3\" class=\"data row3 col3\" >0.921432</td>\n",
       "                        <td id=\"T_c6cc052c_7289_11ed_9608_1094bbd18074row3_col4\" class=\"data row3 col4\" >0.925802</td>\n",
       "                        <td id=\"T_c6cc052c_7289_11ed_9608_1094bbd18074row3_col5\" class=\"data row3 col5\" >0.925668</td>\n",
       "            </tr>\n",
       "    </tbody></table>"
      ],
      "text/plain": [
       "<pandas.io.formats.style.Styler at 0x7faf789ce9e8>"
      ]
     },
     "execution_count": 50,
     "metadata": {},
     "output_type": "execute_result"
    }
   ],
   "source": [
    "solvers = ['lbfgs', 'sag', 'saga','newton-cg'] \n",
    "s_scores = {}\n",
    "for n in solvers:\n",
    "    s_scores[n] = cross_validate(\n",
    "        LogisticRegression(multi_class='multinomial',max_iter= 1000,solver = n),\n",
    "        X_scaled,\n",
    "        train['type'],\n",
    "        cv= 10,\n",
    "        scoring=('accuracy','f1_macro','f1_micro','f1_weighted')\n",
    "        )\n",
    "compare_scores(s_scores)"
   ]
  },
  {
   "cell_type": "code",
   "execution_count": 51,
   "metadata": {},
   "outputs": [
    {
     "data": {
      "text/html": [
       "<style  type=\"text/css\" >\n",
       "    #T_de0bd598_7289_11ed_851e_1094bbd18074row0_col0 {\n",
       "            background-color:  #006837;\n",
       "            color:  #f1f1f1;\n",
       "        }    #T_de0bd598_7289_11ed_851e_1094bbd18074row0_col1 {\n",
       "            background-color:  #a50026;\n",
       "            color:  #f1f1f1;\n",
       "        }    #T_de0bd598_7289_11ed_851e_1094bbd18074row0_col2 {\n",
       "            background-color:  #006837;\n",
       "            color:  #f1f1f1;\n",
       "        }    #T_de0bd598_7289_11ed_851e_1094bbd18074row0_col3 {\n",
       "            background-color:  #006837;\n",
       "            color:  #f1f1f1;\n",
       "        }    #T_de0bd598_7289_11ed_851e_1094bbd18074row0_col4 {\n",
       "            background-color:  #006837;\n",
       "            color:  #f1f1f1;\n",
       "        }    #T_de0bd598_7289_11ed_851e_1094bbd18074row0_col5 {\n",
       "            background-color:  #006837;\n",
       "            color:  #f1f1f1;\n",
       "        }    #T_de0bd598_7289_11ed_851e_1094bbd18074row1_col0 {\n",
       "            background-color:  #a50026;\n",
       "            color:  #f1f1f1;\n",
       "        }    #T_de0bd598_7289_11ed_851e_1094bbd18074row1_col1 {\n",
       "            background-color:  #006837;\n",
       "            color:  #f1f1f1;\n",
       "        }    #T_de0bd598_7289_11ed_851e_1094bbd18074row1_col2 {\n",
       "            background-color:  #a50026;\n",
       "            color:  #f1f1f1;\n",
       "        }    #T_de0bd598_7289_11ed_851e_1094bbd18074row1_col3 {\n",
       "            background-color:  #a50026;\n",
       "            color:  #f1f1f1;\n",
       "        }    #T_de0bd598_7289_11ed_851e_1094bbd18074row1_col4 {\n",
       "            background-color:  #a50026;\n",
       "            color:  #f1f1f1;\n",
       "        }    #T_de0bd598_7289_11ed_851e_1094bbd18074row1_col5 {\n",
       "            background-color:  #a50026;\n",
       "            color:  #f1f1f1;\n",
       "        }</style><table id=\"T_de0bd598_7289_11ed_851e_1094bbd18074\" ><thead>    <tr>        <th class=\"blank level0\" ></th>        <th class=\"col_heading level0 col0\" >fit_time</th>        <th class=\"col_heading level0 col1\" >score_time</th>        <th class=\"col_heading level0 col2\" >test_accuracy</th>        <th class=\"col_heading level0 col3\" >test_f1_macro</th>        <th class=\"col_heading level0 col4\" >test_f1_micro</th>        <th class=\"col_heading level0 col5\" >test_f1_weighted</th>    </tr></thead><tbody>\n",
       "                <tr>\n",
       "                        <th id=\"T_de0bd598_7289_11ed_851e_1094bbd18074level0_row0\" class=\"row_heading level0 row0\" >none</th>\n",
       "                        <td id=\"T_de0bd598_7289_11ed_851e_1094bbd18074row0_col0\" class=\"data row0 col0\" >3.04422</td>\n",
       "                        <td id=\"T_de0bd598_7289_11ed_851e_1094bbd18074row0_col1\" class=\"data row0 col1\" >0.0101624</td>\n",
       "                        <td id=\"T_de0bd598_7289_11ed_851e_1094bbd18074row0_col2\" class=\"data row0 col2\" >0.926553</td>\n",
       "                        <td id=\"T_de0bd598_7289_11ed_851e_1094bbd18074row0_col3\" class=\"data row0 col3\" >0.923917</td>\n",
       "                        <td id=\"T_de0bd598_7289_11ed_851e_1094bbd18074row0_col4\" class=\"data row0 col4\" >0.926553</td>\n",
       "                        <td id=\"T_de0bd598_7289_11ed_851e_1094bbd18074row0_col5\" class=\"data row0 col5\" >0.926499</td>\n",
       "            </tr>\n",
       "            <tr>\n",
       "                        <th id=\"T_de0bd598_7289_11ed_851e_1094bbd18074level0_row1\" class=\"row_heading level0 row1\" >l2</th>\n",
       "                        <td id=\"T_de0bd598_7289_11ed_851e_1094bbd18074row1_col0\" class=\"data row1 col0\" >0.825414</td>\n",
       "                        <td id=\"T_de0bd598_7289_11ed_851e_1094bbd18074row1_col1\" class=\"data row1 col1\" >0.010674</td>\n",
       "                        <td id=\"T_de0bd598_7289_11ed_851e_1094bbd18074row1_col2\" class=\"data row1 col2\" >0.925802</td>\n",
       "                        <td id=\"T_de0bd598_7289_11ed_851e_1094bbd18074row1_col3\" class=\"data row1 col3\" >0.921432</td>\n",
       "                        <td id=\"T_de0bd598_7289_11ed_851e_1094bbd18074row1_col4\" class=\"data row1 col4\" >0.925802</td>\n",
       "                        <td id=\"T_de0bd598_7289_11ed_851e_1094bbd18074row1_col5\" class=\"data row1 col5\" >0.925668</td>\n",
       "            </tr>\n",
       "    </tbody></table>"
      ],
      "text/plain": [
       "<pandas.io.formats.style.Styler at 0x7faf778974e0>"
      ]
     },
     "execution_count": 51,
     "metadata": {},
     "output_type": "execute_result"
    }
   ],
   "source": [
    "penalties = ['none', 'l2']\n",
    "n_scores = {}\n",
    "for n in penalties:\n",
    "    n_scores[n] = cross_validate(\n",
    "        LogisticRegression(multi_class='multinomial',max_iter= 1000,penalty = n),\n",
    "        X_scaled,\n",
    "        train['type'],\n",
    "        cv= 10,\n",
    "        scoring=('accuracy','f1_macro','f1_micro','f1_weighted')\n",
    "        )\n",
    "compare_scores(n_scores)"
   ]
  },
  {
   "cell_type": "code",
   "execution_count": 52,
   "metadata": {},
   "outputs": [
    {
     "data": {
      "text/html": [
       "<style  type=\"text/css\" >\n",
       "    #T_067d2912_728a_11ed_8020_1094bbd18074row0_col0 {\n",
       "            background-color:  #006837;\n",
       "            color:  #f1f1f1;\n",
       "        }    #T_067d2912_728a_11ed_8020_1094bbd18074row0_col1 {\n",
       "            background-color:  #006837;\n",
       "            color:  #f1f1f1;\n",
       "        }    #T_067d2912_728a_11ed_8020_1094bbd18074row0_col2 {\n",
       "            background-color:  #016a38;\n",
       "            color:  #f1f1f1;\n",
       "        }    #T_067d2912_728a_11ed_8020_1094bbd18074row0_col3 {\n",
       "            background-color:  #006837;\n",
       "            color:  #f1f1f1;\n",
       "        }    #T_067d2912_728a_11ed_8020_1094bbd18074row0_col4 {\n",
       "            background-color:  #016a38;\n",
       "            color:  #f1f1f1;\n",
       "        }    #T_067d2912_728a_11ed_8020_1094bbd18074row0_col5 {\n",
       "            background-color:  #016a38;\n",
       "            color:  #f1f1f1;\n",
       "        }    #T_067d2912_728a_11ed_8020_1094bbd18074row1_col0 {\n",
       "            background-color:  #feefa3;\n",
       "            color:  #000000;\n",
       "        }    #T_067d2912_728a_11ed_8020_1094bbd18074row1_col1 {\n",
       "            background-color:  #a50026;\n",
       "            color:  #f1f1f1;\n",
       "        }    #T_067d2912_728a_11ed_8020_1094bbd18074row1_col2 {\n",
       "            background-color:  #006837;\n",
       "            color:  #f1f1f1;\n",
       "        }    #T_067d2912_728a_11ed_8020_1094bbd18074row1_col3 {\n",
       "            background-color:  #006837;\n",
       "            color:  #f1f1f1;\n",
       "        }    #T_067d2912_728a_11ed_8020_1094bbd18074row1_col4 {\n",
       "            background-color:  #006837;\n",
       "            color:  #f1f1f1;\n",
       "        }    #T_067d2912_728a_11ed_8020_1094bbd18074row1_col5 {\n",
       "            background-color:  #006837;\n",
       "            color:  #f1f1f1;\n",
       "        }    #T_067d2912_728a_11ed_8020_1094bbd18074row2_col0 {\n",
       "            background-color:  #eb5a3a;\n",
       "            color:  #000000;\n",
       "        }    #T_067d2912_728a_11ed_8020_1094bbd18074row2_col1 {\n",
       "            background-color:  #e75337;\n",
       "            color:  #000000;\n",
       "        }    #T_067d2912_728a_11ed_8020_1094bbd18074row2_col2 {\n",
       "            background-color:  #05713c;\n",
       "            color:  #f1f1f1;\n",
       "        }    #T_067d2912_728a_11ed_8020_1094bbd18074row2_col3 {\n",
       "            background-color:  #05713c;\n",
       "            color:  #f1f1f1;\n",
       "        }    #T_067d2912_728a_11ed_8020_1094bbd18074row2_col4 {\n",
       "            background-color:  #05713c;\n",
       "            color:  #f1f1f1;\n",
       "        }    #T_067d2912_728a_11ed_8020_1094bbd18074row2_col5 {\n",
       "            background-color:  #05713c;\n",
       "            color:  #f1f1f1;\n",
       "        }    #T_067d2912_728a_11ed_8020_1094bbd18074row3_col0 {\n",
       "            background-color:  #bb1526;\n",
       "            color:  #f1f1f1;\n",
       "        }    #T_067d2912_728a_11ed_8020_1094bbd18074row3_col1 {\n",
       "            background-color:  #a2d76a;\n",
       "            color:  #000000;\n",
       "        }    #T_067d2912_728a_11ed_8020_1094bbd18074row3_col2 {\n",
       "            background-color:  #6bbf64;\n",
       "            color:  #000000;\n",
       "        }    #T_067d2912_728a_11ed_8020_1094bbd18074row3_col3 {\n",
       "            background-color:  #45ad5b;\n",
       "            color:  #000000;\n",
       "        }    #T_067d2912_728a_11ed_8020_1094bbd18074row3_col4 {\n",
       "            background-color:  #6bbf64;\n",
       "            color:  #000000;\n",
       "        }    #T_067d2912_728a_11ed_8020_1094bbd18074row3_col5 {\n",
       "            background-color:  #60ba62;\n",
       "            color:  #000000;\n",
       "        }    #T_067d2912_728a_11ed_8020_1094bbd18074row4_col0 {\n",
       "            background-color:  #a50026;\n",
       "            color:  #f1f1f1;\n",
       "        }    #T_067d2912_728a_11ed_8020_1094bbd18074row4_col1 {\n",
       "            background-color:  #b3df72;\n",
       "            color:  #000000;\n",
       "        }    #T_067d2912_728a_11ed_8020_1094bbd18074row4_col2 {\n",
       "            background-color:  #a50026;\n",
       "            color:  #f1f1f1;\n",
       "        }    #T_067d2912_728a_11ed_8020_1094bbd18074row4_col3 {\n",
       "            background-color:  #a50026;\n",
       "            color:  #f1f1f1;\n",
       "        }    #T_067d2912_728a_11ed_8020_1094bbd18074row4_col4 {\n",
       "            background-color:  #a50026;\n",
       "            color:  #f1f1f1;\n",
       "        }    #T_067d2912_728a_11ed_8020_1094bbd18074row4_col5 {\n",
       "            background-color:  #a50026;\n",
       "            color:  #f1f1f1;\n",
       "        }</style><table id=\"T_067d2912_728a_11ed_8020_1094bbd18074\" ><thead>    <tr>        <th class=\"blank level0\" ></th>        <th class=\"col_heading level0 col0\" >fit_time</th>        <th class=\"col_heading level0 col1\" >score_time</th>        <th class=\"col_heading level0 col2\" >test_accuracy</th>        <th class=\"col_heading level0 col3\" >test_f1_macro</th>        <th class=\"col_heading level0 col4\" >test_f1_micro</th>        <th class=\"col_heading level0 col5\" >test_f1_weighted</th>    </tr></thead><tbody>\n",
       "                <tr>\n",
       "                        <th id=\"T_067d2912_728a_11ed_8020_1094bbd18074level0_row0\" class=\"row_heading level0 row0\" >100.0</th>\n",
       "                        <td id=\"T_067d2912_728a_11ed_8020_1094bbd18074row0_col0\" class=\"data row0 col0\" >3.67965</td>\n",
       "                        <td id=\"T_067d2912_728a_11ed_8020_1094bbd18074row0_col1\" class=\"data row0 col1\" >0.0106535</td>\n",
       "                        <td id=\"T_067d2912_728a_11ed_8020_1094bbd18074row0_col2\" class=\"data row0 col2\" >0.926647</td>\n",
       "                        <td id=\"T_067d2912_728a_11ed_8020_1094bbd18074row0_col3\" class=\"data row0 col3\" >0.924067</td>\n",
       "                        <td id=\"T_067d2912_728a_11ed_8020_1094bbd18074row0_col4\" class=\"data row0 col4\" >0.926647</td>\n",
       "                        <td id=\"T_067d2912_728a_11ed_8020_1094bbd18074row0_col5\" class=\"data row0 col5\" >0.926592</td>\n",
       "            </tr>\n",
       "            <tr>\n",
       "                        <th id=\"T_067d2912_728a_11ed_8020_1094bbd18074level0_row1\" class=\"row_heading level0 row1\" >10.0</th>\n",
       "                        <td id=\"T_067d2912_728a_11ed_8020_1094bbd18074row1_col0\" class=\"data row1 col0\" >1.75091</td>\n",
       "                        <td id=\"T_067d2912_728a_11ed_8020_1094bbd18074row1_col1\" class=\"data row1 col1\" >0.00839775</td>\n",
       "                        <td id=\"T_067d2912_728a_11ed_8020_1094bbd18074row1_col2\" class=\"data row1 col2\" >0.926929</td>\n",
       "                        <td id=\"T_067d2912_728a_11ed_8020_1094bbd18074row1_col3\" class=\"data row1 col3\" >0.924543</td>\n",
       "                        <td id=\"T_067d2912_728a_11ed_8020_1094bbd18074row1_col4\" class=\"data row1 col4\" >0.926929</td>\n",
       "                        <td id=\"T_067d2912_728a_11ed_8020_1094bbd18074row1_col5\" class=\"data row1 col5\" >0.926871</td>\n",
       "            </tr>\n",
       "            <tr>\n",
       "                        <th id=\"T_067d2912_728a_11ed_8020_1094bbd18074level0_row2\" class=\"row_heading level0 row2\" >1.0</th>\n",
       "                        <td id=\"T_067d2912_728a_11ed_8020_1094bbd18074row2_col0\" class=\"data row2 col0\" >0.771772</td>\n",
       "                        <td id=\"T_067d2912_728a_11ed_8020_1094bbd18074row2_col1\" class=\"data row2 col1\" >0.00875843</td>\n",
       "                        <td id=\"T_067d2912_728a_11ed_8020_1094bbd18074row2_col2\" class=\"data row2 col2\" >0.925802</td>\n",
       "                        <td id=\"T_067d2912_728a_11ed_8020_1094bbd18074row2_col3\" class=\"data row2 col3\" >0.921432</td>\n",
       "                        <td id=\"T_067d2912_728a_11ed_8020_1094bbd18074row2_col4\" class=\"data row2 col4\" >0.925802</td>\n",
       "                        <td id=\"T_067d2912_728a_11ed_8020_1094bbd18074row2_col5\" class=\"data row2 col5\" >0.925668</td>\n",
       "            </tr>\n",
       "            <tr>\n",
       "                        <th id=\"T_067d2912_728a_11ed_8020_1094bbd18074level0_row3\" class=\"row_heading level0 row3\" >0.1</th>\n",
       "                        <td id=\"T_067d2912_728a_11ed_8020_1094bbd18074row3_col0\" class=\"data row3 col0\" >0.339514</td>\n",
       "                        <td id=\"T_067d2912_728a_11ed_8020_1094bbd18074row3_col1\" class=\"data row3 col1\" >0.00998726</td>\n",
       "                        <td id=\"T_067d2912_728a_11ed_8020_1094bbd18074row3_col2\" class=\"data row3 col2\" >0.916785</td>\n",
       "                        <td id=\"T_067d2912_728a_11ed_8020_1094bbd18074row3_col3\" class=\"data row3 col3\" >0.901778</td>\n",
       "                        <td id=\"T_067d2912_728a_11ed_8020_1094bbd18074row3_col4\" class=\"data row3 col4\" >0.916785</td>\n",
       "                        <td id=\"T_067d2912_728a_11ed_8020_1094bbd18074row3_col5\" class=\"data row3 col5\" >0.916249</td>\n",
       "            </tr>\n",
       "            <tr>\n",
       "                        <th id=\"T_067d2912_728a_11ed_8020_1094bbd18074level0_row4\" class=\"row_heading level0 row4\" >0.01</th>\n",
       "                        <td id=\"T_067d2912_728a_11ed_8020_1094bbd18074row4_col0\" class=\"data row4 col0\" >0.184131</td>\n",
       "                        <td id=\"T_067d2912_728a_11ed_8020_1094bbd18074row4_col1\" class=\"data row4 col1\" >0.00991549</td>\n",
       "                        <td id=\"T_067d2912_728a_11ed_8020_1094bbd18074row4_col2\" class=\"data row4 col2\" >0.878181</td>\n",
       "                        <td id=\"T_067d2912_728a_11ed_8020_1094bbd18074row4_col3\" class=\"data row4 col3\" >0.781043</td>\n",
       "                        <td id=\"T_067d2912_728a_11ed_8020_1094bbd18074row4_col4\" class=\"data row4 col4\" >0.878181</td>\n",
       "                        <td id=\"T_067d2912_728a_11ed_8020_1094bbd18074row4_col5\" class=\"data row4 col5\" >0.871427</td>\n",
       "            </tr>\n",
       "    </tbody></table>"
      ],
      "text/plain": [
       "<pandas.io.formats.style.Styler at 0x7faf722fe550>"
      ]
     },
     "execution_count": 52,
     "metadata": {},
     "output_type": "execute_result"
    }
   ],
   "source": [
    "c_values = [100,10,1,.1,.01]\n",
    "c_scores = {}\n",
    "for n in c_values:\n",
    "    c_scores[n] = cross_validate(\n",
    "        LogisticRegression(multi_class='multinomial',max_iter= 1000,C = n),\n",
    "        X_scaled,\n",
    "        train['type'],\n",
    "        cv= 10,\n",
    "        scoring=('accuracy','f1_macro','f1_micro','f1_weighted')\n",
    "        )\n",
    "compare_scores(c_scores)"
   ]
  },
  {
   "cell_type": "code",
   "execution_count": 99,
   "metadata": {},
   "outputs": [],
   "source": [
    "scaler = StandardScaler()\n",
    "X_rfe = pd.DataFrame(pitch_data,columns=['pitcherid','height', 'initspeed', 'breakx','breakz','initposz','spinrate'])\n",
    "X_scaled = scaler.fit_transform(X_rfe)"
   ]
  },
  {
   "cell_type": "code",
   "execution_count": 105,
   "metadata": {},
   "outputs": [],
   "source": [
    "c_values = [100,10,1,.1,.01]\n",
    "model = LogisticRegression(multi_class='multinomial',max_iter=1000)\n",
    "grid = dict(penalty=penalties,C=c_values)\n",
    "cv = RepeatedStratifiedKFold(n_splits=10, n_repeats=3, random_state=1)\n",
    "grid_search = GridSearchCV(estimator=model, param_grid=grid, n_jobs=-1, cv=cv, scoring='accuracy',error_score=0)\n",
    "grid_result = grid_search.fit(X_scaled, train['type'])"
   ]
  },
  {
   "cell_type": "code",
   "execution_count": 106,
   "metadata": {},
   "outputs": [
    {
     "name": "stdout",
     "output_type": "stream",
     "text": [
      "Best: 0.927116 using {'C': 100, 'penalty': 'l2'}\n",
      "0.927022 (0.007404) with: {'C': 100, 'penalty': 'none'}\n",
      "0.927116 (0.007414) with: {'C': 100, 'penalty': 'l2'}\n",
      "0.927022 (0.007404) with: {'C': 10, 'penalty': 'none'}\n",
      "0.926896 (0.007604) with: {'C': 10, 'penalty': 'l2'}\n",
      "0.927022 (0.007404) with: {'C': 1, 'penalty': 'none'}\n",
      "0.925550 (0.007792) with: {'C': 1, 'penalty': 'l2'}\n",
      "0.927022 (0.007404) with: {'C': 0.1, 'penalty': 'none'}\n",
      "0.917003 (0.007033) with: {'C': 0.1, 'penalty': 'l2'}\n",
      "0.927022 (0.007404) with: {'C': 0.01, 'penalty': 'none'}\n",
      "0.878463 (0.007593) with: {'C': 0.01, 'penalty': 'l2'}\n"
     ]
    }
   ],
   "source": [
    "print(\"Best: %f using %s\" % (grid_result.best_score_, grid_result.best_params_))\n",
    "means = grid_result.cv_results_['mean_test_score']\n",
    "stds = grid_result.cv_results_['std_test_score']\n",
    "params = grid_result.cv_results_['params']\n",
    "for mean, stdev, param in zip(means, stds, params):\n",
    "    print(\"%f (%f) with: %r\" % (mean, stdev, param))"
   ]
  },
  {
   "cell_type": "markdown",
   "metadata": {},
   "source": [
    "#### Validation"
   ]
  },
  {
   "cell_type": "code",
   "execution_count": 110,
   "metadata": {},
   "outputs": [],
   "source": [
    "X_train, X_test, y_train, y_test = train_test_split(X_scaled, train['type'], test_size= 0.2, random_state = 1)"
   ]
  },
  {
   "cell_type": "code",
   "execution_count": 111,
   "metadata": {},
   "outputs": [],
   "source": [
    "logistic = LogisticRegression(multi_class='multinomial',max_iter=1000,C=100,penalty='l2')\n",
    "logistic.fit(X_train, y_train)\n",
    "y_pred = logistic.predict(X_test)"
   ]
  },
  {
   "cell_type": "code",
   "execution_count": 112,
   "metadata": {},
   "outputs": [
    {
     "data": {
      "image/png": "[encoded data removed]",
      "text/plain": [
       "<Figure size 432x288 with 2 Axes>"
      ]
     },
     "metadata": {},
     "output_type": "display_data"
    }
   ],
   "source": [
    "cm= metrics.plot_confusion_matrix(logistic, X_test,y_test)\n",
    "plt.title('Confusion Matrix')\n",
    "plt.ylabel('Actual Values')\n",
    "plt.xlabel('Predicted Values')\n",
    "plt.show()"
   ]
  },
  {
   "cell_type": "code",
   "execution_count": 113,
   "metadata": {},
   "outputs": [
    {
     "name": "stdout",
     "output_type": "stream",
     "text": [
      "              precision    recall  f1-score   support\n",
      "\n",
      "           2       1.00      0.99      0.99       293\n",
      "           3       0.82      0.91      0.86        35\n",
      "           4       0.94      0.95      0.94       284\n",
      "           7       0.94      0.88      0.91       171\n",
      "           8       0.96      0.96      0.96       135\n",
      "           9       0.92      0.90      0.91       617\n",
      "          10       0.89      0.93      0.91       595\n",
      "\n",
      "    accuracy                           0.93      2130\n",
      "   macro avg       0.92      0.93      0.93      2130\n",
      "weighted avg       0.93      0.93      0.93      2130\n",
      "\n"
     ]
    }
   ],
   "source": [
    "print(metrics.classification_report(y_test,y_pred))"
   ]
  },
  {
   "cell_type": "markdown",
   "metadata": {},
   "source": [
    "### KNN"
   ]
  },
  {
   "cell_type": "code",
   "execution_count": 24,
   "metadata": {},
   "outputs": [],
   "source": [
    "neigh = KNeighborsClassifier()"
   ]
  },
  {
   "cell_type": "code",
   "execution_count": 60,
   "metadata": {},
   "outputs": [
    {
     "name": "stdout",
     "output_type": "stream",
     "text": [
      "Testing 2 features accuracy: 0.671 (0.014)\n",
      "Testing 3 features accuracy: 0.798 (0.012)\n",
      "Testing 4 features accuracy: 0.908 (0.007)\n",
      "Testing 5 features accuracy: 0.924 (0.007)\n",
      "Testing 6 features accuracy: 0.932 (0.007)\n",
      "Testing 7 features accuracy: 0.932 (0.007)\n",
      "Testing 8 features accuracy: 0.931 (0.008)\n",
      "Testing 9 features accuracy: 0.932 (0.008)\n",
      "Testing 10 features accuracy: 0.921 (0.009)\n"
     ]
    },
    {
     "data": {
      "image/png": "[encoded data removed]",
      "text/plain": [
       "<Figure size 432x288 with 1 Axes>"
      ]
     },
     "metadata": {},
     "output_type": "display_data"
    },
    {
     "name": "stdout",
     "output_type": "stream",
     "text": [
      "Maximum cross-validated accuracy with 6 features: 0.9323943838469414\n"
     ]
    }
   ],
   "source": [
    "get_features_kbest(neigh)"
   ]
  },
  {
   "cell_type": "code",
   "execution_count": 25,
   "metadata": {},
   "outputs": [
    {
     "name": "stdout",
     "output_type": "stream",
     "text": [
      "Attribute: pitcherid\n",
      "Attribute: initspeed\n",
      "Attribute: breakx\n",
      "Attribute: breakz\n",
      "Attribute: initposx\n",
      "Attribute: spinrate\n"
     ]
    }
   ],
   "source": [
    "scaler = StandardScaler()\n",
    "model = neigh\n",
    "k_best = SelectKBest(f_classif,k=6)\n",
    "pipeline = Pipeline(steps=[('s',k_best),('m',model)])\n",
    "scaled_pitch = scaler.fit_transform(pitch_data)\n",
    "k_best.fit(scaled_pitch,train['type'])\n",
    "\n",
    "cols = k_best.get_support(indices=True)\n",
    "for i in cols:\n",
    "    print('Attribute:', pitch_data.columns[i])\n",
    "\n",
    "X_knn = pd.DataFrame(pitch_data,columns=['pitcherid', 'initspeed', 'breakx','breakz','initposx','spinrate'])\n",
    "X_knn_scaled = scaler.fit_transform(X_knn)"
   ]
  },
  {
   "cell_type": "markdown",
   "metadata": {},
   "source": [
    "The features that were selected by SelectKBest were `pitcherid`, `initspeed`, `breakx`, `breakz`,`initposx`, and `spinrate`"
   ]
  },
  {
   "cell_type": "markdown",
   "metadata": {},
   "source": [
    "#### KNN Hyperparameter Tuning"
   ]
  },
  {
   "cell_type": "code",
   "execution_count": 62,
   "metadata": {},
   "outputs": [
    {
     "data": {
      "text/html": [
       "<style  type=\"text/css\" >\n",
       "    #T_185771a6_728a_11ed_9718_1094bbd18074row0_col0 {\n",
       "            background-color:  #a50026;\n",
       "            color:  #f1f1f1;\n",
       "        }    #T_185771a6_728a_11ed_9718_1094bbd18074row0_col1 {\n",
       "            background-color:  #a50026;\n",
       "            color:  #f1f1f1;\n",
       "        }    #T_185771a6_728a_11ed_9718_1094bbd18074row0_col2 {\n",
       "            background-color:  #a50026;\n",
       "            color:  #f1f1f1;\n",
       "        }    #T_185771a6_728a_11ed_9718_1094bbd18074row0_col3 {\n",
       "            background-color:  #a50026;\n",
       "            color:  #f1f1f1;\n",
       "        }    #T_185771a6_728a_11ed_9718_1094bbd18074row0_col4 {\n",
       "            background-color:  #a50026;\n",
       "            color:  #f1f1f1;\n",
       "        }    #T_185771a6_728a_11ed_9718_1094bbd18074row0_col5 {\n",
       "            background-color:  #a50026;\n",
       "            color:  #f1f1f1;\n",
       "        }</style><table id=\"T_185771a6_728a_11ed_9718_1094bbd18074\" ><thead>    <tr>        <th class=\"blank level0\" ></th>        <th class=\"col_heading level0 col0\" >fit_time</th>        <th class=\"col_heading level0 col1\" >score_time</th>        <th class=\"col_heading level0 col2\" >test_accuracy</th>        <th class=\"col_heading level0 col3\" >test_f1_macro</th>        <th class=\"col_heading level0 col4\" >test_f1_micro</th>        <th class=\"col_heading level0 col5\" >test_f1_weighted</th>    </tr></thead><tbody>\n",
       "                <tr>\n",
       "                        <th id=\"T_185771a6_728a_11ed_9718_1094bbd18074level0_row0\" class=\"row_heading level0 row0\" >KNN</th>\n",
       "                        <td id=\"T_185771a6_728a_11ed_9718_1094bbd18074row0_col0\" class=\"data row0 col0\" >0.0143159</td>\n",
       "                        <td id=\"T_185771a6_728a_11ed_9718_1094bbd18074row0_col1\" class=\"data row0 col1\" >0.0489796</td>\n",
       "                        <td id=\"T_185771a6_728a_11ed_9718_1094bbd18074row0_col2\" class=\"data row0 col2\" >0.933408</td>\n",
       "                        <td id=\"T_185771a6_728a_11ed_9718_1094bbd18074row0_col3\" class=\"data row0 col3\" >0.930834</td>\n",
       "                        <td id=\"T_185771a6_728a_11ed_9718_1094bbd18074row0_col4\" class=\"data row0 col4\" >0.933408</td>\n",
       "                        <td id=\"T_185771a6_728a_11ed_9718_1094bbd18074row0_col5\" class=\"data row0 col5\" >0.933187</td>\n",
       "            </tr>\n",
       "    </tbody></table>"
      ],
      "text/plain": [
       "<pandas.io.formats.style.Styler at 0x7faf789f14a8>"
      ]
     },
     "execution_count": 62,
     "metadata": {},
     "output_type": "execute_result"
    }
   ],
   "source": [
    "knn = cross_validate(\n",
    "        neigh,\n",
    "        X_knn_scaled,\n",
    "        train['type'],\n",
    "        cv= 10,\n",
    "        scoring=('accuracy','f1_macro','f1_micro','f1_weighted')\n",
    "        )\n",
    "\n",
    "compare_scores({'KNN':knn})"
   ]
  },
  {
   "cell_type": "code",
   "execution_count": 63,
   "metadata": {},
   "outputs": [
    {
     "data": {
      "text/html": [
       "<style  type=\"text/css\" >\n",
       "    #T_1ccf080c_728a_11ed_b1ff_1094bbd18074row0_col0 {\n",
       "            background-color:  #96d268;\n",
       "            color:  #000000;\n",
       "        }    #T_1ccf080c_728a_11ed_b1ff_1094bbd18074row0_col1 {\n",
       "            background-color:  #a50026;\n",
       "            color:  #f1f1f1;\n",
       "        }    #T_1ccf080c_728a_11ed_b1ff_1094bbd18074row0_col2 {\n",
       "            background-color:  #dcf08f;\n",
       "            color:  #000000;\n",
       "        }    #T_1ccf080c_728a_11ed_b1ff_1094bbd18074row0_col3 {\n",
       "            background-color:  #279f53;\n",
       "            color:  #000000;\n",
       "        }    #T_1ccf080c_728a_11ed_b1ff_1094bbd18074row0_col4 {\n",
       "            background-color:  #dcf08f;\n",
       "            color:  #000000;\n",
       "        }    #T_1ccf080c_728a_11ed_b1ff_1094bbd18074row0_col5 {\n",
       "            background-color:  #c7e77f;\n",
       "            color:  #000000;\n",
       "        }    #T_1ccf080c_728a_11ed_b1ff_1094bbd18074row1_col0 {\n",
       "            background-color:  #006837;\n",
       "            color:  #f1f1f1;\n",
       "        }    #T_1ccf080c_728a_11ed_b1ff_1094bbd18074row1_col1 {\n",
       "            background-color:  #b30d26;\n",
       "            color:  #f1f1f1;\n",
       "        }    #T_1ccf080c_728a_11ed_b1ff_1094bbd18074row1_col2 {\n",
       "            background-color:  #fffab6;\n",
       "            color:  #000000;\n",
       "        }    #T_1ccf080c_728a_11ed_b1ff_1094bbd18074row1_col3 {\n",
       "            background-color:  #5db961;\n",
       "            color:  #000000;\n",
       "        }    #T_1ccf080c_728a_11ed_b1ff_1094bbd18074row1_col4 {\n",
       "            background-color:  #fffab6;\n",
       "            color:  #000000;\n",
       "        }    #T_1ccf080c_728a_11ed_b1ff_1094bbd18074row1_col5 {\n",
       "            background-color:  #f2faae;\n",
       "            color:  #000000;\n",
       "        }    #T_1ccf080c_728a_11ed_b1ff_1094bbd18074row2_col0 {\n",
       "            background-color:  #fdfebc;\n",
       "            color:  #000000;\n",
       "        }    #T_1ccf080c_728a_11ed_b1ff_1094bbd18074row2_col1 {\n",
       "            background-color:  #a50026;\n",
       "            color:  #f1f1f1;\n",
       "        }    #T_1ccf080c_728a_11ed_b1ff_1094bbd18074row2_col2 {\n",
       "            background-color:  #1b9950;\n",
       "            color:  #000000;\n",
       "        }    #T_1ccf080c_728a_11ed_b1ff_1094bbd18074row2_col3 {\n",
       "            background-color:  #097940;\n",
       "            color:  #f1f1f1;\n",
       "        }    #T_1ccf080c_728a_11ed_b1ff_1094bbd18074row2_col4 {\n",
       "            background-color:  #1b9950;\n",
       "            color:  #000000;\n",
       "        }    #T_1ccf080c_728a_11ed_b1ff_1094bbd18074row2_col5 {\n",
       "            background-color:  #17934e;\n",
       "            color:  #000000;\n",
       "        }    #T_1ccf080c_728a_11ed_b1ff_1094bbd18074row3_col0 {\n",
       "            background-color:  #fff3ac;\n",
       "            color:  #000000;\n",
       "        }    #T_1ccf080c_728a_11ed_b1ff_1094bbd18074row3_col1 {\n",
       "            background-color:  #b10b26;\n",
       "            color:  #f1f1f1;\n",
       "        }    #T_1ccf080c_728a_11ed_b1ff_1094bbd18074row3_col2 {\n",
       "            background-color:  #04703b;\n",
       "            color:  #f1f1f1;\n",
       "        }    #T_1ccf080c_728a_11ed_b1ff_1094bbd18074row3_col3 {\n",
       "            background-color:  #006837;\n",
       "            color:  #f1f1f1;\n",
       "        }    #T_1ccf080c_728a_11ed_b1ff_1094bbd18074row3_col4 {\n",
       "            background-color:  #04703b;\n",
       "            color:  #f1f1f1;\n",
       "        }    #T_1ccf080c_728a_11ed_b1ff_1094bbd18074row3_col5 {\n",
       "            background-color:  #04703b;\n",
       "            color:  #f1f1f1;\n",
       "        }    #T_1ccf080c_728a_11ed_b1ff_1094bbd18074row4_col0 {\n",
       "            background-color:  #a50026;\n",
       "            color:  #f1f1f1;\n",
       "        }    #T_1ccf080c_728a_11ed_b1ff_1094bbd18074row4_col1 {\n",
       "            background-color:  #ad0826;\n",
       "            color:  #f1f1f1;\n",
       "        }    #T_1ccf080c_728a_11ed_b1ff_1094bbd18074row4_col2 {\n",
       "            background-color:  #006837;\n",
       "            color:  #f1f1f1;\n",
       "        }    #T_1ccf080c_728a_11ed_b1ff_1094bbd18074row4_col3 {\n",
       "            background-color:  #006837;\n",
       "            color:  #f1f1f1;\n",
       "        }    #T_1ccf080c_728a_11ed_b1ff_1094bbd18074row4_col4 {\n",
       "            background-color:  #006837;\n",
       "            color:  #f1f1f1;\n",
       "        }    #T_1ccf080c_728a_11ed_b1ff_1094bbd18074row4_col5 {\n",
       "            background-color:  #006837;\n",
       "            color:  #f1f1f1;\n",
       "        }    #T_1ccf080c_728a_11ed_b1ff_1094bbd18074row5_col0 {\n",
       "            background-color:  #a50026;\n",
       "            color:  #f1f1f1;\n",
       "        }    #T_1ccf080c_728a_11ed_b1ff_1094bbd18074row5_col1 {\n",
       "            background-color:  #af0926;\n",
       "            color:  #f1f1f1;\n",
       "        }    #T_1ccf080c_728a_11ed_b1ff_1094bbd18074row5_col2 {\n",
       "            background-color:  #016a38;\n",
       "            color:  #f1f1f1;\n",
       "        }    #T_1ccf080c_728a_11ed_b1ff_1094bbd18074row5_col3 {\n",
       "            background-color:  #06733d;\n",
       "            color:  #f1f1f1;\n",
       "        }    #T_1ccf080c_728a_11ed_b1ff_1094bbd18074row5_col4 {\n",
       "            background-color:  #016a38;\n",
       "            color:  #f1f1f1;\n",
       "        }    #T_1ccf080c_728a_11ed_b1ff_1094bbd18074row5_col5 {\n",
       "            background-color:  #016a38;\n",
       "            color:  #f1f1f1;\n",
       "        }    #T_1ccf080c_728a_11ed_b1ff_1094bbd18074row6_col0 {\n",
       "            background-color:  #bb1526;\n",
       "            color:  #f1f1f1;\n",
       "        }    #T_1ccf080c_728a_11ed_b1ff_1094bbd18074row6_col1 {\n",
       "            background-color:  #b30d26;\n",
       "            color:  #f1f1f1;\n",
       "        }    #T_1ccf080c_728a_11ed_b1ff_1094bbd18074row6_col2 {\n",
       "            background-color:  #097940;\n",
       "            color:  #f1f1f1;\n",
       "        }    #T_1ccf080c_728a_11ed_b1ff_1094bbd18074row6_col3 {\n",
       "            background-color:  #0c7f43;\n",
       "            color:  #f1f1f1;\n",
       "        }    #T_1ccf080c_728a_11ed_b1ff_1094bbd18074row6_col4 {\n",
       "            background-color:  #097940;\n",
       "            color:  #f1f1f1;\n",
       "        }    #T_1ccf080c_728a_11ed_b1ff_1094bbd18074row6_col5 {\n",
       "            background-color:  #08773f;\n",
       "            color:  #f1f1f1;\n",
       "        }    #T_1ccf080c_728a_11ed_b1ff_1094bbd18074row7_col0 {\n",
       "            background-color:  #f67a49;\n",
       "            color:  #000000;\n",
       "        }    #T_1ccf080c_728a_11ed_b1ff_1094bbd18074row7_col1 {\n",
       "            background-color:  #bd1726;\n",
       "            color:  #f1f1f1;\n",
       "        }    #T_1ccf080c_728a_11ed_b1ff_1094bbd18074row7_col2 {\n",
       "            background-color:  #097940;\n",
       "            color:  #f1f1f1;\n",
       "        }    #T_1ccf080c_728a_11ed_b1ff_1094bbd18074row7_col3 {\n",
       "            background-color:  #0b7d42;\n",
       "            color:  #f1f1f1;\n",
       "        }    #T_1ccf080c_728a_11ed_b1ff_1094bbd18074row7_col4 {\n",
       "            background-color:  #097940;\n",
       "            color:  #f1f1f1;\n",
       "        }    #T_1ccf080c_728a_11ed_b1ff_1094bbd18074row7_col5 {\n",
       "            background-color:  #097940;\n",
       "            color:  #f1f1f1;\n",
       "        }    #T_1ccf080c_728a_11ed_b1ff_1094bbd18074row8_col0 {\n",
       "            background-color:  #dc3b2c;\n",
       "            color:  #f1f1f1;\n",
       "        }    #T_1ccf080c_728a_11ed_b1ff_1094bbd18074row8_col1 {\n",
       "            background-color:  #d42d27;\n",
       "            color:  #f1f1f1;\n",
       "        }    #T_1ccf080c_728a_11ed_b1ff_1094bbd18074row8_col2 {\n",
       "            background-color:  #097940;\n",
       "            color:  #f1f1f1;\n",
       "        }    #T_1ccf080c_728a_11ed_b1ff_1094bbd18074row8_col3 {\n",
       "            background-color:  #0f8446;\n",
       "            color:  #f1f1f1;\n",
       "        }    #T_1ccf080c_728a_11ed_b1ff_1094bbd18074row8_col4 {\n",
       "            background-color:  #097940;\n",
       "            color:  #f1f1f1;\n",
       "        }    #T_1ccf080c_728a_11ed_b1ff_1094bbd18074row8_col5 {\n",
       "            background-color:  #097940;\n",
       "            color:  #f1f1f1;\n",
       "        }    #T_1ccf080c_728a_11ed_b1ff_1094bbd18074row9_col0 {\n",
       "            background-color:  #e9f6a1;\n",
       "            color:  #000000;\n",
       "        }    #T_1ccf080c_728a_11ed_b1ff_1094bbd18074row9_col1 {\n",
       "            background-color:  #f98e52;\n",
       "            color:  #000000;\n",
       "        }    #T_1ccf080c_728a_11ed_b1ff_1094bbd18074row9_col2 {\n",
       "            background-color:  #48ae5c;\n",
       "            color:  #000000;\n",
       "        }    #T_1ccf080c_728a_11ed_b1ff_1094bbd18074row9_col3 {\n",
       "            background-color:  #3ca959;\n",
       "            color:  #000000;\n",
       "        }    #T_1ccf080c_728a_11ed_b1ff_1094bbd18074row9_col4 {\n",
       "            background-color:  #48ae5c;\n",
       "            color:  #000000;\n",
       "        }    #T_1ccf080c_728a_11ed_b1ff_1094bbd18074row9_col5 {\n",
       "            background-color:  #42ac5a;\n",
       "            color:  #000000;\n",
       "        }    #T_1ccf080c_728a_11ed_b1ff_1094bbd18074row10_col0 {\n",
       "            background-color:  #84ca66;\n",
       "            color:  #000000;\n",
       "        }    #T_1ccf080c_728a_11ed_b1ff_1094bbd18074row10_col1 {\n",
       "            background-color:  #006837;\n",
       "            color:  #f1f1f1;\n",
       "        }    #T_1ccf080c_728a_11ed_b1ff_1094bbd18074row10_col2 {\n",
       "            background-color:  #a50026;\n",
       "            color:  #f1f1f1;\n",
       "        }    #T_1ccf080c_728a_11ed_b1ff_1094bbd18074row10_col3 {\n",
       "            background-color:  #a50026;\n",
       "            color:  #f1f1f1;\n",
       "        }    #T_1ccf080c_728a_11ed_b1ff_1094bbd18074row10_col4 {\n",
       "            background-color:  #a50026;\n",
       "            color:  #f1f1f1;\n",
       "        }    #T_1ccf080c_728a_11ed_b1ff_1094bbd18074row10_col5 {\n",
       "            background-color:  #a50026;\n",
       "            color:  #f1f1f1;\n",
       "        }</style><table id=\"T_1ccf080c_728a_11ed_b1ff_1094bbd18074\" ><thead>    <tr>        <th class=\"blank level0\" ></th>        <th class=\"col_heading level0 col0\" >fit_time</th>        <th class=\"col_heading level0 col1\" >score_time</th>        <th class=\"col_heading level0 col2\" >test_accuracy</th>        <th class=\"col_heading level0 col3\" >test_f1_macro</th>        <th class=\"col_heading level0 col4\" >test_f1_micro</th>        <th class=\"col_heading level0 col5\" >test_f1_weighted</th>    </tr></thead><tbody>\n",
       "                <tr>\n",
       "                        <th id=\"T_1ccf080c_728a_11ed_b1ff_1094bbd18074level0_row0\" class=\"row_heading level0 row0\" >1</th>\n",
       "                        <td id=\"T_1ccf080c_728a_11ed_b1ff_1094bbd18074row0_col0\" class=\"data row0 col0\" >0.0109198</td>\n",
       "                        <td id=\"T_1ccf080c_728a_11ed_b1ff_1094bbd18074row0_col1\" class=\"data row0 col1\" >0.0249912</td>\n",
       "                        <td id=\"T_1ccf080c_728a_11ed_b1ff_1094bbd18074row0_col2\" class=\"data row0 col2\" >0.910679</td>\n",
       "                        <td id=\"T_1ccf080c_728a_11ed_b1ff_1094bbd18074row0_col3\" class=\"data row0 col3\" >0.912706</td>\n",
       "                        <td id=\"T_1ccf080c_728a_11ed_b1ff_1094bbd18074row0_col4\" class=\"data row0 col4\" >0.910679</td>\n",
       "                        <td id=\"T_1ccf080c_728a_11ed_b1ff_1094bbd18074row0_col5\" class=\"data row0 col5\" >0.910465</td>\n",
       "            </tr>\n",
       "            <tr>\n",
       "                        <th id=\"T_1ccf080c_728a_11ed_b1ff_1094bbd18074level0_row1\" class=\"row_heading level0 row1\" >2</th>\n",
       "                        <td id=\"T_1ccf080c_728a_11ed_b1ff_1094bbd18074row1_col0\" class=\"data row1 col0\" >0.0121892</td>\n",
       "                        <td id=\"T_1ccf080c_728a_11ed_b1ff_1094bbd18074row1_col1\" class=\"data row1 col1\" >0.0308609</td>\n",
       "                        <td id=\"T_1ccf080c_728a_11ed_b1ff_1094bbd18074row1_col2\" class=\"data row1 col2\" >0.904292</td>\n",
       "                        <td id=\"T_1ccf080c_728a_11ed_b1ff_1094bbd18074row1_col3\" class=\"data row1 col3\" >0.901856</td>\n",
       "                        <td id=\"T_1ccf080c_728a_11ed_b1ff_1094bbd18074row1_col4\" class=\"data row1 col4\" >0.904292</td>\n",
       "                        <td id=\"T_1ccf080c_728a_11ed_b1ff_1094bbd18074row1_col5\" class=\"data row1 col5\" >0.903845</td>\n",
       "            </tr>\n",
       "            <tr>\n",
       "                        <th id=\"T_1ccf080c_728a_11ed_b1ff_1094bbd18074level0_row2\" class=\"row_heading level0 row2\" >3</th>\n",
       "                        <td id=\"T_1ccf080c_728a_11ed_b1ff_1094bbd18074row2_col0\" class=\"data row2 col0\" >0.00989943</td>\n",
       "                        <td id=\"T_1ccf080c_728a_11ed_b1ff_1094bbd18074row2_col1\" class=\"data row2 col1\" >0.0242789</td>\n",
       "                        <td id=\"T_1ccf080c_728a_11ed_b1ff_1094bbd18074row2_col2\" class=\"data row2 col2\" >0.928431</td>\n",
       "                        <td id=\"T_1ccf080c_728a_11ed_b1ff_1094bbd18074row2_col3\" class=\"data row2 col3\" >0.925076</td>\n",
       "                        <td id=\"T_1ccf080c_728a_11ed_b1ff_1094bbd18074row2_col4\" class=\"data row2 col4\" >0.928431</td>\n",
       "                        <td id=\"T_1ccf080c_728a_11ed_b1ff_1094bbd18074row2_col5\" class=\"data row2 col5\" >0.928225</td>\n",
       "            </tr>\n",
       "            <tr>\n",
       "                        <th id=\"T_1ccf080c_728a_11ed_b1ff_1094bbd18074level0_row3\" class=\"row_heading level0 row3\" >5</th>\n",
       "                        <td id=\"T_1ccf080c_728a_11ed_b1ff_1094bbd18074row3_col0\" class=\"data row3 col0\" >0.00969656</td>\n",
       "                        <td id=\"T_1ccf080c_728a_11ed_b1ff_1094bbd18074row3_col1\" class=\"data row3 col1\" >0.0304554</td>\n",
       "                        <td id=\"T_1ccf080c_728a_11ed_b1ff_1094bbd18074row3_col2\" class=\"data row3 col2\" >0.933408</td>\n",
       "                        <td id=\"T_1ccf080c_728a_11ed_b1ff_1094bbd18074row3_col3\" class=\"data row3 col3\" >0.930834</td>\n",
       "                        <td id=\"T_1ccf080c_728a_11ed_b1ff_1094bbd18074row3_col4\" class=\"data row3 col4\" >0.933408</td>\n",
       "                        <td id=\"T_1ccf080c_728a_11ed_b1ff_1094bbd18074row3_col5\" class=\"data row3 col5\" >0.933187</td>\n",
       "            </tr>\n",
       "            <tr>\n",
       "                        <th id=\"T_1ccf080c_728a_11ed_b1ff_1094bbd18074level0_row4\" class=\"row_heading level0 row4\" >10</th>\n",
       "                        <td id=\"T_1ccf080c_728a_11ed_b1ff_1094bbd18074row4_col0\" class=\"data row4 col0\" >0.00755582</td>\n",
       "                        <td id=\"T_1ccf080c_728a_11ed_b1ff_1094bbd18074row4_col1\" class=\"data row4 col1\" >0.0281225</td>\n",
       "                        <td id=\"T_1ccf080c_728a_11ed_b1ff_1094bbd18074row4_col2\" class=\"data row4 col2\" >0.934535</td>\n",
       "                        <td id=\"T_1ccf080c_728a_11ed_b1ff_1094bbd18074row4_col3\" class=\"data row4 col3\" >0.930376</td>\n",
       "                        <td id=\"T_1ccf080c_728a_11ed_b1ff_1094bbd18074row4_col4\" class=\"data row4 col4\" >0.934535</td>\n",
       "                        <td id=\"T_1ccf080c_728a_11ed_b1ff_1094bbd18074row4_col5\" class=\"data row4 col5\" >0.934253</td>\n",
       "            </tr>\n",
       "            <tr>\n",
       "                        <th id=\"T_1ccf080c_728a_11ed_b1ff_1094bbd18074level0_row5\" class=\"row_heading level0 row5\" >15</th>\n",
       "                        <td id=\"T_1ccf080c_728a_11ed_b1ff_1094bbd18074row5_col0\" class=\"data row5 col0\" >0.00755992</td>\n",
       "                        <td id=\"T_1ccf080c_728a_11ed_b1ff_1094bbd18074row5_col1\" class=\"data row5 col1\" >0.0292755</td>\n",
       "                        <td id=\"T_1ccf080c_728a_11ed_b1ff_1094bbd18074row5_col2\" class=\"data row5 col2\" >0.934254</td>\n",
       "                        <td id=\"T_1ccf080c_728a_11ed_b1ff_1094bbd18074row5_col3\" class=\"data row5 col3\" >0.926912</td>\n",
       "                        <td id=\"T_1ccf080c_728a_11ed_b1ff_1094bbd18074row5_col4\" class=\"data row5 col4\" >0.934254</td>\n",
       "                        <td id=\"T_1ccf080c_728a_11ed_b1ff_1094bbd18074row5_col5\" class=\"data row5 col5\" >0.933867</td>\n",
       "            </tr>\n",
       "            <tr>\n",
       "                        <th id=\"T_1ccf080c_728a_11ed_b1ff_1094bbd18074level0_row6\" class=\"row_heading level0 row6\" >20</th>\n",
       "                        <td id=\"T_1ccf080c_728a_11ed_b1ff_1094bbd18074row6_col0\" class=\"data row6 col0\" >0.00776103</td>\n",
       "                        <td id=\"T_1ccf080c_728a_11ed_b1ff_1094bbd18074row6_col1\" class=\"data row6 col1\" >0.031623</td>\n",
       "                        <td id=\"T_1ccf080c_728a_11ed_b1ff_1094bbd18074row6_col2\" class=\"data row6 col2\" >0.932469</td>\n",
       "                        <td id=\"T_1ccf080c_728a_11ed_b1ff_1094bbd18074row6_col3\" class=\"data row6 col3\" >0.923555</td>\n",
       "                        <td id=\"T_1ccf080c_728a_11ed_b1ff_1094bbd18074row6_col4\" class=\"data row6 col4\" >0.932469</td>\n",
       "                        <td id=\"T_1ccf080c_728a_11ed_b1ff_1094bbd18074row6_col5\" class=\"data row6 col5\" >0.932025</td>\n",
       "            </tr>\n",
       "            <tr>\n",
       "                        <th id=\"T_1ccf080c_728a_11ed_b1ff_1094bbd18074level0_row7\" class=\"row_heading level0 row7\" >25</th>\n",
       "                        <td id=\"T_1ccf080c_728a_11ed_b1ff_1094bbd18074row7_col0\" class=\"data row7 col0\" >0.00857093</td>\n",
       "                        <td id=\"T_1ccf080c_728a_11ed_b1ff_1094bbd18074row7_col1\" class=\"data row7 col1\" >0.0362436</td>\n",
       "                        <td id=\"T_1ccf080c_728a_11ed_b1ff_1094bbd18074row7_col2\" class=\"data row7 col2\" >0.932375</td>\n",
       "                        <td id=\"T_1ccf080c_728a_11ed_b1ff_1094bbd18074row7_col3\" class=\"data row7 col3\" >0.924209</td>\n",
       "                        <td id=\"T_1ccf080c_728a_11ed_b1ff_1094bbd18074row7_col4\" class=\"data row7 col4\" >0.932375</td>\n",
       "                        <td id=\"T_1ccf080c_728a_11ed_b1ff_1094bbd18074row7_col5\" class=\"data row7 col5\" >0.931913</td>\n",
       "            </tr>\n",
       "            <tr>\n",
       "                        <th id=\"T_1ccf080c_728a_11ed_b1ff_1094bbd18074level0_row8\" class=\"row_heading level0 row8\" >50</th>\n",
       "                        <td id=\"T_1ccf080c_728a_11ed_b1ff_1094bbd18074row8_col0\" class=\"data row8 col0\" >0.00810699</td>\n",
       "                        <td id=\"T_1ccf080c_728a_11ed_b1ff_1094bbd18074row8_col1\" class=\"data row8 col1\" >0.0466423</td>\n",
       "                        <td id=\"T_1ccf080c_728a_11ed_b1ff_1094bbd18074row8_col2\" class=\"data row8 col2\" >0.932469</td>\n",
       "                        <td id=\"T_1ccf080c_728a_11ed_b1ff_1094bbd18074row8_col3\" class=\"data row8 col3\" >0.92163</td>\n",
       "                        <td id=\"T_1ccf080c_728a_11ed_b1ff_1094bbd18074row8_col4\" class=\"data row8 col4\" >0.932469</td>\n",
       "                        <td id=\"T_1ccf080c_728a_11ed_b1ff_1094bbd18074row8_col5\" class=\"data row8 col5\" >0.931909</td>\n",
       "            </tr>\n",
       "            <tr>\n",
       "                        <th id=\"T_1ccf080c_728a_11ed_b1ff_1094bbd18074level0_row9\" class=\"row_heading level0 row9\" >100</th>\n",
       "                        <td id=\"T_1ccf080c_728a_11ed_b1ff_1094bbd18074row9_col0\" class=\"data row9 col0\" >0.0101286</td>\n",
       "                        <td id=\"T_1ccf080c_728a_11ed_b1ff_1094bbd18074row9_col1\" class=\"data row9 col1\" >0.0837814</td>\n",
       "                        <td id=\"T_1ccf080c_728a_11ed_b1ff_1094bbd18074row9_col2\" class=\"data row9 col2\" >0.924954</td>\n",
       "                        <td id=\"T_1ccf080c_728a_11ed_b1ff_1094bbd18074row9_col3\" class=\"data row9 col3\" >0.908161</td>\n",
       "                        <td id=\"T_1ccf080c_728a_11ed_b1ff_1094bbd18074row9_col4\" class=\"data row9 col4\" >0.924954</td>\n",
       "                        <td id=\"T_1ccf080c_728a_11ed_b1ff_1094bbd18074row9_col5\" class=\"data row9 col5\" >0.924174</td>\n",
       "            </tr>\n",
       "            <tr>\n",
       "                        <th id=\"T_1ccf080c_728a_11ed_b1ff_1094bbd18074level0_row10\" class=\"row_heading level0 row10\" >500</th>\n",
       "                        <td id=\"T_1ccf080c_728a_11ed_b1ff_1094bbd18074row10_col0\" class=\"data row10 col0\" >0.0110356</td>\n",
       "                        <td id=\"T_1ccf080c_728a_11ed_b1ff_1094bbd18074row10_col1\" class=\"data row10 col1\" >0.260757</td>\n",
       "                        <td id=\"T_1ccf080c_728a_11ed_b1ff_1094bbd18074row10_col2\" class=\"data row10 col2\" >0.876021</td>\n",
       "                        <td id=\"T_1ccf080c_728a_11ed_b1ff_1094bbd18074row10_col3\" class=\"data row10 col3\" >0.777496</td>\n",
       "                        <td id=\"T_1ccf080c_728a_11ed_b1ff_1094bbd18074row10_col4\" class=\"data row10 col4\" >0.876021</td>\n",
       "                        <td id=\"T_1ccf080c_728a_11ed_b1ff_1094bbd18074row10_col5\" class=\"data row10 col5\" >0.86886</td>\n",
       "            </tr>\n",
       "    </tbody></table>"
      ],
      "text/plain": [
       "<pandas.io.formats.style.Styler at 0x7faf783d9358>"
      ]
     },
     "execution_count": 63,
     "metadata": {},
     "output_type": "execute_result"
    }
   ],
   "source": [
    "neighbors = [1,2,3,5,10,15,20,25,50,100,500]\n",
    "n_scores = {}\n",
    "for n in neighbors:\n",
    "    n_scores[n] = cross_validate(\n",
    "        KNeighborsClassifier(n_neighbors=n),\n",
    "        X_knn_scaled,\n",
    "        train['type'],\n",
    "        cv= 10,\n",
    "        scoring=('accuracy','f1_macro','f1_micro','f1_weighted')\n",
    "        )\n",
    "compare_scores(n_scores)"
   ]
  },
  {
   "cell_type": "code",
   "execution_count": 115,
   "metadata": {},
   "outputs": [
    {
     "data": {
      "text/html": [
       "<style  type=\"text/css\" >\n",
       "    #T_abd686f4_732c_11ed_9a39_1094bbd18074row0_col0 {\n",
       "            background-color:  #006837;\n",
       "            color:  #f1f1f1;\n",
       "        }    #T_abd686f4_732c_11ed_9a39_1094bbd18074row0_col1 {\n",
       "            background-color:  #be1827;\n",
       "            color:  #f1f1f1;\n",
       "        }    #T_abd686f4_732c_11ed_9a39_1094bbd18074row0_col2 {\n",
       "            background-color:  #006837;\n",
       "            color:  #f1f1f1;\n",
       "        }    #T_abd686f4_732c_11ed_9a39_1094bbd18074row0_col3 {\n",
       "            background-color:  #006837;\n",
       "            color:  #f1f1f1;\n",
       "        }    #T_abd686f4_732c_11ed_9a39_1094bbd18074row0_col4 {\n",
       "            background-color:  #006837;\n",
       "            color:  #f1f1f1;\n",
       "        }    #T_abd686f4_732c_11ed_9a39_1094bbd18074row0_col5 {\n",
       "            background-color:  #006837;\n",
       "            color:  #f1f1f1;\n",
       "        }    #T_abd686f4_732c_11ed_9a39_1094bbd18074row1_col0 {\n",
       "            background-color:  #a50026;\n",
       "            color:  #f1f1f1;\n",
       "        }    #T_abd686f4_732c_11ed_9a39_1094bbd18074row1_col1 {\n",
       "            background-color:  #006837;\n",
       "            color:  #f1f1f1;\n",
       "        }    #T_abd686f4_732c_11ed_9a39_1094bbd18074row1_col2 {\n",
       "            background-color:  #a50026;\n",
       "            color:  #f1f1f1;\n",
       "        }    #T_abd686f4_732c_11ed_9a39_1094bbd18074row1_col3 {\n",
       "            background-color:  #a50026;\n",
       "            color:  #f1f1f1;\n",
       "        }    #T_abd686f4_732c_11ed_9a39_1094bbd18074row1_col4 {\n",
       "            background-color:  #a50026;\n",
       "            color:  #f1f1f1;\n",
       "        }    #T_abd686f4_732c_11ed_9a39_1094bbd18074row1_col5 {\n",
       "            background-color:  #a50026;\n",
       "            color:  #f1f1f1;\n",
       "        }    #T_abd686f4_732c_11ed_9a39_1094bbd18074row2_col0 {\n",
       "            background-color:  #dff293;\n",
       "            color:  #000000;\n",
       "        }    #T_abd686f4_732c_11ed_9a39_1094bbd18074row2_col1 {\n",
       "            background-color:  #bd1726;\n",
       "            color:  #f1f1f1;\n",
       "        }    #T_abd686f4_732c_11ed_9a39_1094bbd18074row2_col2 {\n",
       "            background-color:  #de402e;\n",
       "            color:  #f1f1f1;\n",
       "        }    #T_abd686f4_732c_11ed_9a39_1094bbd18074row2_col3 {\n",
       "            background-color:  #b7e075;\n",
       "            color:  #000000;\n",
       "        }    #T_abd686f4_732c_11ed_9a39_1094bbd18074row2_col4 {\n",
       "            background-color:  #de402e;\n",
       "            color:  #f1f1f1;\n",
       "        }    #T_abd686f4_732c_11ed_9a39_1094bbd18074row2_col5 {\n",
       "            background-color:  #e14430;\n",
       "            color:  #f1f1f1;\n",
       "        }    #T_abd686f4_732c_11ed_9a39_1094bbd18074row3_col0 {\n",
       "            background-color:  #199750;\n",
       "            color:  #000000;\n",
       "        }    #T_abd686f4_732c_11ed_9a39_1094bbd18074row3_col1 {\n",
       "            background-color:  #b10b26;\n",
       "            color:  #f1f1f1;\n",
       "        }    #T_abd686f4_732c_11ed_9a39_1094bbd18074row3_col2 {\n",
       "            background-color:  #006837;\n",
       "            color:  #f1f1f1;\n",
       "        }    #T_abd686f4_732c_11ed_9a39_1094bbd18074row3_col3 {\n",
       "            background-color:  #006837;\n",
       "            color:  #f1f1f1;\n",
       "        }    #T_abd686f4_732c_11ed_9a39_1094bbd18074row3_col4 {\n",
       "            background-color:  #006837;\n",
       "            color:  #f1f1f1;\n",
       "        }    #T_abd686f4_732c_11ed_9a39_1094bbd18074row3_col5 {\n",
       "            background-color:  #006837;\n",
       "            color:  #f1f1f1;\n",
       "        }    #T_abd686f4_732c_11ed_9a39_1094bbd18074row4_col0 {\n",
       "            background-color:  #bde379;\n",
       "            color:  #000000;\n",
       "        }    #T_abd686f4_732c_11ed_9a39_1094bbd18074row4_col1 {\n",
       "            background-color:  #bd1726;\n",
       "            color:  #f1f1f1;\n",
       "        }    #T_abd686f4_732c_11ed_9a39_1094bbd18074row4_col2 {\n",
       "            background-color:  #de402e;\n",
       "            color:  #f1f1f1;\n",
       "        }    #T_abd686f4_732c_11ed_9a39_1094bbd18074row4_col3 {\n",
       "            background-color:  #b7e075;\n",
       "            color:  #000000;\n",
       "        }    #T_abd686f4_732c_11ed_9a39_1094bbd18074row4_col4 {\n",
       "            background-color:  #de402e;\n",
       "            color:  #f1f1f1;\n",
       "        }    #T_abd686f4_732c_11ed_9a39_1094bbd18074row4_col5 {\n",
       "            background-color:  #e14430;\n",
       "            color:  #f1f1f1;\n",
       "        }    #T_abd686f4_732c_11ed_9a39_1094bbd18074row5_col0 {\n",
       "            background-color:  #ddf191;\n",
       "            color:  #000000;\n",
       "        }    #T_abd686f4_732c_11ed_9a39_1094bbd18074row5_col1 {\n",
       "            background-color:  #a50026;\n",
       "            color:  #f1f1f1;\n",
       "        }    #T_abd686f4_732c_11ed_9a39_1094bbd18074row5_col2 {\n",
       "            background-color:  #006837;\n",
       "            color:  #f1f1f1;\n",
       "        }    #T_abd686f4_732c_11ed_9a39_1094bbd18074row5_col3 {\n",
       "            background-color:  #006837;\n",
       "            color:  #f1f1f1;\n",
       "        }    #T_abd686f4_732c_11ed_9a39_1094bbd18074row5_col4 {\n",
       "            background-color:  #006837;\n",
       "            color:  #f1f1f1;\n",
       "        }    #T_abd686f4_732c_11ed_9a39_1094bbd18074row5_col5 {\n",
       "            background-color:  #006837;\n",
       "            color:  #f1f1f1;\n",
       "        }</style><table id=\"T_abd686f4_732c_11ed_9a39_1094bbd18074\" ><thead>    <tr>        <th class=\"blank level0\" ></th>        <th class=\"col_heading level0 col0\" >fit_time</th>        <th class=\"col_heading level0 col1\" >score_time</th>        <th class=\"col_heading level0 col2\" >test_accuracy</th>        <th class=\"col_heading level0 col3\" >test_f1_macro</th>        <th class=\"col_heading level0 col4\" >test_f1_micro</th>        <th class=\"col_heading level0 col5\" >test_f1_weighted</th>    </tr></thead><tbody>\n",
       "                <tr>\n",
       "                        <th id=\"T_abd686f4_732c_11ed_9a39_1094bbd18074level0_row0\" class=\"row_heading level0 row0\" >euclidean</th>\n",
       "                        <td id=\"T_abd686f4_732c_11ed_9a39_1094bbd18074row0_col0\" class=\"data row0 col0\" >0.0145284</td>\n",
       "                        <td id=\"T_abd686f4_732c_11ed_9a39_1094bbd18074row0_col1\" class=\"data row0 col1\" >0.0408689</td>\n",
       "                        <td id=\"T_abd686f4_732c_11ed_9a39_1094bbd18074row0_col2\" class=\"data row0 col2\" >0.933408</td>\n",
       "                        <td id=\"T_abd686f4_732c_11ed_9a39_1094bbd18074row0_col3\" class=\"data row0 col3\" >0.930834</td>\n",
       "                        <td id=\"T_abd686f4_732c_11ed_9a39_1094bbd18074row0_col4\" class=\"data row0 col4\" >0.933408</td>\n",
       "                        <td id=\"T_abd686f4_732c_11ed_9a39_1094bbd18074row0_col5\" class=\"data row0 col5\" >0.933187</td>\n",
       "            </tr>\n",
       "            <tr>\n",
       "                        <th id=\"T_abd686f4_732c_11ed_9a39_1094bbd18074level0_row1\" class=\"row_heading level0 row1\" >cosine</th>\n",
       "                        <td id=\"T_abd686f4_732c_11ed_9a39_1094bbd18074row1_col0\" class=\"data row1 col0\" >0.00275424</td>\n",
       "                        <td id=\"T_abd686f4_732c_11ed_9a39_1094bbd18074row1_col1\" class=\"data row1 col1\" >0.249444</td>\n",
       "                        <td id=\"T_abd686f4_732c_11ed_9a39_1094bbd18074row1_col2\" class=\"data row1 col2\" >0.931905</td>\n",
       "                        <td id=\"T_abd686f4_732c_11ed_9a39_1094bbd18074row1_col3\" class=\"data row1 col3\" >0.92843</td>\n",
       "                        <td id=\"T_abd686f4_732c_11ed_9a39_1094bbd18074row1_col4\" class=\"data row1 col4\" >0.931905</td>\n",
       "                        <td id=\"T_abd686f4_732c_11ed_9a39_1094bbd18074row1_col5\" class=\"data row1 col5\" >0.931655</td>\n",
       "            </tr>\n",
       "            <tr>\n",
       "                        <th id=\"T_abd686f4_732c_11ed_9a39_1094bbd18074level0_row2\" class=\"row_heading level0 row2\" >manhattan</th>\n",
       "                        <td id=\"T_abd686f4_732c_11ed_9a39_1094bbd18074row2_col0\" class=\"data row2 col0\" >0.00964038</td>\n",
       "                        <td id=\"T_abd686f4_732c_11ed_9a39_1094bbd18074row2_col1\" class=\"data row2 col1\" >0.039918</td>\n",
       "                        <td id=\"T_abd686f4_732c_11ed_9a39_1094bbd18074row2_col2\" class=\"data row2 col2\" >0.932094</td>\n",
       "                        <td id=\"T_abd686f4_732c_11ed_9a39_1094bbd18074row2_col3\" class=\"data row2 col3\" >0.930027</td>\n",
       "                        <td id=\"T_abd686f4_732c_11ed_9a39_1094bbd18074row2_col4\" class=\"data row2 col4\" >0.932094</td>\n",
       "                        <td id=\"T_abd686f4_732c_11ed_9a39_1094bbd18074row2_col5\" class=\"data row2 col5\" >0.931863</td>\n",
       "            </tr>\n",
       "            <tr>\n",
       "                        <th id=\"T_abd686f4_732c_11ed_9a39_1094bbd18074level0_row3\" class=\"row_heading level0 row3\" >minkowski</th>\n",
       "                        <td id=\"T_abd686f4_732c_11ed_9a39_1094bbd18074row3_col0\" class=\"data row3 col0\" >0.0133479</td>\n",
       "                        <td id=\"T_abd686f4_732c_11ed_9a39_1094bbd18074row3_col1\" class=\"data row3 col1\" >0.0347909</td>\n",
       "                        <td id=\"T_abd686f4_732c_11ed_9a39_1094bbd18074row3_col2\" class=\"data row3 col2\" >0.933408</td>\n",
       "                        <td id=\"T_abd686f4_732c_11ed_9a39_1094bbd18074row3_col3\" class=\"data row3 col3\" >0.930834</td>\n",
       "                        <td id=\"T_abd686f4_732c_11ed_9a39_1094bbd18074row3_col4\" class=\"data row3 col4\" >0.933408</td>\n",
       "                        <td id=\"T_abd686f4_732c_11ed_9a39_1094bbd18074row3_col5\" class=\"data row3 col5\" >0.933187</td>\n",
       "            </tr>\n",
       "            <tr>\n",
       "                        <th id=\"T_abd686f4_732c_11ed_9a39_1094bbd18074level0_row4\" class=\"row_heading level0 row4\" >l1</th>\n",
       "                        <td id=\"T_abd686f4_732c_11ed_9a39_1094bbd18074row4_col0\" class=\"data row4 col0\" >0.0104465</td>\n",
       "                        <td id=\"T_abd686f4_732c_11ed_9a39_1094bbd18074row4_col1\" class=\"data row4 col1\" >0.0395841</td>\n",
       "                        <td id=\"T_abd686f4_732c_11ed_9a39_1094bbd18074row4_col2\" class=\"data row4 col2\" >0.932094</td>\n",
       "                        <td id=\"T_abd686f4_732c_11ed_9a39_1094bbd18074row4_col3\" class=\"data row4 col3\" >0.930027</td>\n",
       "                        <td id=\"T_abd686f4_732c_11ed_9a39_1094bbd18074row4_col4\" class=\"data row4 col4\" >0.932094</td>\n",
       "                        <td id=\"T_abd686f4_732c_11ed_9a39_1094bbd18074row4_col5\" class=\"data row4 col5\" >0.931863</td>\n",
       "            </tr>\n",
       "            <tr>\n",
       "                        <th id=\"T_abd686f4_732c_11ed_9a39_1094bbd18074level0_row5\" class=\"row_heading level0 row5\" >l2</th>\n",
       "                        <td id=\"T_abd686f4_732c_11ed_9a39_1094bbd18074row5_col0\" class=\"data row5 col0\" >0.00965731</td>\n",
       "                        <td id=\"T_abd686f4_732c_11ed_9a39_1094bbd18074row5_col1\" class=\"data row5 col1\" >0.0291448</td>\n",
       "                        <td id=\"T_abd686f4_732c_11ed_9a39_1094bbd18074row5_col2\" class=\"data row5 col2\" >0.933408</td>\n",
       "                        <td id=\"T_abd686f4_732c_11ed_9a39_1094bbd18074row5_col3\" class=\"data row5 col3\" >0.930834</td>\n",
       "                        <td id=\"T_abd686f4_732c_11ed_9a39_1094bbd18074row5_col4\" class=\"data row5 col4\" >0.933408</td>\n",
       "                        <td id=\"T_abd686f4_732c_11ed_9a39_1094bbd18074row5_col5\" class=\"data row5 col5\" >0.933187</td>\n",
       "            </tr>\n",
       "    </tbody></table>"
      ],
      "text/plain": [
       "<pandas.io.formats.style.Styler at 0x7faf2f70df28>"
      ]
     },
     "execution_count": 115,
     "metadata": {},
     "output_type": "execute_result"
    }
   ],
   "source": [
    "distances = ['euclidean','cosine','manhattan', 'minkowski','l1','l2']\n",
    "d_scores = {}\n",
    "for n in distances:\n",
    "    d_scores[n] = cross_validate(\n",
    "        KNeighborsClassifier(metric=n),\n",
    "        X_knn_scaled,\n",
    "        train['type'],\n",
    "        cv= 10,\n",
    "        scoring=('accuracy','f1_macro','f1_micro','f1_weighted')\n",
    "        )\n",
    "compare_scores(d_scores)"
   ]
  },
  {
   "cell_type": "code",
   "execution_count": 114,
   "metadata": {},
   "outputs": [
    {
     "data": {
      "text/html": [
       "<style  type=\"text/css\" >\n",
       "    #T_a52e93fa_732c_11ed_968f_1094bbd18074row0_col0 {\n",
       "            background-color:  #a50026;\n",
       "            color:  #f1f1f1;\n",
       "        }    #T_a52e93fa_732c_11ed_968f_1094bbd18074row0_col1 {\n",
       "            background-color:  #a50026;\n",
       "            color:  #f1f1f1;\n",
       "        }    #T_a52e93fa_732c_11ed_968f_1094bbd18074row0_col2 {\n",
       "            background-color:  #006837;\n",
       "            color:  #f1f1f1;\n",
       "        }    #T_a52e93fa_732c_11ed_968f_1094bbd18074row0_col3 {\n",
       "            background-color:  #006837;\n",
       "            color:  #f1f1f1;\n",
       "        }    #T_a52e93fa_732c_11ed_968f_1094bbd18074row0_col4 {\n",
       "            background-color:  #006837;\n",
       "            color:  #f1f1f1;\n",
       "        }    #T_a52e93fa_732c_11ed_968f_1094bbd18074row0_col5 {\n",
       "            background-color:  #006837;\n",
       "            color:  #f1f1f1;\n",
       "        }    #T_a52e93fa_732c_11ed_968f_1094bbd18074row1_col0 {\n",
       "            background-color:  #006837;\n",
       "            color:  #f1f1f1;\n",
       "        }    #T_a52e93fa_732c_11ed_968f_1094bbd18074row1_col1 {\n",
       "            background-color:  #006837;\n",
       "            color:  #f1f1f1;\n",
       "        }    #T_a52e93fa_732c_11ed_968f_1094bbd18074row1_col2 {\n",
       "            background-color:  #a50026;\n",
       "            color:  #f1f1f1;\n",
       "        }    #T_a52e93fa_732c_11ed_968f_1094bbd18074row1_col3 {\n",
       "            background-color:  #a50026;\n",
       "            color:  #f1f1f1;\n",
       "        }    #T_a52e93fa_732c_11ed_968f_1094bbd18074row1_col4 {\n",
       "            background-color:  #a50026;\n",
       "            color:  #f1f1f1;\n",
       "        }    #T_a52e93fa_732c_11ed_968f_1094bbd18074row1_col5 {\n",
       "            background-color:  #a50026;\n",
       "            color:  #f1f1f1;\n",
       "        }</style><table id=\"T_a52e93fa_732c_11ed_968f_1094bbd18074\" ><thead>    <tr>        <th class=\"blank level0\" ></th>        <th class=\"col_heading level0 col0\" >fit_time</th>        <th class=\"col_heading level0 col1\" >score_time</th>        <th class=\"col_heading level0 col2\" >test_accuracy</th>        <th class=\"col_heading level0 col3\" >test_f1_macro</th>        <th class=\"col_heading level0 col4\" >test_f1_micro</th>        <th class=\"col_heading level0 col5\" >test_f1_weighted</th>    </tr></thead><tbody>\n",
       "                <tr>\n",
       "                        <th id=\"T_a52e93fa_732c_11ed_968f_1094bbd18074level0_row0\" class=\"row_heading level0 row0\" >uniform</th>\n",
       "                        <td id=\"T_a52e93fa_732c_11ed_968f_1094bbd18074row0_col0\" class=\"data row0 col0\" >0.0110787</td>\n",
       "                        <td id=\"T_a52e93fa_732c_11ed_968f_1094bbd18074row0_col1\" class=\"data row0 col1\" >0.0363686</td>\n",
       "                        <td id=\"T_a52e93fa_732c_11ed_968f_1094bbd18074row0_col2\" class=\"data row0 col2\" >0.933408</td>\n",
       "                        <td id=\"T_a52e93fa_732c_11ed_968f_1094bbd18074row0_col3\" class=\"data row0 col3\" >0.930834</td>\n",
       "                        <td id=\"T_a52e93fa_732c_11ed_968f_1094bbd18074row0_col4\" class=\"data row0 col4\" >0.933408</td>\n",
       "                        <td id=\"T_a52e93fa_732c_11ed_968f_1094bbd18074row0_col5\" class=\"data row0 col5\" >0.933187</td>\n",
       "            </tr>\n",
       "            <tr>\n",
       "                        <th id=\"T_a52e93fa_732c_11ed_968f_1094bbd18074level0_row1\" class=\"row_heading level0 row1\" >distance</th>\n",
       "                        <td id=\"T_a52e93fa_732c_11ed_968f_1094bbd18074row1_col0\" class=\"data row1 col0\" >0.0135234</td>\n",
       "                        <td id=\"T_a52e93fa_732c_11ed_968f_1094bbd18074row1_col1\" class=\"data row1 col1\" >0.0382564</td>\n",
       "                        <td id=\"T_a52e93fa_732c_11ed_968f_1094bbd18074row1_col2\" class=\"data row1 col2\" >0.932845</td>\n",
       "                        <td id=\"T_a52e93fa_732c_11ed_968f_1094bbd18074row1_col3\" class=\"data row1 col3\" >0.930194</td>\n",
       "                        <td id=\"T_a52e93fa_732c_11ed_968f_1094bbd18074row1_col4\" class=\"data row1 col4\" >0.932845</td>\n",
       "                        <td id=\"T_a52e93fa_732c_11ed_968f_1094bbd18074row1_col5\" class=\"data row1 col5\" >0.932642</td>\n",
       "            </tr>\n",
       "    </tbody></table>"
      ],
      "text/plain": [
       "<pandas.io.formats.style.Styler at 0x7faf48765048>"
      ]
     },
     "execution_count": 114,
     "metadata": {},
     "output_type": "execute_result"
    }
   ],
   "source": [
    "weights = ['uniform','distance']\n",
    "w_scores = {}\n",
    "for n in weights:\n",
    "    w_scores[n] = cross_validate(\n",
    "        KNeighborsClassifier(weights = n),\n",
    "        X_knn_scaled,\n",
    "        train['type'],\n",
    "        cv= 10,\n",
    "        scoring=('accuracy','f1_macro','f1_micro','f1_weighted')\n",
    "        )\n",
    "compare_scores(w_scores)"
   ]
  },
  {
   "cell_type": "code",
   "execution_count": 116,
   "metadata": {},
   "outputs": [],
   "source": [
    "model = KNeighborsClassifier()\n",
    "grid = dict(n_neighbors = neighbors,metric=distances,weights=weights)\n",
    "cv = RepeatedStratifiedKFold(n_splits=10, n_repeats=3, random_state=1)\n",
    "grid_search = GridSearchCV(estimator=model, param_grid=grid, n_jobs=-1, cv=cv, scoring='accuracy',error_score=0)\n",
    "grid_result = grid_search.fit(X_knn_scaled, train['type'])"
   ]
  },
  {
   "cell_type": "code",
   "execution_count": 118,
   "metadata": {},
   "outputs": [
    {
     "name": "stdout",
     "output_type": "stream",
     "text": [
      "Best: 0.935913 using {'metric': 'manhattan', 'n_neighbors': 15, 'weights': 'uniform'}\n"
     ]
    }
   ],
   "source": [
    "print(\"Best: %f using %s\" % (grid_result.best_score_, grid_result.best_params_))\n",
    "means = grid_result.cv_results_['mean_test_score']\n",
    "stds = grid_result.cv_results_['std_test_score']\n",
    "params = grid_result.cv_results_['params']\n",
    "# for mean, stdev, param in zip(means, stds, params):\n",
    "#     print(\"%f (%f) with: %r\" % (mean, stdev, param))"
   ]
  },
  {
   "cell_type": "markdown",
   "metadata": {},
   "source": [
    "#### Validation"
   ]
  },
  {
   "cell_type": "code",
   "execution_count": 26,
   "metadata": {},
   "outputs": [],
   "source": [
    "X_train, X_test, y_train, y_test = train_test_split(X_knn_scaled, train['type'], test_size= 0.3, random_state = 1)"
   ]
  },
  {
   "cell_type": "code",
   "execution_count": 27,
   "metadata": {},
   "outputs": [],
   "source": [
    "knn = KNeighborsClassifier(n_neighbors = 15,metric='manhattan')\n",
    "knn.fit(X_train, y_train)\n",
    "y_pred = knn.predict(X_test)"
   ]
  },
  {
   "cell_type": "code",
   "execution_count": 28,
   "metadata": {},
   "outputs": [
    {
     "data": {
      "image/png": "[encoded data removed]",
      "text/plain": [
       "<Figure size 432x288 with 2 Axes>"
      ]
     },
     "metadata": {},
     "output_type": "display_data"
    }
   ],
   "source": [
    "cm= metrics.plot_confusion_matrix(knn, X_test,y_test)\n",
    "plt.title('Confusion Matrix')\n",
    "plt.ylabel('Actual Values')\n",
    "plt.xlabel('Predicted Values')\n",
    "plt.show()"
   ]
  },
  {
   "cell_type": "code",
   "execution_count": 29,
   "metadata": {},
   "outputs": [
    {
     "name": "stdout",
     "output_type": "stream",
     "text": [
      "              precision    recall  f1-score   support\n",
      "\n",
      "           2       1.00      1.00      1.00       434\n",
      "           3       0.93      0.79      0.86        53\n",
      "           4       0.97      0.96      0.96       429\n",
      "           7       0.92      0.94      0.93       259\n",
      "           8       0.96      0.96      0.96       200\n",
      "           9       0.94      0.90      0.92       910\n",
      "          10       0.90      0.94      0.92       910\n",
      "\n",
      "    accuracy                           0.94      3195\n",
      "   macro avg       0.95      0.93      0.94      3195\n",
      "weighted avg       0.94      0.94      0.94      3195\n",
      "\n"
     ]
    }
   ],
   "source": [
    "print(metrics.classification_report(y_test,y_pred))"
   ]
  },
  {
   "cell_type": "markdown",
   "metadata": {},
   "source": [
    "### Single Decision Tree"
   ]
  },
  {
   "cell_type": "code",
   "execution_count": 351,
   "metadata": {},
   "outputs": [],
   "source": [
    "tree = DecisionTreeClassifier()"
   ]
  },
  {
   "cell_type": "code",
   "execution_count": 352,
   "metadata": {},
   "outputs": [
    {
     "name": "stdout",
     "output_type": "stream",
     "text": [
      "Testing 2 features accuracy: 0.746 (0.021)\n",
      "Testing 3 features accuracy: 0.836 (0.010)\n",
      "Testing 4 features accuracy: 0.868 (0.009)\n",
      "Testing 5 features accuracy: 0.885 (0.008)\n",
      "Testing 6 features accuracy: 0.896 (0.009)\n",
      "Testing 7 features accuracy: 0.893 (0.008)\n",
      "Testing 8 features accuracy: 0.895 (0.009)\n",
      "Testing 9 features accuracy: 0.894 (0.009)\n",
      "Testing 10 features accuracy: 0.894 (0.008)\n"
     ]
    },
    {
     "data": {
      "image/png": "[encoded data removed]",
      "text/plain": [
       "<Figure size 432x288 with 1 Axes>"
      ]
     },
     "metadata": {},
     "output_type": "display_data"
    },
    {
     "name": "stdout",
     "output_type": "stream",
     "text": [
      "Maximum cross-validated accuracy with 6 features: 0.8955948851000742\n"
     ]
    }
   ],
   "source": [
    "get_features_rfe(tree)"
   ]
  },
  {
   "cell_type": "code",
   "execution_count": 353,
   "metadata": {},
   "outputs": [
    {
     "name": "stdout",
     "output_type": "stream",
     "text": [
      "Attribute: pitcherid selected True, Rank: 1.000\n",
      "Attribute: yearid selected False, Rank: 5.000\n",
      "Attribute: height selected False, Rank: 4.000\n",
      "Attribute: initspeed selected True, Rank: 1.000\n",
      "Attribute: breakx selected True, Rank: 1.000\n",
      "Attribute: breakz selected True, Rank: 1.000\n",
      "Attribute: initposx selected True, Rank: 1.000\n",
      "Attribute: initposz selected False, Rank: 2.000\n",
      "Attribute: extension selected False, Rank: 3.000\n",
      "Attribute: spinrate selected True, Rank: 1.000\n"
     ]
    }
   ],
   "source": [
    "scaler = StandardScaler()\n",
    "model = DecisionTreeClassifier()\n",
    "rfe = RFE(estimator=model, n_features_to_select=6)\n",
    "pipeline = Pipeline(steps=[('s',rfe),('m',model)])\n",
    "scaled_pitch = scaler.fit_transform(pitch_data)\n",
    "rfe.fit(scaled_pitch,train['type'])\n",
    "\n",
    "for i in range(pitch_data.shape[1]):\n",
    "    print('Attribute:', pitch_data.columns[i], 'selected %s, Rank: %.3f' % (rfe.support_[i], rfe.ranking_[i]))"
   ]
  },
  {
   "cell_type": "markdown",
   "metadata": {},
   "source": [
    "The features that were selected by RFE were `pitcherid`, `initspeed`, `breakx`, `breakz`,`initposx`, and `spinrate`"
   ]
  },
  {
   "cell_type": "code",
   "execution_count": 122,
   "metadata": {},
   "outputs": [],
   "source": [
    "X_tree = pd.DataFrame(pitch_data,columns=['pitcherid', 'initspeed', 'breakx','breakz','initposx','spinrate'])\n",
    "X_tree_scaled = scaler.fit_transform(X_tree)"
   ]
  },
  {
   "cell_type": "markdown",
   "metadata": {},
   "source": [
    "#### Decision Tree Tuning"
   ]
  },
  {
   "cell_type": "code",
   "execution_count": 123,
   "metadata": {},
   "outputs": [
    {
     "data": {
      "text/html": [
       "<style  type=\"text/css\" >\n",
       "    #T_8966cb06_732e_11ed_add3_1094bbd18074row0_col0 {\n",
       "            background-color:  #a50026;\n",
       "            color:  #f1f1f1;\n",
       "        }    #T_8966cb06_732e_11ed_add3_1094bbd18074row0_col1 {\n",
       "            background-color:  #b3df72;\n",
       "            color:  #000000;\n",
       "        }    #T_8966cb06_732e_11ed_add3_1094bbd18074row0_col2 {\n",
       "            background-color:  #a50026;\n",
       "            color:  #f1f1f1;\n",
       "        }    #T_8966cb06_732e_11ed_add3_1094bbd18074row0_col3 {\n",
       "            background-color:  #a50026;\n",
       "            color:  #f1f1f1;\n",
       "        }    #T_8966cb06_732e_11ed_add3_1094bbd18074row0_col4 {\n",
       "            background-color:  #a50026;\n",
       "            color:  #f1f1f1;\n",
       "        }    #T_8966cb06_732e_11ed_add3_1094bbd18074row0_col5 {\n",
       "            background-color:  #a50026;\n",
       "            color:  #f1f1f1;\n",
       "        }    #T_8966cb06_732e_11ed_add3_1094bbd18074row1_col0 {\n",
       "            background-color:  #d83128;\n",
       "            color:  #f1f1f1;\n",
       "        }    #T_8966cb06_732e_11ed_add3_1094bbd18074row1_col1 {\n",
       "            background-color:  #a50026;\n",
       "            color:  #f1f1f1;\n",
       "        }    #T_8966cb06_732e_11ed_add3_1094bbd18074row1_col2 {\n",
       "            background-color:  #fffab6;\n",
       "            color:  #000000;\n",
       "        }    #T_8966cb06_732e_11ed_add3_1094bbd18074row1_col3 {\n",
       "            background-color:  #feec9f;\n",
       "            color:  #000000;\n",
       "        }    #T_8966cb06_732e_11ed_add3_1094bbd18074row1_col4 {\n",
       "            background-color:  #fffab6;\n",
       "            color:  #000000;\n",
       "        }    #T_8966cb06_732e_11ed_add3_1094bbd18074row1_col5 {\n",
       "            background-color:  #fffcba;\n",
       "            color:  #000000;\n",
       "        }    #T_8966cb06_732e_11ed_add3_1094bbd18074row2_col0 {\n",
       "            background-color:  #fed27f;\n",
       "            color:  #000000;\n",
       "        }    #T_8966cb06_732e_11ed_add3_1094bbd18074row2_col1 {\n",
       "            background-color:  #006837;\n",
       "            color:  #f1f1f1;\n",
       "        }    #T_8966cb06_732e_11ed_add3_1094bbd18074row2_col2 {\n",
       "            background-color:  #3faa59;\n",
       "            color:  #000000;\n",
       "        }    #T_8966cb06_732e_11ed_add3_1094bbd18074row2_col3 {\n",
       "            background-color:  #3faa59;\n",
       "            color:  #000000;\n",
       "        }    #T_8966cb06_732e_11ed_add3_1094bbd18074row2_col4 {\n",
       "            background-color:  #3faa59;\n",
       "            color:  #000000;\n",
       "        }    #T_8966cb06_732e_11ed_add3_1094bbd18074row2_col5 {\n",
       "            background-color:  #45ad5b;\n",
       "            color:  #000000;\n",
       "        }    #T_8966cb06_732e_11ed_add3_1094bbd18074row3_col0 {\n",
       "            background-color:  #daf08d;\n",
       "            color:  #000000;\n",
       "        }    #T_8966cb06_732e_11ed_add3_1094bbd18074row3_col1 {\n",
       "            background-color:  #60ba62;\n",
       "            color:  #000000;\n",
       "        }    #T_8966cb06_732e_11ed_add3_1094bbd18074row3_col2 {\n",
       "            background-color:  #4bb05c;\n",
       "            color:  #000000;\n",
       "        }    #T_8966cb06_732e_11ed_add3_1094bbd18074row3_col3 {\n",
       "            background-color:  #51b35e;\n",
       "            color:  #000000;\n",
       "        }    #T_8966cb06_732e_11ed_add3_1094bbd18074row3_col4 {\n",
       "            background-color:  #4bb05c;\n",
       "            color:  #000000;\n",
       "        }    #T_8966cb06_732e_11ed_add3_1094bbd18074row3_col5 {\n",
       "            background-color:  #4eb15d;\n",
       "            color:  #000000;\n",
       "        }    #T_8966cb06_732e_11ed_add3_1094bbd18074row4_col0 {\n",
       "            background-color:  #006837;\n",
       "            color:  #f1f1f1;\n",
       "        }    #T_8966cb06_732e_11ed_add3_1094bbd18074row4_col1 {\n",
       "            background-color:  #abdb6d;\n",
       "            color:  #000000;\n",
       "        }    #T_8966cb06_732e_11ed_add3_1094bbd18074row4_col2 {\n",
       "            background-color:  #006837;\n",
       "            color:  #f1f1f1;\n",
       "        }    #T_8966cb06_732e_11ed_add3_1094bbd18074row4_col3 {\n",
       "            background-color:  #006837;\n",
       "            color:  #f1f1f1;\n",
       "        }    #T_8966cb06_732e_11ed_add3_1094bbd18074row4_col4 {\n",
       "            background-color:  #006837;\n",
       "            color:  #f1f1f1;\n",
       "        }    #T_8966cb06_732e_11ed_add3_1094bbd18074row4_col5 {\n",
       "            background-color:  #006837;\n",
       "            color:  #f1f1f1;\n",
       "        }    #T_8966cb06_732e_11ed_add3_1094bbd18074row5_col0 {\n",
       "            background-color:  #0d8044;\n",
       "            color:  #f1f1f1;\n",
       "        }    #T_8966cb06_732e_11ed_add3_1094bbd18074row5_col1 {\n",
       "            background-color:  #e2f397;\n",
       "            color:  #000000;\n",
       "        }    #T_8966cb06_732e_11ed_add3_1094bbd18074row5_col2 {\n",
       "            background-color:  #69be63;\n",
       "            color:  #000000;\n",
       "        }    #T_8966cb06_732e_11ed_add3_1094bbd18074row5_col3 {\n",
       "            background-color:  #8ccd67;\n",
       "            color:  #000000;\n",
       "        }    #T_8966cb06_732e_11ed_add3_1094bbd18074row5_col4 {\n",
       "            background-color:  #69be63;\n",
       "            color:  #000000;\n",
       "        }    #T_8966cb06_732e_11ed_add3_1094bbd18074row5_col5 {\n",
       "            background-color:  #66bd63;\n",
       "            color:  #000000;\n",
       "        }</style><table id=\"T_8966cb06_732e_11ed_add3_1094bbd18074\" ><thead>    <tr>        <th class=\"blank level0\" ></th>        <th class=\"col_heading level0 col0\" >fit_time</th>        <th class=\"col_heading level0 col1\" >score_time</th>        <th class=\"col_heading level0 col2\" >test_accuracy</th>        <th class=\"col_heading level0 col3\" >test_f1_macro</th>        <th class=\"col_heading level0 col4\" >test_f1_micro</th>        <th class=\"col_heading level0 col5\" >test_f1_weighted</th>    </tr></thead><tbody>\n",
       "                <tr>\n",
       "                        <th id=\"T_8966cb06_732e_11ed_add3_1094bbd18074level0_row0\" class=\"row_heading level0 row0\" >1</th>\n",
       "                        <td id=\"T_8966cb06_732e_11ed_add3_1094bbd18074row0_col0\" class=\"data row0 col0\" >0.0198092</td>\n",
       "                        <td id=\"T_8966cb06_732e_11ed_add3_1094bbd18074row0_col1\" class=\"data row0 col1\" >0.0104658</td>\n",
       "                        <td id=\"T_8966cb06_732e_11ed_add3_1094bbd18074row0_col2\" class=\"data row0 col2\" >0.87649</td>\n",
       "                        <td id=\"T_8966cb06_732e_11ed_add3_1094bbd18074row0_col3\" class=\"data row0 col3\" >0.86583</td>\n",
       "                        <td id=\"T_8966cb06_732e_11ed_add3_1094bbd18074row0_col4\" class=\"data row0 col4\" >0.87649</td>\n",
       "                        <td id=\"T_8966cb06_732e_11ed_add3_1094bbd18074row0_col5\" class=\"data row0 col5\" >0.876361</td>\n",
       "            </tr>\n",
       "            <tr>\n",
       "                        <th id=\"T_8966cb06_732e_11ed_add3_1094bbd18074level0_row1\" class=\"row_heading level0 row1\" >2</th>\n",
       "                        <td id=\"T_8966cb06_732e_11ed_add3_1094bbd18074row1_col0\" class=\"data row1 col0\" >0.0253856</td>\n",
       "                        <td id=\"T_8966cb06_732e_11ed_add3_1094bbd18074row1_col1\" class=\"data row1 col1\" >0.00827067</td>\n",
       "                        <td id=\"T_8966cb06_732e_11ed_add3_1094bbd18074row1_col2\" class=\"data row1 col2\" >0.887577</td>\n",
       "                        <td id=\"T_8966cb06_732e_11ed_add3_1094bbd18074row1_col3\" class=\"data row1 col3\" >0.87912</td>\n",
       "                        <td id=\"T_8966cb06_732e_11ed_add3_1094bbd18074row1_col4\" class=\"data row1 col4\" >0.887577</td>\n",
       "                        <td id=\"T_8966cb06_732e_11ed_add3_1094bbd18074row1_col5\" class=\"data row1 col5\" >0.887634</td>\n",
       "            </tr>\n",
       "            <tr>\n",
       "                        <th id=\"T_8966cb06_732e_11ed_add3_1094bbd18074level0_row2\" class=\"row_heading level0 row2\" >3</th>\n",
       "                        <td id=\"T_8966cb06_732e_11ed_add3_1094bbd18074row2_col0\" class=\"data row2 col0\" >0.0397399</td>\n",
       "                        <td id=\"T_8966cb06_732e_11ed_add3_1094bbd18074row2_col1\" class=\"data row2 col1\" >0.0115253</td>\n",
       "                        <td id=\"T_8966cb06_732e_11ed_add3_1094bbd18074row2_col2\" class=\"data row2 col2\" >0.895933</td>\n",
       "                        <td id=\"T_8966cb06_732e_11ed_add3_1094bbd18074row2_col3\" class=\"data row2 col3\" >0.891531</td>\n",
       "                        <td id=\"T_8966cb06_732e_11ed_add3_1094bbd18074row2_col4\" class=\"data row2 col4\" >0.895933</td>\n",
       "                        <td id=\"T_8966cb06_732e_11ed_add3_1094bbd18074row2_col5\" class=\"data row2 col5\" >0.895765</td>\n",
       "            </tr>\n",
       "            <tr>\n",
       "                        <th id=\"T_8966cb06_732e_11ed_add3_1094bbd18074level0_row3\" class=\"row_heading level0 row3\" >4</th>\n",
       "                        <td id=\"T_8966cb06_732e_11ed_add3_1094bbd18074row3_col0\" class=\"data row3 col0\" >0.0518419</td>\n",
       "                        <td id=\"T_8966cb06_732e_11ed_add3_1094bbd18074row3_col1\" class=\"data row3 col1\" >0.0108967</td>\n",
       "                        <td id=\"T_8966cb06_732e_11ed_add3_1094bbd18074row3_col2\" class=\"data row3 col2\" >0.895558</td>\n",
       "                        <td id=\"T_8966cb06_732e_11ed_add3_1094bbd18074row3_col3\" class=\"data row3 col3\" >0.890804</td>\n",
       "                        <td id=\"T_8966cb06_732e_11ed_add3_1094bbd18074row3_col4\" class=\"data row3 col4\" >0.895558</td>\n",
       "                        <td id=\"T_8966cb06_732e_11ed_add3_1094bbd18074row3_col5\" class=\"data row3 col5\" >0.895414</td>\n",
       "            </tr>\n",
       "            <tr>\n",
       "                        <th id=\"T_8966cb06_732e_11ed_add3_1094bbd18074level0_row4\" class=\"row_heading level0 row4\" >5</th>\n",
       "                        <td id=\"T_8966cb06_732e_11ed_add3_1094bbd18074row4_col0\" class=\"data row4 col0\" >0.0734208</td>\n",
       "                        <td id=\"T_8966cb06_732e_11ed_add3_1094bbd18074row4_col1\" class=\"data row4 col1\" >0.0105198</td>\n",
       "                        <td id=\"T_8966cb06_732e_11ed_add3_1094bbd18074row4_col2\" class=\"data row4 col2\" >0.899407</td>\n",
       "                        <td id=\"T_8966cb06_732e_11ed_add3_1094bbd18074row4_col3\" class=\"data row4 col3\" >0.896054</td>\n",
       "                        <td id=\"T_8966cb06_732e_11ed_add3_1094bbd18074row4_col4\" class=\"data row4 col4\" >0.899407</td>\n",
       "                        <td id=\"T_8966cb06_732e_11ed_add3_1094bbd18074row4_col5\" class=\"data row4 col5\" >0.899364</td>\n",
       "            </tr>\n",
       "            <tr>\n",
       "                        <th id=\"T_8966cb06_732e_11ed_add3_1094bbd18074level0_row5\" class=\"row_heading level0 row5\" >6</th>\n",
       "                        <td id=\"T_8966cb06_732e_11ed_add3_1094bbd18074row5_col0\" class=\"data row5 col0\" >0.0706215</td>\n",
       "                        <td id=\"T_8966cb06_732e_11ed_add3_1094bbd18074row5_col1\" class=\"data row5 col1\" >0.0101503</td>\n",
       "                        <td id=\"T_8966cb06_732e_11ed_add3_1094bbd18074row5_col2\" class=\"data row5 col2\" >0.894711</td>\n",
       "                        <td id=\"T_8966cb06_732e_11ed_add3_1094bbd18074row5_col3\" class=\"data row5 col3\" >0.888211</td>\n",
       "                        <td id=\"T_8966cb06_732e_11ed_add3_1094bbd18074row5_col4\" class=\"data row5 col4\" >0.894711</td>\n",
       "                        <td id=\"T_8966cb06_732e_11ed_add3_1094bbd18074row5_col5\" class=\"data row5 col5\" >0.894767</td>\n",
       "            </tr>\n",
       "    </tbody></table>"
      ],
      "text/plain": [
       "<pandas.io.formats.style.Styler at 0x7faf2f7dcd68>"
      ]
     },
     "execution_count": 123,
     "metadata": {},
     "output_type": "execute_result"
    }
   ],
   "source": [
    "features = np.arange(1,7)\n",
    "f_scores = {}\n",
    "for n in features:\n",
    "    f_scores[n] = cross_validate(\n",
    "        DecisionTreeClassifier(max_features=n),\n",
    "        X_tree_scaled,\n",
    "        train['type'],\n",
    "        cv= 10,\n",
    "        scoring=('accuracy','f1_macro','f1_micro','f1_weighted')\n",
    "        )\n",
    "compare_scores(f_scores)"
   ]
  },
  {
   "cell_type": "code",
   "execution_count": 124,
   "metadata": {},
   "outputs": [
    {
     "data": {
      "text/html": [
       "<style  type=\"text/css\" >\n",
       "    #T_8b5f1286_732e_11ed_bf52_1094bbd18074row0_col0 {\n",
       "            background-color:  #a50026;\n",
       "            color:  #f1f1f1;\n",
       "        }    #T_8b5f1286_732e_11ed_bf52_1094bbd18074row0_col1 {\n",
       "            background-color:  #a50026;\n",
       "            color:  #f1f1f1;\n",
       "        }    #T_8b5f1286_732e_11ed_bf52_1094bbd18074row0_col2 {\n",
       "            background-color:  #a50026;\n",
       "            color:  #f1f1f1;\n",
       "        }    #T_8b5f1286_732e_11ed_bf52_1094bbd18074row0_col3 {\n",
       "            background-color:  #a50026;\n",
       "            color:  #f1f1f1;\n",
       "        }    #T_8b5f1286_732e_11ed_bf52_1094bbd18074row0_col4 {\n",
       "            background-color:  #a50026;\n",
       "            color:  #f1f1f1;\n",
       "        }    #T_8b5f1286_732e_11ed_bf52_1094bbd18074row0_col5 {\n",
       "            background-color:  #a50026;\n",
       "            color:  #f1f1f1;\n",
       "        }    #T_8b5f1286_732e_11ed_bf52_1094bbd18074row1_col0 {\n",
       "            background-color:  #006837;\n",
       "            color:  #f1f1f1;\n",
       "        }    #T_8b5f1286_732e_11ed_bf52_1094bbd18074row1_col1 {\n",
       "            background-color:  #006837;\n",
       "            color:  #f1f1f1;\n",
       "        }    #T_8b5f1286_732e_11ed_bf52_1094bbd18074row1_col2 {\n",
       "            background-color:  #006837;\n",
       "            color:  #f1f1f1;\n",
       "        }    #T_8b5f1286_732e_11ed_bf52_1094bbd18074row1_col3 {\n",
       "            background-color:  #006837;\n",
       "            color:  #f1f1f1;\n",
       "        }    #T_8b5f1286_732e_11ed_bf52_1094bbd18074row1_col4 {\n",
       "            background-color:  #006837;\n",
       "            color:  #f1f1f1;\n",
       "        }    #T_8b5f1286_732e_11ed_bf52_1094bbd18074row1_col5 {\n",
       "            background-color:  #006837;\n",
       "            color:  #f1f1f1;\n",
       "        }</style><table id=\"T_8b5f1286_732e_11ed_bf52_1094bbd18074\" ><thead>    <tr>        <th class=\"blank level0\" ></th>        <th class=\"col_heading level0 col0\" >fit_time</th>        <th class=\"col_heading level0 col1\" >score_time</th>        <th class=\"col_heading level0 col2\" >test_accuracy</th>        <th class=\"col_heading level0 col3\" >test_f1_macro</th>        <th class=\"col_heading level0 col4\" >test_f1_micro</th>        <th class=\"col_heading level0 col5\" >test_f1_weighted</th>    </tr></thead><tbody>\n",
       "                <tr>\n",
       "                        <th id=\"T_8b5f1286_732e_11ed_bf52_1094bbd18074level0_row0\" class=\"row_heading level0 row0\" >gini</th>\n",
       "                        <td id=\"T_8b5f1286_732e_11ed_bf52_1094bbd18074row0_col0\" class=\"data row0 col0\" >0.0732749</td>\n",
       "                        <td id=\"T_8b5f1286_732e_11ed_bf52_1094bbd18074row0_col1\" class=\"data row0 col1\" >0.0108867</td>\n",
       "                        <td id=\"T_8b5f1286_732e_11ed_bf52_1094bbd18074row0_col2\" class=\"data row0 col2\" >0.895087</td>\n",
       "                        <td id=\"T_8b5f1286_732e_11ed_bf52_1094bbd18074row0_col3\" class=\"data row0 col3\" >0.887757</td>\n",
       "                        <td id=\"T_8b5f1286_732e_11ed_bf52_1094bbd18074row0_col4\" class=\"data row0 col4\" >0.895087</td>\n",
       "                        <td id=\"T_8b5f1286_732e_11ed_bf52_1094bbd18074row0_col5\" class=\"data row0 col5\" >0.894994</td>\n",
       "            </tr>\n",
       "            <tr>\n",
       "                        <th id=\"T_8b5f1286_732e_11ed_bf52_1094bbd18074level0_row1\" class=\"row_heading level0 row1\" >entropy</th>\n",
       "                        <td id=\"T_8b5f1286_732e_11ed_bf52_1094bbd18074row1_col0\" class=\"data row1 col0\" >0.128231</td>\n",
       "                        <td id=\"T_8b5f1286_732e_11ed_bf52_1094bbd18074row1_col1\" class=\"data row1 col1\" >0.0141028</td>\n",
       "                        <td id=\"T_8b5f1286_732e_11ed_bf52_1094bbd18074row1_col2\" class=\"data row1 col2\" >0.897437</td>\n",
       "                        <td id=\"T_8b5f1286_732e_11ed_bf52_1094bbd18074row1_col3\" class=\"data row1 col3\" >0.897305</td>\n",
       "                        <td id=\"T_8b5f1286_732e_11ed_bf52_1094bbd18074row1_col4\" class=\"data row1 col4\" >0.897437</td>\n",
       "                        <td id=\"T_8b5f1286_732e_11ed_bf52_1094bbd18074row1_col5\" class=\"data row1 col5\" >0.897345</td>\n",
       "            </tr>\n",
       "    </tbody></table>"
      ],
      "text/plain": [
       "<pandas.io.formats.style.Styler at 0x7faf2f719ac8>"
      ]
     },
     "execution_count": 124,
     "metadata": {},
     "output_type": "execute_result"
    }
   ],
   "source": [
    "criteria = ['gini', 'entropy']\n",
    "c_scores = {}\n",
    "for n in criteria:\n",
    "    c_scores[n] = cross_validate(\n",
    "        DecisionTreeClassifier(criterion=n),\n",
    "        X_tree_scaled,\n",
    "        train['type'],\n",
    "        cv= 10,\n",
    "        scoring=('accuracy','f1_macro','f1_micro','f1_weighted')\n",
    "        )\n",
    "compare_scores(c_scores)"
   ]
  },
  {
   "cell_type": "code",
   "execution_count": 125,
   "metadata": {},
   "outputs": [
    {
     "data": {
      "text/html": [
       "<style  type=\"text/css\" >\n",
       "    #T_90188400_732f_11ed_9284_1094bbd18074row0_col0 {\n",
       "            background-color:  #006837;\n",
       "            color:  #f1f1f1;\n",
       "        }    #T_90188400_732f_11ed_9284_1094bbd18074row0_col1 {\n",
       "            background-color:  #006837;\n",
       "            color:  #f1f1f1;\n",
       "        }    #T_90188400_732f_11ed_9284_1094bbd18074row0_col2 {\n",
       "            background-color:  #a50026;\n",
       "            color:  #f1f1f1;\n",
       "        }    #T_90188400_732f_11ed_9284_1094bbd18074row0_col3 {\n",
       "            background-color:  #006837;\n",
       "            color:  #f1f1f1;\n",
       "        }    #T_90188400_732f_11ed_9284_1094bbd18074row0_col4 {\n",
       "            background-color:  #a50026;\n",
       "            color:  #f1f1f1;\n",
       "        }    #T_90188400_732f_11ed_9284_1094bbd18074row0_col5 {\n",
       "            background-color:  #a50026;\n",
       "            color:  #f1f1f1;\n",
       "        }    #T_90188400_732f_11ed_9284_1094bbd18074row1_col0 {\n",
       "            background-color:  #a50026;\n",
       "            color:  #f1f1f1;\n",
       "        }    #T_90188400_732f_11ed_9284_1094bbd18074row1_col1 {\n",
       "            background-color:  #a50026;\n",
       "            color:  #f1f1f1;\n",
       "        }    #T_90188400_732f_11ed_9284_1094bbd18074row1_col2 {\n",
       "            background-color:  #006837;\n",
       "            color:  #f1f1f1;\n",
       "        }    #T_90188400_732f_11ed_9284_1094bbd18074row1_col3 {\n",
       "            background-color:  #a50026;\n",
       "            color:  #f1f1f1;\n",
       "        }    #T_90188400_732f_11ed_9284_1094bbd18074row1_col4 {\n",
       "            background-color:  #006837;\n",
       "            color:  #f1f1f1;\n",
       "        }    #T_90188400_732f_11ed_9284_1094bbd18074row1_col5 {\n",
       "            background-color:  #006837;\n",
       "            color:  #f1f1f1;\n",
       "        }</style><table id=\"T_90188400_732f_11ed_9284_1094bbd18074\" ><thead>    <tr>        <th class=\"blank level0\" ></th>        <th class=\"col_heading level0 col0\" >fit_time</th>        <th class=\"col_heading level0 col1\" >score_time</th>        <th class=\"col_heading level0 col2\" >test_accuracy</th>        <th class=\"col_heading level0 col3\" >test_f1_macro</th>        <th class=\"col_heading level0 col4\" >test_f1_micro</th>        <th class=\"col_heading level0 col5\" >test_f1_weighted</th>    </tr></thead><tbody>\n",
       "                <tr>\n",
       "                        <th id=\"T_90188400_732f_11ed_9284_1094bbd18074level0_row0\" class=\"row_heading level0 row0\" >best</th>\n",
       "                        <td id=\"T_90188400_732f_11ed_9284_1094bbd18074row0_col0\" class=\"data row0 col0\" >0.0678787</td>\n",
       "                        <td id=\"T_90188400_732f_11ed_9284_1094bbd18074row0_col1\" class=\"data row0 col1\" >0.0078788</td>\n",
       "                        <td id=\"T_90188400_732f_11ed_9284_1094bbd18074row0_col2\" class=\"data row0 col2\" >0.896027</td>\n",
       "                        <td id=\"T_90188400_732f_11ed_9284_1094bbd18074row0_col3\" class=\"data row0 col3\" >0.890845</td>\n",
       "                        <td id=\"T_90188400_732f_11ed_9284_1094bbd18074row0_col4\" class=\"data row0 col4\" >0.896027</td>\n",
       "                        <td id=\"T_90188400_732f_11ed_9284_1094bbd18074row0_col5\" class=\"data row0 col5\" >0.896013</td>\n",
       "            </tr>\n",
       "            <tr>\n",
       "                        <th id=\"T_90188400_732f_11ed_9284_1094bbd18074level0_row1\" class=\"row_heading level0 row1\" >random</th>\n",
       "                        <td id=\"T_90188400_732f_11ed_9284_1094bbd18074row1_col0\" class=\"data row1 col0\" >0.0083988</td>\n",
       "                        <td id=\"T_90188400_732f_11ed_9284_1094bbd18074row1_col1\" class=\"data row1 col1\" >0.00718935</td>\n",
       "                        <td id=\"T_90188400_732f_11ed_9284_1094bbd18074row1_col2\" class=\"data row1 col2\" >0.89678</td>\n",
       "                        <td id=\"T_90188400_732f_11ed_9284_1094bbd18074row1_col3\" class=\"data row1 col3\" >0.886112</td>\n",
       "                        <td id=\"T_90188400_732f_11ed_9284_1094bbd18074row1_col4\" class=\"data row1 col4\" >0.89678</td>\n",
       "                        <td id=\"T_90188400_732f_11ed_9284_1094bbd18074row1_col5\" class=\"data row1 col5\" >0.896763</td>\n",
       "            </tr>\n",
       "    </tbody></table>"
      ],
      "text/plain": [
       "<pandas.io.formats.style.Styler at 0x7faf2f7fabe0>"
      ]
     },
     "execution_count": 125,
     "metadata": {},
     "output_type": "execute_result"
    }
   ],
   "source": [
    "splitters = ['best','random']\n",
    "s_scores = {}\n",
    "for n in splitters:\n",
    "    s_scores[n] = cross_validate(\n",
    "        DecisionTreeClassifier(splitter=n),\n",
    "        X_tree_scaled,\n",
    "        train['type'],\n",
    "        cv= 10,\n",
    "        scoring=('accuracy','f1_macro','f1_micro','f1_weighted')\n",
    "        )\n",
    "compare_scores(s_scores)"
   ]
  },
  {
   "cell_type": "code",
   "execution_count": 126,
   "metadata": {},
   "outputs": [],
   "source": [
    "model = DecisionTreeClassifier()\n",
    "grid = dict(max_features = features,criterion=criteria,splitter=splitters)\n",
    "cv = RepeatedStratifiedKFold(n_splits=10, n_repeats=3, random_state=1)\n",
    "grid_search = GridSearchCV(estimator=model, param_grid=grid, n_jobs=-1, cv=cv, scoring='accuracy',error_score=0)\n",
    "grid_result = grid_search.fit(X_scaled, train['type'])"
   ]
  },
  {
   "cell_type": "code",
   "execution_count": 128,
   "metadata": {},
   "outputs": [
    {
     "name": "stdout",
     "output_type": "stream",
     "text": [
      "Best: 0.904354 using {'criterion': 'entropy', 'max_features': 6, 'splitter': 'best'}\n"
     ]
    }
   ],
   "source": [
    "print(\"Best: %f using %s\" % (grid_result.best_score_, grid_result.best_params_))\n",
    "means = grid_result.cv_results_['mean_test_score']\n",
    "stds = grid_result.cv_results_['std_test_score']\n",
    "params = grid_result.cv_results_['params']\n",
    "# for mean, stdev, param in zip(means, stds, params):\n",
    "#     print(\"%f (%f) with: %r\" % (mean, stdev, param))"
   ]
  },
  {
   "cell_type": "markdown",
   "metadata": {},
   "source": [
    "### Validation"
   ]
  },
  {
   "cell_type": "code",
   "execution_count": 129,
   "metadata": {},
   "outputs": [],
   "source": [
    "X_train, X_test, y_train, y_test = train_test_split(X_tree_scaled, train['type'], test_size= 0.2, random_state = 1)"
   ]
  },
  {
   "cell_type": "code",
   "execution_count": 130,
   "metadata": {},
   "outputs": [],
   "source": [
    "d_tree = DecisionTreeClassifier(max_features=6,criterion='entropy',splitter='best')\n",
    "d_tree.fit(X_train, y_train)\n",
    "y_pred = d_tree.predict(X_test)"
   ]
  },
  {
   "cell_type": "code",
   "execution_count": 131,
   "metadata": {},
   "outputs": [
    {
     "data": {
      "image/png": "[encoded data removed]",
      "text/plain": [
       "<Figure size 432x288 with 2 Axes>"
      ]
     },
     "metadata": {},
     "output_type": "display_data"
    }
   ],
   "source": [
    "cm= metrics.plot_confusion_matrix(d_tree, X_test,y_test)\n",
    "plt.title('Confusion Matrix')\n",
    "plt.ylabel('Actual Values')\n",
    "plt.xlabel('Predicted Values')\n",
    "plt.show()"
   ]
  },
  {
   "cell_type": "code",
   "execution_count": 132,
   "metadata": {},
   "outputs": [
    {
     "name": "stdout",
     "output_type": "stream",
     "text": [
      "              precision    recall  f1-score   support\n",
      "\n",
      "           2       0.99      1.00      0.99       293\n",
      "           3       0.78      0.89      0.83        35\n",
      "           4       0.95      0.93      0.94       284\n",
      "           7       0.92      0.89      0.91       171\n",
      "           8       0.98      0.94      0.96       135\n",
      "           9       0.87      0.89      0.88       617\n",
      "          10       0.88      0.88      0.88       595\n",
      "\n",
      "    accuracy                           0.91      2130\n",
      "   macro avg       0.91      0.92      0.91      2130\n",
      "weighted avg       0.91      0.91      0.91      2130\n",
      "\n"
     ]
    }
   ],
   "source": [
    "print(metrics.classification_report(y_test,y_pred))"
   ]
  },
  {
   "cell_type": "markdown",
   "metadata": {},
   "source": [
    "### Random Forest"
   ]
  },
  {
   "cell_type": "code",
   "execution_count": 30,
   "metadata": {},
   "outputs": [],
   "source": [
    "forest = RandomForestClassifier()"
   ]
  },
  {
   "cell_type": "code",
   "execution_count": 369,
   "metadata": {},
   "outputs": [
    {
     "name": "stdout",
     "output_type": "stream",
     "text": [
      "Testing 2 features accuracy: 0.681 (0.013)\n",
      "Testing 3 features accuracy: 0.803 (0.013)\n",
      "Testing 4 features accuracy: 0.908 (0.008)\n",
      "Testing 5 features accuracy: 0.925 (0.009)\n",
      "Testing 6 features accuracy: 0.935 (0.008)\n",
      "Testing 7 features accuracy: 0.936 (0.008)\n",
      "Testing 8 features accuracy: 0.938 (0.008)\n",
      "Testing 9 features accuracy: 0.937 (0.007)\n",
      "Testing 10 features accuracy: 0.938 (0.008)\n"
     ]
    },
    {
     "data": {
      "image/png": "[encoded data removed]",
      "text/plain": [
       "<Figure size 432x288 with 1 Axes>"
      ]
     },
     "metadata": {},
     "output_type": "display_data"
    },
    {
     "name": "stdout",
     "output_type": "stream",
     "text": [
      "Maximum cross-validated accuracy with 8 features: 0.9384992410603975\n"
     ]
    }
   ],
   "source": [
    "get_features_kbest(forest)"
   ]
  },
  {
   "cell_type": "code",
   "execution_count": 31,
   "metadata": {},
   "outputs": [
    {
     "name": "stdout",
     "output_type": "stream",
     "text": [
      "Attribute: pitcherid\n",
      "Attribute: height\n",
      "Attribute: initspeed\n",
      "Attribute: breakx\n",
      "Attribute: breakz\n",
      "Attribute: initposx\n",
      "Attribute: initposz\n",
      "Attribute: spinrate\n"
     ]
    }
   ],
   "source": [
    "scaler = StandardScaler()\n",
    "k_best = SelectKBest(f_classif,k=8)\n",
    "pipeline = Pipeline(steps=[('s',k_best),('m',forest)])\n",
    "scaled_pitch = scaler.fit_transform(pitch_data)\n",
    "k_best.fit(scaled_pitch,train['type'])\n",
    "\n",
    "cols = k_best.get_support(indices=True)\n",
    "for i in cols:\n",
    "    print('Attribute:', pitch_data.columns[i])"
   ]
  },
  {
   "cell_type": "markdown",
   "metadata": {},
   "source": [
    "The features that were selected by SelectKBest were `pitcherid`,`height`, `initspeed`, `breakx`, `breakz`, `initposx`,`initposz`, and `spinrate`"
   ]
  },
  {
   "cell_type": "code",
   "execution_count": 32,
   "metadata": {},
   "outputs": [],
   "source": [
    "X_forest = pd.DataFrame(pitch_data,columns=['pitcherid','height', 'initspeed', 'breakx','breakz','initposx','initposz','spinrate'])\n",
    "X_forest_scaled = scaler.fit_transform(X_forest)"
   ]
  },
  {
   "cell_type": "markdown",
   "metadata": {},
   "source": [
    "#### Random Forest Tuning"
   ]
  },
  {
   "cell_type": "code",
   "execution_count": 414,
   "metadata": {},
   "outputs": [
    {
     "data": {
      "text/html": [
       "<style  type=\"text/css\" >\n",
       "    #T_649339b6_727f_11ed_a90b_1094bbd18074row0_col0 {\n",
       "            background-color:  #a50026;\n",
       "            color:  #f1f1f1;\n",
       "        }    #T_649339b6_727f_11ed_a90b_1094bbd18074row0_col1 {\n",
       "            background-color:  #51b35e;\n",
       "            color:  #000000;\n",
       "        }    #T_649339b6_727f_11ed_a90b_1094bbd18074row0_col2 {\n",
       "            background-color:  #006837;\n",
       "            color:  #f1f1f1;\n",
       "        }    #T_649339b6_727f_11ed_a90b_1094bbd18074row0_col3 {\n",
       "            background-color:  #b1de71;\n",
       "            color:  #000000;\n",
       "        }    #T_649339b6_727f_11ed_a90b_1094bbd18074row0_col4 {\n",
       "            background-color:  #006837;\n",
       "            color:  #f1f1f1;\n",
       "        }    #T_649339b6_727f_11ed_a90b_1094bbd18074row0_col5 {\n",
       "            background-color:  #006837;\n",
       "            color:  #f1f1f1;\n",
       "        }    #T_649339b6_727f_11ed_a90b_1094bbd18074row1_col0 {\n",
       "            background-color:  #e14430;\n",
       "            color:  #f1f1f1;\n",
       "        }    #T_649339b6_727f_11ed_a90b_1094bbd18074row1_col1 {\n",
       "            background-color:  #006837;\n",
       "            color:  #f1f1f1;\n",
       "        }    #T_649339b6_727f_11ed_a90b_1094bbd18074row1_col2 {\n",
       "            background-color:  #036e3a;\n",
       "            color:  #f1f1f1;\n",
       "        }    #T_649339b6_727f_11ed_a90b_1094bbd18074row1_col3 {\n",
       "            background-color:  #006837;\n",
       "            color:  #f1f1f1;\n",
       "        }    #T_649339b6_727f_11ed_a90b_1094bbd18074row1_col4 {\n",
       "            background-color:  #036e3a;\n",
       "            color:  #f1f1f1;\n",
       "        }    #T_649339b6_727f_11ed_a90b_1094bbd18074row1_col5 {\n",
       "            background-color:  #016a38;\n",
       "            color:  #f1f1f1;\n",
       "        }    #T_649339b6_727f_11ed_a90b_1094bbd18074row2_col0 {\n",
       "            background-color:  #f8864f;\n",
       "            color:  #000000;\n",
       "        }    #T_649339b6_727f_11ed_a90b_1094bbd18074row2_col1 {\n",
       "            background-color:  #fee28f;\n",
       "            color:  #000000;\n",
       "        }    #T_649339b6_727f_11ed_a90b_1094bbd18074row2_col2 {\n",
       "            background-color:  #0e8245;\n",
       "            color:  #f1f1f1;\n",
       "        }    #T_649339b6_727f_11ed_a90b_1094bbd18074row2_col3 {\n",
       "            background-color:  #51b35e;\n",
       "            color:  #000000;\n",
       "        }    #T_649339b6_727f_11ed_a90b_1094bbd18074row2_col4 {\n",
       "            background-color:  #0e8245;\n",
       "            color:  #f1f1f1;\n",
       "        }    #T_649339b6_727f_11ed_a90b_1094bbd18074row2_col5 {\n",
       "            background-color:  #0b7d42;\n",
       "            color:  #f1f1f1;\n",
       "        }    #T_649339b6_727f_11ed_a90b_1094bbd18074row3_col0 {\n",
       "            background-color:  #fff3ac;\n",
       "            color:  #000000;\n",
       "        }    #T_649339b6_727f_11ed_a90b_1094bbd18074row3_col1 {\n",
       "            background-color:  #fbfdba;\n",
       "            color:  #000000;\n",
       "        }    #T_649339b6_727f_11ed_a90b_1094bbd18074row3_col2 {\n",
       "            background-color:  #7fc866;\n",
       "            color:  #000000;\n",
       "        }    #T_649339b6_727f_11ed_a90b_1094bbd18074row3_col3 {\n",
       "            background-color:  #b7e075;\n",
       "            color:  #000000;\n",
       "        }    #T_649339b6_727f_11ed_a90b_1094bbd18074row3_col4 {\n",
       "            background-color:  #7fc866;\n",
       "            color:  #000000;\n",
       "        }    #T_649339b6_727f_11ed_a90b_1094bbd18074row3_col5 {\n",
       "            background-color:  #78c565;\n",
       "            color:  #000000;\n",
       "        }    #T_649339b6_727f_11ed_a90b_1094bbd18074row4_col0 {\n",
       "            background-color:  #f5fbb2;\n",
       "            color:  #000000;\n",
       "        }    #T_649339b6_727f_11ed_a90b_1094bbd18074row4_col1 {\n",
       "            background-color:  #fb9d59;\n",
       "            color:  #000000;\n",
       "        }    #T_649339b6_727f_11ed_a90b_1094bbd18074row4_col2 {\n",
       "            background-color:  #a2d76a;\n",
       "            color:  #000000;\n",
       "        }    #T_649339b6_727f_11ed_a90b_1094bbd18074row4_col3 {\n",
       "            background-color:  #d9ef8b;\n",
       "            color:  #000000;\n",
       "        }    #T_649339b6_727f_11ed_a90b_1094bbd18074row4_col4 {\n",
       "            background-color:  #a2d76a;\n",
       "            color:  #000000;\n",
       "        }    #T_649339b6_727f_11ed_a90b_1094bbd18074row4_col5 {\n",
       "            background-color:  #a0d669;\n",
       "            color:  #000000;\n",
       "        }    #T_649339b6_727f_11ed_a90b_1094bbd18074row5_col0 {\n",
       "            background-color:  #afdd70;\n",
       "            color:  #000000;\n",
       "        }    #T_649339b6_727f_11ed_a90b_1094bbd18074row5_col1 {\n",
       "            background-color:  #e24731;\n",
       "            color:  #f1f1f1;\n",
       "        }    #T_649339b6_727f_11ed_a90b_1094bbd18074row5_col2 {\n",
       "            background-color:  #e6f59d;\n",
       "            color:  #000000;\n",
       "        }    #T_649339b6_727f_11ed_a90b_1094bbd18074row5_col3 {\n",
       "            background-color:  #fff7b2;\n",
       "            color:  #000000;\n",
       "        }    #T_649339b6_727f_11ed_a90b_1094bbd18074row5_col4 {\n",
       "            background-color:  #e6f59d;\n",
       "            color:  #000000;\n",
       "        }    #T_649339b6_727f_11ed_a90b_1094bbd18074row5_col5 {\n",
       "            background-color:  #e2f397;\n",
       "            color:  #000000;\n",
       "        }    #T_649339b6_727f_11ed_a90b_1094bbd18074row6_col0 {\n",
       "            background-color:  #51b35e;\n",
       "            color:  #000000;\n",
       "        }    #T_649339b6_727f_11ed_a90b_1094bbd18074row6_col1 {\n",
       "            background-color:  #fa9b58;\n",
       "            color:  #000000;\n",
       "        }    #T_649339b6_727f_11ed_a90b_1094bbd18074row6_col2 {\n",
       "            background-color:  #fdb365;\n",
       "            color:  #000000;\n",
       "        }    #T_649339b6_727f_11ed_a90b_1094bbd18074row6_col3 {\n",
       "            background-color:  #eb5a3a;\n",
       "            color:  #000000;\n",
       "        }    #T_649339b6_727f_11ed_a90b_1094bbd18074row6_col4 {\n",
       "            background-color:  #fdb365;\n",
       "            color:  #000000;\n",
       "        }    #T_649339b6_727f_11ed_a90b_1094bbd18074row6_col5 {\n",
       "            background-color:  #fdb768;\n",
       "            color:  #000000;\n",
       "        }    #T_649339b6_727f_11ed_a90b_1094bbd18074row7_col0 {\n",
       "            background-color:  #006837;\n",
       "            color:  #f1f1f1;\n",
       "        }    #T_649339b6_727f_11ed_a90b_1094bbd18074row7_col1 {\n",
       "            background-color:  #a50026;\n",
       "            color:  #f1f1f1;\n",
       "        }    #T_649339b6_727f_11ed_a90b_1094bbd18074row7_col2 {\n",
       "            background-color:  #a50026;\n",
       "            color:  #f1f1f1;\n",
       "        }    #T_649339b6_727f_11ed_a90b_1094bbd18074row7_col3 {\n",
       "            background-color:  #a50026;\n",
       "            color:  #f1f1f1;\n",
       "        }    #T_649339b6_727f_11ed_a90b_1094bbd18074row7_col4 {\n",
       "            background-color:  #a50026;\n",
       "            color:  #f1f1f1;\n",
       "        }    #T_649339b6_727f_11ed_a90b_1094bbd18074row7_col5 {\n",
       "            background-color:  #a50026;\n",
       "            color:  #f1f1f1;\n",
       "        }</style><table id=\"T_649339b6_727f_11ed_a90b_1094bbd18074\" ><thead>    <tr>        <th class=\"blank level0\" ></th>        <th class=\"col_heading level0 col0\" >fit_time</th>        <th class=\"col_heading level0 col1\" >score_time</th>        <th class=\"col_heading level0 col2\" >test_accuracy</th>        <th class=\"col_heading level0 col3\" >test_f1_macro</th>        <th class=\"col_heading level0 col4\" >test_f1_micro</th>        <th class=\"col_heading level0 col5\" >test_f1_weighted</th>    </tr></thead><tbody>\n",
       "                <tr>\n",
       "                        <th id=\"T_649339b6_727f_11ed_a90b_1094bbd18074level0_row0\" class=\"row_heading level0 row0\" >1</th>\n",
       "                        <td id=\"T_649339b6_727f_11ed_a90b_1094bbd18074row0_col0\" class=\"data row0 col0\" >1.15569</td>\n",
       "                        <td id=\"T_649339b6_727f_11ed_a90b_1094bbd18074row0_col1\" class=\"data row0 col1\" >0.0483065</td>\n",
       "                        <td id=\"T_649339b6_727f_11ed_a90b_1094bbd18074row0_col2\" class=\"data row0 col2\" >0.937259</td>\n",
       "                        <td id=\"T_649339b6_727f_11ed_a90b_1094bbd18074row0_col3\" class=\"data row0 col3\" >0.935962</td>\n",
       "                        <td id=\"T_649339b6_727f_11ed_a90b_1094bbd18074row0_col4\" class=\"data row0 col4\" >0.937259</td>\n",
       "                        <td id=\"T_649339b6_727f_11ed_a90b_1094bbd18074row0_col5\" class=\"data row0 col5\" >0.937016</td>\n",
       "            </tr>\n",
       "            <tr>\n",
       "                        <th id=\"T_649339b6_727f_11ed_a90b_1094bbd18074level0_row1\" class=\"row_heading level0 row1\" >2</th>\n",
       "                        <td id=\"T_649339b6_727f_11ed_a90b_1094bbd18074row1_col0\" class=\"data row1 col0\" >1.65163</td>\n",
       "                        <td id=\"T_649339b6_727f_11ed_a90b_1094bbd18074row1_col1\" class=\"data row1 col1\" >0.0507456</td>\n",
       "                        <td id=\"T_649339b6_727f_11ed_a90b_1094bbd18074row1_col2\" class=\"data row1 col2\" >0.937166</td>\n",
       "                        <td id=\"T_649339b6_727f_11ed_a90b_1094bbd18074row1_col3\" class=\"data row1 col3\" >0.938818</td>\n",
       "                        <td id=\"T_649339b6_727f_11ed_a90b_1094bbd18074row1_col4\" class=\"data row1 col4\" >0.937166</td>\n",
       "                        <td id=\"T_649339b6_727f_11ed_a90b_1094bbd18074row1_col5\" class=\"data row1 col5\" >0.936978</td>\n",
       "            </tr>\n",
       "            <tr>\n",
       "                        <th id=\"T_649339b6_727f_11ed_a90b_1094bbd18074level0_row2\" class=\"row_heading level0 row2\" >3</th>\n",
       "                        <td id=\"T_649339b6_727f_11ed_a90b_1094bbd18074row2_col0\" class=\"data row2 col0\" >2.04617</td>\n",
       "                        <td id=\"T_649339b6_727f_11ed_a90b_1094bbd18074row2_col1\" class=\"data row2 col1\" >0.0425189</td>\n",
       "                        <td id=\"T_649339b6_727f_11ed_a90b_1094bbd18074row2_col2\" class=\"data row2 col2\" >0.936884</td>\n",
       "                        <td id=\"T_649339b6_727f_11ed_a90b_1094bbd18074row2_col3\" class=\"data row2 col3\" >0.937297</td>\n",
       "                        <td id=\"T_649339b6_727f_11ed_a90b_1094bbd18074row2_col4\" class=\"data row2 col4\" >0.936884</td>\n",
       "                        <td id=\"T_649339b6_727f_11ed_a90b_1094bbd18074row2_col5\" class=\"data row2 col5\" >0.936723</td>\n",
       "            </tr>\n",
       "            <tr>\n",
       "                        <th id=\"T_649339b6_727f_11ed_a90b_1094bbd18074level0_row3\" class=\"row_heading level0 row3\" >4</th>\n",
       "                        <td id=\"T_649339b6_727f_11ed_a90b_1094bbd18074row3_col0\" class=\"data row3 col0\" >2.87885</td>\n",
       "                        <td id=\"T_649339b6_727f_11ed_a90b_1094bbd18074row3_col1\" class=\"data row3 col1\" >0.0439143</td>\n",
       "                        <td id=\"T_649339b6_727f_11ed_a90b_1094bbd18074row3_col2\" class=\"data row3 col2\" >0.935663</td>\n",
       "                        <td id=\"T_649339b6_727f_11ed_a90b_1094bbd18074row3_col3\" class=\"data row3 col3\" >0.935882</td>\n",
       "                        <td id=\"T_649339b6_727f_11ed_a90b_1094bbd18074row3_col4\" class=\"data row3 col4\" >0.935663</td>\n",
       "                        <td id=\"T_649339b6_727f_11ed_a90b_1094bbd18074row3_col5\" class=\"data row3 col5\" >0.935526</td>\n",
       "            </tr>\n",
       "            <tr>\n",
       "                        <th id=\"T_649339b6_727f_11ed_a90b_1094bbd18074level0_row4\" class=\"row_heading level0 row4\" >5</th>\n",
       "                        <td id=\"T_649339b6_727f_11ed_a90b_1094bbd18074row4_col0\" class=\"data row4 col0\" >3.11698</td>\n",
       "                        <td id=\"T_649339b6_727f_11ed_a90b_1094bbd18074row4_col1\" class=\"data row4 col1\" >0.0406836</td>\n",
       "                        <td id=\"T_649339b6_727f_11ed_a90b_1094bbd18074row4_col2\" class=\"data row4 col2\" >0.935287</td>\n",
       "                        <td id=\"T_649339b6_727f_11ed_a90b_1094bbd18074row4_col3\" class=\"data row4 col3\" >0.935287</td>\n",
       "                        <td id=\"T_649339b6_727f_11ed_a90b_1094bbd18074row4_col4\" class=\"data row4 col4\" >0.935287</td>\n",
       "                        <td id=\"T_649339b6_727f_11ed_a90b_1094bbd18074row4_col5\" class=\"data row4 col5\" >0.935115</td>\n",
       "            </tr>\n",
       "            <tr>\n",
       "                        <th id=\"T_649339b6_727f_11ed_a90b_1094bbd18074level0_row5\" class=\"row_heading level0 row5\" >6</th>\n",
       "                        <td id=\"T_649339b6_727f_11ed_a90b_1094bbd18074row5_col0\" class=\"data row5 col0\" >3.69826</td>\n",
       "                        <td id=\"T_649339b6_727f_11ed_a90b_1094bbd18074row5_col1\" class=\"data row5 col1\" >0.038798</td>\n",
       "                        <td id=\"T_649339b6_727f_11ed_a90b_1094bbd18074row5_col2\" class=\"data row5 col2\" >0.934347</td>\n",
       "                        <td id=\"T_649339b6_727f_11ed_a90b_1094bbd18074row5_col3\" class=\"data row5 col3\" >0.93418</td>\n",
       "                        <td id=\"T_649339b6_727f_11ed_a90b_1094bbd18074row5_col4\" class=\"data row5 col4\" >0.934347</td>\n",
       "                        <td id=\"T_649339b6_727f_11ed_a90b_1094bbd18074row5_col5\" class=\"data row5 col5\" >0.934236</td>\n",
       "            </tr>\n",
       "            <tr>\n",
       "                        <th id=\"T_649339b6_727f_11ed_a90b_1094bbd18074level0_row6\" class=\"row_heading level0 row6\" >7</th>\n",
       "                        <td id=\"T_649339b6_727f_11ed_a90b_1094bbd18074row6_col0\" class=\"data row6 col0\" >4.22964</td>\n",
       "                        <td id=\"T_649339b6_727f_11ed_a90b_1094bbd18074row6_col1\" class=\"data row6 col1\" >0.0406429</td>\n",
       "                        <td id=\"T_649339b6_727f_11ed_a90b_1094bbd18074row6_col2\" class=\"data row6 col2\" >0.932657</td>\n",
       "                        <td id=\"T_649339b6_727f_11ed_a90b_1094bbd18074row6_col3\" class=\"data row6 col3\" >0.931494</td>\n",
       "                        <td id=\"T_649339b6_727f_11ed_a90b_1094bbd18074row6_col4\" class=\"data row6 col4\" >0.932657</td>\n",
       "                        <td id=\"T_649339b6_727f_11ed_a90b_1094bbd18074row6_col5\" class=\"data row6 col5\" >0.932548</td>\n",
       "            </tr>\n",
       "            <tr>\n",
       "                        <th id=\"T_649339b6_727f_11ed_a90b_1094bbd18074level0_row7\" class=\"row_heading level0 row7\" >8</th>\n",
       "                        <td id=\"T_649339b6_727f_11ed_a90b_1094bbd18074row7_col0\" class=\"data row7 col0\" >4.88027</td>\n",
       "                        <td id=\"T_649339b6_727f_11ed_a90b_1094bbd18074row7_col1\" class=\"data row7 col1\" >0.0368465</td>\n",
       "                        <td id=\"T_649339b6_727f_11ed_a90b_1094bbd18074row7_col2\" class=\"data row7 col2\" >0.93059</td>\n",
       "                        <td id=\"T_649339b6_727f_11ed_a90b_1094bbd18074row7_col3\" class=\"data row7 col3\" >0.929976</td>\n",
       "                        <td id=\"T_649339b6_727f_11ed_a90b_1094bbd18074row7_col4\" class=\"data row7 col4\" >0.93059</td>\n",
       "                        <td id=\"T_649339b6_727f_11ed_a90b_1094bbd18074row7_col5\" class=\"data row7 col5\" >0.930479</td>\n",
       "            </tr>\n",
       "    </tbody></table>"
      ],
      "text/plain": [
       "<pandas.io.formats.style.Styler at 0x7fcf5c4ae5f8>"
      ]
     },
     "execution_count": 414,
     "metadata": {},
     "output_type": "execute_result"
    }
   ],
   "source": [
    "features = np.arange(1,9)\n",
    "f_scores = {}\n",
    "for n in features:\n",
    "    f_scores[n] = cross_validate(\n",
    "        RandomForestClassifier(max_features=n),\n",
    "        X_forest_scaled,\n",
    "        train['type'],\n",
    "        cv= 10,\n",
    "        scoring=('accuracy','f1_macro','f1_micro','f1_weighted')\n",
    "        )\n",
    "compare_scores(f_scores)"
   ]
  },
  {
   "cell_type": "code",
   "execution_count": 415,
   "metadata": {},
   "outputs": [
    {
     "data": {
      "text/html": [
       "<style  type=\"text/css\" >\n",
       "    #T_7e520a12_727f_11ed_bbf3_1094bbd18074row0_col0 {\n",
       "            background-color:  #006837;\n",
       "            color:  #f1f1f1;\n",
       "        }    #T_7e520a12_727f_11ed_bbf3_1094bbd18074row0_col1 {\n",
       "            background-color:  #006837;\n",
       "            color:  #f1f1f1;\n",
       "        }    #T_7e520a12_727f_11ed_bbf3_1094bbd18074row0_col2 {\n",
       "            background-color:  #a50026;\n",
       "            color:  #f1f1f1;\n",
       "        }    #T_7e520a12_727f_11ed_bbf3_1094bbd18074row0_col3 {\n",
       "            background-color:  #a50026;\n",
       "            color:  #f1f1f1;\n",
       "        }    #T_7e520a12_727f_11ed_bbf3_1094bbd18074row0_col4 {\n",
       "            background-color:  #a50026;\n",
       "            color:  #f1f1f1;\n",
       "        }    #T_7e520a12_727f_11ed_bbf3_1094bbd18074row0_col5 {\n",
       "            background-color:  #a50026;\n",
       "            color:  #f1f1f1;\n",
       "        }    #T_7e520a12_727f_11ed_bbf3_1094bbd18074row1_col0 {\n",
       "            background-color:  #a50026;\n",
       "            color:  #f1f1f1;\n",
       "        }    #T_7e520a12_727f_11ed_bbf3_1094bbd18074row1_col1 {\n",
       "            background-color:  #a50026;\n",
       "            color:  #f1f1f1;\n",
       "        }    #T_7e520a12_727f_11ed_bbf3_1094bbd18074row1_col2 {\n",
       "            background-color:  #006837;\n",
       "            color:  #f1f1f1;\n",
       "        }    #T_7e520a12_727f_11ed_bbf3_1094bbd18074row1_col3 {\n",
       "            background-color:  #006837;\n",
       "            color:  #f1f1f1;\n",
       "        }    #T_7e520a12_727f_11ed_bbf3_1094bbd18074row1_col4 {\n",
       "            background-color:  #006837;\n",
       "            color:  #f1f1f1;\n",
       "        }    #T_7e520a12_727f_11ed_bbf3_1094bbd18074row1_col5 {\n",
       "            background-color:  #006837;\n",
       "            color:  #f1f1f1;\n",
       "        }</style><table id=\"T_7e520a12_727f_11ed_bbf3_1094bbd18074\" ><thead>    <tr>        <th class=\"blank level0\" ></th>        <th class=\"col_heading level0 col0\" >fit_time</th>        <th class=\"col_heading level0 col1\" >score_time</th>        <th class=\"col_heading level0 col2\" >test_accuracy</th>        <th class=\"col_heading level0 col3\" >test_f1_macro</th>        <th class=\"col_heading level0 col4\" >test_f1_micro</th>        <th class=\"col_heading level0 col5\" >test_f1_weighted</th>    </tr></thead><tbody>\n",
       "                <tr>\n",
       "                        <th id=\"T_7e520a12_727f_11ed_bbf3_1094bbd18074level0_row0\" class=\"row_heading level0 row0\" >log2</th>\n",
       "                        <td id=\"T_7e520a12_727f_11ed_bbf3_1094bbd18074row0_col0\" class=\"data row0 col0\" >2.1633</td>\n",
       "                        <td id=\"T_7e520a12_727f_11ed_bbf3_1094bbd18074row0_col1\" class=\"data row0 col1\" >0.045995</td>\n",
       "                        <td id=\"T_7e520a12_727f_11ed_bbf3_1094bbd18074row0_col2\" class=\"data row0 col2\" >0.935663</td>\n",
       "                        <td id=\"T_7e520a12_727f_11ed_bbf3_1094bbd18074row0_col3\" class=\"data row0 col3\" >0.936168</td>\n",
       "                        <td id=\"T_7e520a12_727f_11ed_bbf3_1094bbd18074row0_col4\" class=\"data row0 col4\" >0.935663</td>\n",
       "                        <td id=\"T_7e520a12_727f_11ed_bbf3_1094bbd18074row0_col5\" class=\"data row0 col5\" >0.9355</td>\n",
       "            </tr>\n",
       "            <tr>\n",
       "                        <th id=\"T_7e520a12_727f_11ed_bbf3_1094bbd18074level0_row1\" class=\"row_heading level0 row1\" >sqrt</th>\n",
       "                        <td id=\"T_7e520a12_727f_11ed_bbf3_1094bbd18074row1_col0\" class=\"data row1 col0\" >2.05643</td>\n",
       "                        <td id=\"T_7e520a12_727f_11ed_bbf3_1094bbd18074row1_col1\" class=\"data row1 col1\" >0.0418918</td>\n",
       "                        <td id=\"T_7e520a12_727f_11ed_bbf3_1094bbd18074row1_col2\" class=\"data row1 col2\" >0.937635</td>\n",
       "                        <td id=\"T_7e520a12_727f_11ed_bbf3_1094bbd18074row1_col3\" class=\"data row1 col3\" >0.937594</td>\n",
       "                        <td id=\"T_7e520a12_727f_11ed_bbf3_1094bbd18074row1_col4\" class=\"data row1 col4\" >0.937635</td>\n",
       "                        <td id=\"T_7e520a12_727f_11ed_bbf3_1094bbd18074row1_col5\" class=\"data row1 col5\" >0.937465</td>\n",
       "            </tr>\n",
       "    </tbody></table>"
      ],
      "text/plain": [
       "<pandas.io.formats.style.Styler at 0x7fcf5bc90ef0>"
      ]
     },
     "execution_count": 415,
     "metadata": {},
     "output_type": "execute_result"
    }
   ],
   "source": [
    "features = ['log2','sqrt']\n",
    "f_scores = {}\n",
    "for n in features:\n",
    "    f_scores[n] = cross_validate(\n",
    "        RandomForestClassifier(max_features=n),\n",
    "        X_forest_scaled,\n",
    "        train['type'],\n",
    "        cv= 10,\n",
    "        scoring=('accuracy','f1_macro','f1_micro','f1_weighted')\n",
    "        )\n",
    "compare_scores(f_scores)"
   ]
  },
  {
   "cell_type": "code",
   "execution_count": 134,
   "metadata": {},
   "outputs": [
    {
     "data": {
      "text/html": [
       "<style  type=\"text/css\" >\n",
       "    #T_67eae4f8_7331_11ed_850e_1094bbd18074row0_col0 {\n",
       "            background-color:  #a50026;\n",
       "            color:  #f1f1f1;\n",
       "        }    #T_67eae4f8_7331_11ed_850e_1094bbd18074row0_col1 {\n",
       "            background-color:  #a70226;\n",
       "            color:  #f1f1f1;\n",
       "        }    #T_67eae4f8_7331_11ed_850e_1094bbd18074row0_col2 {\n",
       "            background-color:  #a50026;\n",
       "            color:  #f1f1f1;\n",
       "        }    #T_67eae4f8_7331_11ed_850e_1094bbd18074row0_col3 {\n",
       "            background-color:  #a50026;\n",
       "            color:  #f1f1f1;\n",
       "        }    #T_67eae4f8_7331_11ed_850e_1094bbd18074row0_col4 {\n",
       "            background-color:  #a50026;\n",
       "            color:  #f1f1f1;\n",
       "        }    #T_67eae4f8_7331_11ed_850e_1094bbd18074row0_col5 {\n",
       "            background-color:  #a50026;\n",
       "            color:  #f1f1f1;\n",
       "        }    #T_67eae4f8_7331_11ed_850e_1094bbd18074row1_col0 {\n",
       "            background-color:  #a70226;\n",
       "            color:  #f1f1f1;\n",
       "        }    #T_67eae4f8_7331_11ed_850e_1094bbd18074row1_col1 {\n",
       "            background-color:  #a50026;\n",
       "            color:  #f1f1f1;\n",
       "        }    #T_67eae4f8_7331_11ed_850e_1094bbd18074row1_col2 {\n",
       "            background-color:  #2da155;\n",
       "            color:  #000000;\n",
       "        }    #T_67eae4f8_7331_11ed_850e_1094bbd18074row1_col3 {\n",
       "            background-color:  #33a456;\n",
       "            color:  #000000;\n",
       "        }    #T_67eae4f8_7331_11ed_850e_1094bbd18074row1_col4 {\n",
       "            background-color:  #2da155;\n",
       "            color:  #000000;\n",
       "        }    #T_67eae4f8_7331_11ed_850e_1094bbd18074row1_col5 {\n",
       "            background-color:  #2da155;\n",
       "            color:  #000000;\n",
       "        }    #T_67eae4f8_7331_11ed_850e_1094bbd18074row2_col0 {\n",
       "            background-color:  #bd1726;\n",
       "            color:  #f1f1f1;\n",
       "        }    #T_67eae4f8_7331_11ed_850e_1094bbd18074row2_col1 {\n",
       "            background-color:  #bb1526;\n",
       "            color:  #f1f1f1;\n",
       "        }    #T_67eae4f8_7331_11ed_850e_1094bbd18074row2_col2 {\n",
       "            background-color:  #0b7d42;\n",
       "            color:  #f1f1f1;\n",
       "        }    #T_67eae4f8_7331_11ed_850e_1094bbd18074row2_col3 {\n",
       "            background-color:  #08773f;\n",
       "            color:  #f1f1f1;\n",
       "        }    #T_67eae4f8_7331_11ed_850e_1094bbd18074row2_col4 {\n",
       "            background-color:  #0b7d42;\n",
       "            color:  #f1f1f1;\n",
       "        }    #T_67eae4f8_7331_11ed_850e_1094bbd18074row2_col5 {\n",
       "            background-color:  #0b7d42;\n",
       "            color:  #f1f1f1;\n",
       "        }    #T_67eae4f8_7331_11ed_850e_1094bbd18074row3_col0 {\n",
       "            background-color:  #d62f27;\n",
       "            color:  #f1f1f1;\n",
       "        }    #T_67eae4f8_7331_11ed_850e_1094bbd18074row3_col1 {\n",
       "            background-color:  #db382b;\n",
       "            color:  #f1f1f1;\n",
       "        }    #T_67eae4f8_7331_11ed_850e_1094bbd18074row3_col2 {\n",
       "            background-color:  #07753e;\n",
       "            color:  #f1f1f1;\n",
       "        }    #T_67eae4f8_7331_11ed_850e_1094bbd18074row3_col3 {\n",
       "            background-color:  #0e8245;\n",
       "            color:  #f1f1f1;\n",
       "        }    #T_67eae4f8_7331_11ed_850e_1094bbd18074row3_col4 {\n",
       "            background-color:  #07753e;\n",
       "            color:  #f1f1f1;\n",
       "        }    #T_67eae4f8_7331_11ed_850e_1094bbd18074row3_col5 {\n",
       "            background-color:  #07753e;\n",
       "            color:  #f1f1f1;\n",
       "        }    #T_67eae4f8_7331_11ed_850e_1094bbd18074row4_col0 {\n",
       "            background-color:  #fdaf62;\n",
       "            color:  #000000;\n",
       "        }    #T_67eae4f8_7331_11ed_850e_1094bbd18074row4_col1 {\n",
       "            background-color:  #fdb567;\n",
       "            color:  #000000;\n",
       "        }    #T_67eae4f8_7331_11ed_850e_1094bbd18074row4_col2 {\n",
       "            background-color:  #097940;\n",
       "            color:  #f1f1f1;\n",
       "        }    #T_67eae4f8_7331_11ed_850e_1094bbd18074row4_col3 {\n",
       "            background-color:  #0d8044;\n",
       "            color:  #f1f1f1;\n",
       "        }    #T_67eae4f8_7331_11ed_850e_1094bbd18074row4_col4 {\n",
       "            background-color:  #097940;\n",
       "            color:  #f1f1f1;\n",
       "        }    #T_67eae4f8_7331_11ed_850e_1094bbd18074row4_col5 {\n",
       "            background-color:  #0a7b41;\n",
       "            color:  #f1f1f1;\n",
       "        }    #T_67eae4f8_7331_11ed_850e_1094bbd18074row5_col0 {\n",
       "            background-color:  #a0d669;\n",
       "            color:  #000000;\n",
       "        }    #T_67eae4f8_7331_11ed_850e_1094bbd18074row5_col1 {\n",
       "            background-color:  #1b9950;\n",
       "            color:  #000000;\n",
       "        }    #T_67eae4f8_7331_11ed_850e_1094bbd18074row5_col2 {\n",
       "            background-color:  #006837;\n",
       "            color:  #f1f1f1;\n",
       "        }    #T_67eae4f8_7331_11ed_850e_1094bbd18074row5_col3 {\n",
       "            background-color:  #006837;\n",
       "            color:  #f1f1f1;\n",
       "        }    #T_67eae4f8_7331_11ed_850e_1094bbd18074row5_col4 {\n",
       "            background-color:  #006837;\n",
       "            color:  #f1f1f1;\n",
       "        }    #T_67eae4f8_7331_11ed_850e_1094bbd18074row5_col5 {\n",
       "            background-color:  #006837;\n",
       "            color:  #f1f1f1;\n",
       "        }    #T_67eae4f8_7331_11ed_850e_1094bbd18074row6_col0 {\n",
       "            background-color:  #006837;\n",
       "            color:  #f1f1f1;\n",
       "        }    #T_67eae4f8_7331_11ed_850e_1094bbd18074row6_col1 {\n",
       "            background-color:  #006837;\n",
       "            color:  #f1f1f1;\n",
       "        }    #T_67eae4f8_7331_11ed_850e_1094bbd18074row6_col2 {\n",
       "            background-color:  #04703b;\n",
       "            color:  #f1f1f1;\n",
       "        }    #T_67eae4f8_7331_11ed_850e_1094bbd18074row6_col3 {\n",
       "            background-color:  #07753e;\n",
       "            color:  #f1f1f1;\n",
       "        }    #T_67eae4f8_7331_11ed_850e_1094bbd18074row6_col4 {\n",
       "            background-color:  #04703b;\n",
       "            color:  #f1f1f1;\n",
       "        }    #T_67eae4f8_7331_11ed_850e_1094bbd18074row6_col5 {\n",
       "            background-color:  #04703b;\n",
       "            color:  #f1f1f1;\n",
       "        }</style><table id=\"T_67eae4f8_7331_11ed_850e_1094bbd18074\" ><thead>    <tr>        <th class=\"blank level0\" ></th>        <th class=\"col_heading level0 col0\" >fit_time</th>        <th class=\"col_heading level0 col1\" >score_time</th>        <th class=\"col_heading level0 col2\" >test_accuracy</th>        <th class=\"col_heading level0 col3\" >test_f1_macro</th>        <th class=\"col_heading level0 col4\" >test_f1_micro</th>        <th class=\"col_heading level0 col5\" >test_f1_weighted</th>    </tr></thead><tbody>\n",
       "                <tr>\n",
       "                        <th id=\"T_67eae4f8_7331_11ed_850e_1094bbd18074level0_row0\" class=\"row_heading level0 row0\" >1</th>\n",
       "                        <td id=\"T_67eae4f8_7331_11ed_850e_1094bbd18074row0_col0\" class=\"data row0 col0\" >0.0406304</td>\n",
       "                        <td id=\"T_67eae4f8_7331_11ed_850e_1094bbd18074row0_col1\" class=\"data row0 col1\" >0.0183458</td>\n",
       "                        <td id=\"T_67eae4f8_7331_11ed_850e_1094bbd18074row0_col2\" class=\"data row0 col2\" >0.882316</td>\n",
       "                        <td id=\"T_67eae4f8_7331_11ed_850e_1094bbd18074row0_col3\" class=\"data row0 col3\" >0.872528</td>\n",
       "                        <td id=\"T_67eae4f8_7331_11ed_850e_1094bbd18074row0_col4\" class=\"data row0 col4\" >0.882316</td>\n",
       "                        <td id=\"T_67eae4f8_7331_11ed_850e_1094bbd18074row0_col5\" class=\"data row0 col5\" >0.882219</td>\n",
       "            </tr>\n",
       "            <tr>\n",
       "                        <th id=\"T_67eae4f8_7331_11ed_850e_1094bbd18074level0_row1\" class=\"row_heading level0 row1\" >10</th>\n",
       "                        <td id=\"T_67eae4f8_7331_11ed_850e_1094bbd18074row1_col0\" class=\"data row1 col0\" >0.234308</td>\n",
       "                        <td id=\"T_67eae4f8_7331_11ed_850e_1094bbd18074row1_col1\" class=\"data row1 col1\" >0.0153558</td>\n",
       "                        <td id=\"T_67eae4f8_7331_11ed_850e_1094bbd18074row1_col2\" class=\"data row1 col2\" >0.931531</td>\n",
       "                        <td id=\"T_67eae4f8_7331_11ed_850e_1094bbd18074row1_col3\" class=\"data row1 col3\" >0.93061</td>\n",
       "                        <td id=\"T_67eae4f8_7331_11ed_850e_1094bbd18074row1_col4\" class=\"data row1 col4\" >0.931531</td>\n",
       "                        <td id=\"T_67eae4f8_7331_11ed_850e_1094bbd18074row1_col5\" class=\"data row1 col5\" >0.931331</td>\n",
       "            </tr>\n",
       "            <tr>\n",
       "                        <th id=\"T_67eae4f8_7331_11ed_850e_1094bbd18074level0_row2\" class=\"row_heading level0 row2\" >50</th>\n",
       "                        <td id=\"T_67eae4f8_7331_11ed_850e_1094bbd18074row2_col0\" class=\"data row2 col0\" >1.34221</td>\n",
       "                        <td id=\"T_67eae4f8_7331_11ed_850e_1094bbd18074row2_col1\" class=\"data row2 col1\" >0.0384569</td>\n",
       "                        <td id=\"T_67eae4f8_7331_11ed_850e_1094bbd18074row2_col2\" class=\"data row2 col2\" >0.936132</td>\n",
       "                        <td id=\"T_67eae4f8_7331_11ed_850e_1094bbd18074row2_col3\" class=\"data row2 col3\" >0.9374</td>\n",
       "                        <td id=\"T_67eae4f8_7331_11ed_850e_1094bbd18074row2_col4\" class=\"data row2 col4\" >0.936132</td>\n",
       "                        <td id=\"T_67eae4f8_7331_11ed_850e_1094bbd18074row2_col5\" class=\"data row2 col5\" >0.935952</td>\n",
       "            </tr>\n",
       "            <tr>\n",
       "                        <th id=\"T_67eae4f8_7331_11ed_850e_1094bbd18074level0_row3\" class=\"row_heading level0 row3\" >100</th>\n",
       "                        <td id=\"T_67eae4f8_7331_11ed_850e_1094bbd18074row3_col0\" class=\"data row3 col0\" >2.62784</td>\n",
       "                        <td id=\"T_67eae4f8_7331_11ed_850e_1094bbd18074row3_col1\" class=\"data row3 col1\" >0.0739723</td>\n",
       "                        <td id=\"T_67eae4f8_7331_11ed_850e_1094bbd18074row3_col2\" class=\"data row3 col2\" >0.936884</td>\n",
       "                        <td id=\"T_67eae4f8_7331_11ed_850e_1094bbd18074row3_col3\" class=\"data row3 col3\" >0.936027</td>\n",
       "                        <td id=\"T_67eae4f8_7331_11ed_850e_1094bbd18074row3_col4\" class=\"data row3 col4\" >0.936884</td>\n",
       "                        <td id=\"T_67eae4f8_7331_11ed_850e_1094bbd18074row3_col5\" class=\"data row3 col5\" >0.936683</td>\n",
       "            </tr>\n",
       "            <tr>\n",
       "                        <th id=\"T_67eae4f8_7331_11ed_850e_1094bbd18074level0_row4\" class=\"row_heading level0 row4\" >250</th>\n",
       "                        <td id=\"T_67eae4f8_7331_11ed_850e_1094bbd18074row4_col0\" class=\"data row4 col0\" >7.86059</td>\n",
       "                        <td id=\"T_67eae4f8_7331_11ed_850e_1094bbd18074row4_col1\" class=\"data row4 col1\" >0.178157</td>\n",
       "                        <td id=\"T_67eae4f8_7331_11ed_850e_1094bbd18074row4_col2\" class=\"data row4 col2\" >0.936414</td>\n",
       "                        <td id=\"T_67eae4f8_7331_11ed_850e_1094bbd18074row4_col3\" class=\"data row4 col3\" >0.936279</td>\n",
       "                        <td id=\"T_67eae4f8_7331_11ed_850e_1094bbd18074row4_col4\" class=\"data row4 col4\" >0.936414</td>\n",
       "                        <td id=\"T_67eae4f8_7331_11ed_850e_1094bbd18074row4_col5\" class=\"data row4 col5\" >0.936228</td>\n",
       "            </tr>\n",
       "            <tr>\n",
       "                        <th id=\"T_67eae4f8_7331_11ed_850e_1094bbd18074level0_row5\" class=\"row_heading level0 row5\" >500</th>\n",
       "                        <td id=\"T_67eae4f8_7331_11ed_850e_1094bbd18074row5_col0\" class=\"data row5 col0\" >18.3826</td>\n",
       "                        <td id=\"T_67eae4f8_7331_11ed_850e_1094bbd18074row5_col1\" class=\"data row5 col1\" >0.476871</td>\n",
       "                        <td id=\"T_67eae4f8_7331_11ed_850e_1094bbd18074row5_col2\" class=\"data row5 col2\" >0.938574</td>\n",
       "                        <td id=\"T_67eae4f8_7331_11ed_850e_1094bbd18074row5_col3\" class=\"data row5 col3\" >0.939733</td>\n",
       "                        <td id=\"T_67eae4f8_7331_11ed_850e_1094bbd18074row5_col4\" class=\"data row5 col4\" >0.938574</td>\n",
       "                        <td id=\"T_67eae4f8_7331_11ed_850e_1094bbd18074row5_col5\" class=\"data row5 col5\" >0.938437</td>\n",
       "            </tr>\n",
       "            <tr>\n",
       "                        <th id=\"T_67eae4f8_7331_11ed_850e_1094bbd18074level0_row6\" class=\"row_heading level0 row6\" >1000</th>\n",
       "                        <td id=\"T_67eae4f8_7331_11ed_850e_1094bbd18074row6_col0\" class=\"data row6 col0\" >25.9737</td>\n",
       "                        <td id=\"T_67eae4f8_7331_11ed_850e_1094bbd18074row6_col1\" class=\"data row6 col1\" >0.53077</td>\n",
       "                        <td id=\"T_67eae4f8_7331_11ed_850e_1094bbd18074row6_col2\" class=\"data row6 col2\" >0.937541</td>\n",
       "                        <td id=\"T_67eae4f8_7331_11ed_850e_1094bbd18074row6_col3\" class=\"data row6 col3\" >0.937806</td>\n",
       "                        <td id=\"T_67eae4f8_7331_11ed_850e_1094bbd18074row6_col4\" class=\"data row6 col4\" >0.937541</td>\n",
       "                        <td id=\"T_67eae4f8_7331_11ed_850e_1094bbd18074row6_col5\" class=\"data row6 col5\" >0.937361</td>\n",
       "            </tr>\n",
       "    </tbody></table>"
      ],
      "text/plain": [
       "<pandas.io.formats.style.Styler at 0x7faf342c9f28>"
      ]
     },
     "execution_count": 134,
     "metadata": {},
     "output_type": "execute_result"
    }
   ],
   "source": [
    "estimators = [1,10,50,100,250,500,1000]\n",
    "e_scores = {}\n",
    "for n in estimators:\n",
    "    e_scores[n] = cross_validate(\n",
    "        RandomForestClassifier(n_estimators=n),\n",
    "        X_forest_scaled,\n",
    "        train['type'],\n",
    "        cv= 10,\n",
    "        scoring=('accuracy','f1_macro','f1_micro','f1_weighted')\n",
    "        )\n",
    "compare_scores(e_scores)"
   ]
  },
  {
   "cell_type": "code",
   "execution_count": 135,
   "metadata": {},
   "outputs": [],
   "source": [
    "model = RandomForestClassifier()\n",
    "grid = dict(max_features = [1,2,3,4,5,6,7,8,'log2','sqrt'],n_estimators=estimators)\n",
    "cv = RepeatedStratifiedKFold(n_splits=10, n_repeats=3, random_state=1)\n",
    "grid_search = GridSearchCV(estimator=model, param_grid=grid, n_jobs=-1, cv=cv, scoring='accuracy',error_score=0)\n",
    "grid_result = grid_search.fit(X_forest_scaled, train['type'])"
   ]
  },
  {
   "cell_type": "code",
   "execution_count": 136,
   "metadata": {},
   "outputs": [
    {
     "name": "stdout",
     "output_type": "stream",
     "text": [
      "Best: 0.938573 using {'max_features': 1, 'n_estimators': 1000}\n"
     ]
    }
   ],
   "source": [
    "print(\"Best: %f using %s\" % (grid_result.best_score_, grid_result.best_params_))\n",
    "means = grid_result.cv_results_['mean_test_score']\n",
    "stds = grid_result.cv_results_['std_test_score']\n",
    "params = grid_result.cv_results_['params']\n",
    "# for mean, stdev, param in zip(means, stds, params):\n",
    "#     print(\"%f (%f) with: %r\" % (mean, stdev, param))"
   ]
  },
  {
   "cell_type": "markdown",
   "metadata": {},
   "source": [
    "#### Validation"
   ]
  },
  {
   "cell_type": "code",
   "execution_count": 33,
   "metadata": {},
   "outputs": [],
   "source": [
    "X_train, X_test, y_train, y_test = train_test_split(X_forest_scaled, train['type'], test_size= 0.2, random_state = 1)"
   ]
  },
  {
   "cell_type": "code",
   "execution_count": 34,
   "metadata": {},
   "outputs": [],
   "source": [
    "d_forest = RandomForestClassifier(max_features=1,n_estimators=1000)\n",
    "d_forest.fit(X_train, y_train)\n",
    "y_pred = d_forest.predict(X_test)"
   ]
  },
  {
   "cell_type": "code",
   "execution_count": 35,
   "metadata": {},
   "outputs": [
    {
     "data": {
      "image/png": "[encoded data removed]",
      "text/plain": [
       "<Figure size 432x288 with 2 Axes>"
      ]
     },
     "metadata": {},
     "output_type": "display_data"
    }
   ],
   "source": [
    "cm= metrics.plot_confusion_matrix(d_forest, X_test,y_test)\n",
    "plt.title('Confusion Matrix')\n",
    "plt.ylabel('Actual Values')\n",
    "plt.xlabel('Predicted Values')\n",
    "plt.show()"
   ]
  },
  {
   "cell_type": "code",
   "execution_count": 36,
   "metadata": {},
   "outputs": [
    {
     "name": "stdout",
     "output_type": "stream",
     "text": [
      "              precision    recall  f1-score   support\n",
      "\n",
      "           2       1.00      1.00      1.00       293\n",
      "           3       0.94      0.86      0.90        35\n",
      "           4       0.97      0.98      0.97       284\n",
      "           7       0.95      0.94      0.94       171\n",
      "           8       0.98      0.98      0.98       135\n",
      "           9       0.95      0.91      0.93       617\n",
      "          10       0.91      0.95      0.93       595\n",
      "\n",
      "    accuracy                           0.95      2130\n",
      "   macro avg       0.95      0.94      0.95      2130\n",
      "weighted avg       0.95      0.95      0.95      2130\n",
      "\n"
     ]
    }
   ],
   "source": [
    "print(metrics.classification_report(y_test,y_pred))"
   ]
  },
  {
   "cell_type": "markdown",
   "metadata": {},
   "source": [
    "### Gradient Boosted Trees"
   ]
  },
  {
   "cell_type": "code",
   "execution_count": 37,
   "metadata": {},
   "outputs": [],
   "source": [
    "boost = xgb.XGBClassifier(objective = 'multi:softmax')"
   ]
  },
  {
   "cell_type": "code",
   "execution_count": 141,
   "metadata": {},
   "outputs": [
    {
     "name": "stdout",
     "output_type": "stream",
     "text": [
      "Testing 2 features accuracy: 0.710 (0.013)\n",
      "Testing 3 features accuracy: 0.810 (0.012)\n",
      "Testing 4 features accuracy: 0.909 (0.008)\n",
      "Testing 5 features accuracy: 0.924 (0.008)\n",
      "Testing 6 features accuracy: 0.936 (0.008)\n",
      "Testing 7 features accuracy: 0.936 (0.008)\n",
      "Testing 8 features accuracy: 0.937 (0.008)\n",
      "Testing 9 features accuracy: 0.937 (0.008)\n",
      "Testing 10 features accuracy: 0.937 (0.008)\n"
     ]
    },
    {
     "data": {
      "image/png": "[encoded data removed]",
      "text/plain": [
       "<Figure size 432x288 with 1 Axes>"
      ]
     },
     "metadata": {},
     "output_type": "display_data"
    },
    {
     "name": "stdout",
     "output_type": "stream",
     "text": [
      "Maximum cross-validated accuracy with 8 features: 0.93733463941544\n"
     ]
    }
   ],
   "source": [
    "get_features_kbest(boost)"
   ]
  },
  {
   "cell_type": "code",
   "execution_count": 144,
   "metadata": {},
   "outputs": [
    {
     "name": "stdout",
     "output_type": "stream",
     "text": [
      "Attribute: pitcherid\n",
      "Attribute: height\n",
      "Attribute: initspeed\n",
      "Attribute: breakx\n",
      "Attribute: breakz\n",
      "Attribute: initposx\n",
      "Attribute: initposz\n",
      "Attribute: spinrate\n"
     ]
    }
   ],
   "source": [
    "scaler = StandardScaler()\n",
    "k_best = SelectKBest(f_classif,k=8)\n",
    "pipeline = Pipeline(steps=[('s',k_best),('m',boost)])\n",
    "scaled_pitch = scaler.fit_transform(pitch_data)\n",
    "k_best.fit(scaled_pitch,train['type'])\n",
    "\n",
    "cols = k_best.get_support(indices=True)\n",
    "for i in cols:\n",
    "    print('Attribute:', pitch_data.columns[i])"
   ]
  },
  {
   "cell_type": "markdown",
   "metadata": {},
   "source": [
    "The features that were selected by SelectKBest were `pitcherid`,`height`, `initspeed`, `breakx`, `breakz`,`initposx`,`initposz`, and `spinrate`"
   ]
  },
  {
   "cell_type": "code",
   "execution_count": 38,
   "metadata": {},
   "outputs": [],
   "source": [
    "X_boost = pd.DataFrame(pitch_data,columns=['pitcherid','height', 'initspeed', 'breakx','breakz','initposx','initposz','spinrate'])\n",
    "X_boost_scaled = scaler.fit_transform(X_boost)"
   ]
  },
  {
   "cell_type": "markdown",
   "metadata": {},
   "source": [
    "#### XGBoost Tuning"
   ]
  },
  {
   "cell_type": "code",
   "execution_count": 146,
   "metadata": {},
   "outputs": [
    {
     "data": {
      "text/html": [
       "<style  type=\"text/css\" >\n",
       "    #T_f57032c0_734e_11ed_87f8_1094bbd18074row0_col0 {\n",
       "            background-color:  #a50026;\n",
       "            color:  #f1f1f1;\n",
       "        }    #T_f57032c0_734e_11ed_87f8_1094bbd18074row0_col1 {\n",
       "            background-color:  #a50026;\n",
       "            color:  #f1f1f1;\n",
       "        }    #T_f57032c0_734e_11ed_87f8_1094bbd18074row0_col2 {\n",
       "            background-color:  #e9f6a1;\n",
       "            color:  #000000;\n",
       "        }    #T_f57032c0_734e_11ed_87f8_1094bbd18074row0_col3 {\n",
       "            background-color:  #279f53;\n",
       "            color:  #000000;\n",
       "        }    #T_f57032c0_734e_11ed_87f8_1094bbd18074row0_col4 {\n",
       "            background-color:  #e9f6a1;\n",
       "            color:  #000000;\n",
       "        }    #T_f57032c0_734e_11ed_87f8_1094bbd18074row0_col5 {\n",
       "            background-color:  #ecf7a6;\n",
       "            color:  #000000;\n",
       "        }    #T_f57032c0_734e_11ed_87f8_1094bbd18074row1_col0 {\n",
       "            background-color:  #f16640;\n",
       "            color:  #000000;\n",
       "        }    #T_f57032c0_734e_11ed_87f8_1094bbd18074row1_col1 {\n",
       "            background-color:  #de402e;\n",
       "            color:  #f1f1f1;\n",
       "        }    #T_f57032c0_734e_11ed_87f8_1094bbd18074row1_col2 {\n",
       "            background-color:  #006837;\n",
       "            color:  #f1f1f1;\n",
       "        }    #T_f57032c0_734e_11ed_87f8_1094bbd18074row1_col3 {\n",
       "            background-color:  #006837;\n",
       "            color:  #f1f1f1;\n",
       "        }    #T_f57032c0_734e_11ed_87f8_1094bbd18074row1_col4 {\n",
       "            background-color:  #006837;\n",
       "            color:  #f1f1f1;\n",
       "        }    #T_f57032c0_734e_11ed_87f8_1094bbd18074row1_col5 {\n",
       "            background-color:  #006837;\n",
       "            color:  #f1f1f1;\n",
       "        }    #T_f57032c0_734e_11ed_87f8_1094bbd18074row2_col0 {\n",
       "            background-color:  #f2faae;\n",
       "            color:  #000000;\n",
       "        }    #T_f57032c0_734e_11ed_87f8_1094bbd18074row2_col1 {\n",
       "            background-color:  #fed07e;\n",
       "            color:  #000000;\n",
       "        }    #T_f57032c0_734e_11ed_87f8_1094bbd18074row2_col2 {\n",
       "            background-color:  #feeda1;\n",
       "            color:  #000000;\n",
       "        }    #T_f57032c0_734e_11ed_87f8_1094bbd18074row2_col3 {\n",
       "            background-color:  #e2f397;\n",
       "            color:  #000000;\n",
       "        }    #T_f57032c0_734e_11ed_87f8_1094bbd18074row2_col4 {\n",
       "            background-color:  #feeda1;\n",
       "            color:  #000000;\n",
       "        }    #T_f57032c0_734e_11ed_87f8_1094bbd18074row2_col5 {\n",
       "            background-color:  #fff0a6;\n",
       "            color:  #000000;\n",
       "        }    #T_f57032c0_734e_11ed_87f8_1094bbd18074row3_col0 {\n",
       "            background-color:  #78c565;\n",
       "            color:  #000000;\n",
       "        }    #T_f57032c0_734e_11ed_87f8_1094bbd18074row3_col1 {\n",
       "            background-color:  #c3e67d;\n",
       "            color:  #000000;\n",
       "        }    #T_f57032c0_734e_11ed_87f8_1094bbd18074row3_col2 {\n",
       "            background-color:  #da362a;\n",
       "            color:  #f1f1f1;\n",
       "        }    #T_f57032c0_734e_11ed_87f8_1094bbd18074row3_col3 {\n",
       "            background-color:  #eb5a3a;\n",
       "            color:  #000000;\n",
       "        }    #T_f57032c0_734e_11ed_87f8_1094bbd18074row3_col4 {\n",
       "            background-color:  #da362a;\n",
       "            color:  #f1f1f1;\n",
       "        }    #T_f57032c0_734e_11ed_87f8_1094bbd18074row3_col5 {\n",
       "            background-color:  #db382b;\n",
       "            color:  #f1f1f1;\n",
       "        }    #T_f57032c0_734e_11ed_87f8_1094bbd18074row4_col0 {\n",
       "            background-color:  #006837;\n",
       "            color:  #f1f1f1;\n",
       "        }    #T_f57032c0_734e_11ed_87f8_1094bbd18074row4_col1 {\n",
       "            background-color:  #006837;\n",
       "            color:  #f1f1f1;\n",
       "        }    #T_f57032c0_734e_11ed_87f8_1094bbd18074row4_col2 {\n",
       "            background-color:  #a50026;\n",
       "            color:  #f1f1f1;\n",
       "        }    #T_f57032c0_734e_11ed_87f8_1094bbd18074row4_col3 {\n",
       "            background-color:  #a50026;\n",
       "            color:  #f1f1f1;\n",
       "        }    #T_f57032c0_734e_11ed_87f8_1094bbd18074row4_col4 {\n",
       "            background-color:  #a50026;\n",
       "            color:  #f1f1f1;\n",
       "        }    #T_f57032c0_734e_11ed_87f8_1094bbd18074row4_col5 {\n",
       "            background-color:  #a50026;\n",
       "            color:  #f1f1f1;\n",
       "        }</style><table id=\"T_f57032c0_734e_11ed_87f8_1094bbd18074\" ><thead>    <tr>        <th class=\"blank level0\" ></th>        <th class=\"col_heading level0 col0\" >fit_time</th>        <th class=\"col_heading level0 col1\" >score_time</th>        <th class=\"col_heading level0 col2\" >test_accuracy</th>        <th class=\"col_heading level0 col3\" >test_f1_macro</th>        <th class=\"col_heading level0 col4\" >test_f1_micro</th>        <th class=\"col_heading level0 col5\" >test_f1_weighted</th>    </tr></thead><tbody>\n",
       "                <tr>\n",
       "                        <th id=\"T_f57032c0_734e_11ed_87f8_1094bbd18074level0_row0\" class=\"row_heading level0 row0\" >100</th>\n",
       "                        <td id=\"T_f57032c0_734e_11ed_87f8_1094bbd18074row0_col0\" class=\"data row0 col0\" >5.74394</td>\n",
       "                        <td id=\"T_f57032c0_734e_11ed_87f8_1094bbd18074row0_col1\" class=\"data row0 col1\" >0.0364187</td>\n",
       "                        <td id=\"T_f57032c0_734e_11ed_87f8_1094bbd18074row0_col2\" class=\"data row0 col2\" >0.937447</td>\n",
       "                        <td id=\"T_f57032c0_734e_11ed_87f8_1094bbd18074row0_col3\" class=\"data row0 col3\" >0.937276</td>\n",
       "                        <td id=\"T_f57032c0_734e_11ed_87f8_1094bbd18074row0_col4\" class=\"data row0 col4\" >0.937447</td>\n",
       "                        <td id=\"T_f57032c0_734e_11ed_87f8_1094bbd18074row0_col5\" class=\"data row0 col5\" >0.937299</td>\n",
       "            </tr>\n",
       "            <tr>\n",
       "                        <th id=\"T_f57032c0_734e_11ed_87f8_1094bbd18074level0_row1\" class=\"row_heading level0 row1\" >250</th>\n",
       "                        <td id=\"T_f57032c0_734e_11ed_87f8_1094bbd18074row1_col0\" class=\"data row1 col0\" >14.3841</td>\n",
       "                        <td id=\"T_f57032c0_734e_11ed_87f8_1094bbd18074row1_col1\" class=\"data row1 col1\" >0.1137</td>\n",
       "                        <td id=\"T_f57032c0_734e_11ed_87f8_1094bbd18074row1_col2\" class=\"data row1 col2\" >0.938575</td>\n",
       "                        <td id=\"T_f57032c0_734e_11ed_87f8_1094bbd18074row1_col3\" class=\"data row1 col3\" >0.937494</td>\n",
       "                        <td id=\"T_f57032c0_734e_11ed_87f8_1094bbd18074row1_col4\" class=\"data row1 col4\" >0.938575</td>\n",
       "                        <td id=\"T_f57032c0_734e_11ed_87f8_1094bbd18074row1_col5\" class=\"data row1 col5\" >0.938424</td>\n",
       "            </tr>\n",
       "            <tr>\n",
       "                        <th id=\"T_f57032c0_734e_11ed_87f8_1094bbd18074level0_row2\" class=\"row_heading level0 row2\" >500</th>\n",
       "                        <td id=\"T_f57032c0_734e_11ed_87f8_1094bbd18074row2_col0\" class=\"data row2 col0\" >30.1204</td>\n",
       "                        <td id=\"T_f57032c0_734e_11ed_87f8_1094bbd18074row2_col1\" class=\"data row2 col1\" >0.259176</td>\n",
       "                        <td id=\"T_f57032c0_734e_11ed_87f8_1094bbd18074row2_col2\" class=\"data row2 col2\" >0.937166</td>\n",
       "                        <td id=\"T_f57032c0_734e_11ed_87f8_1094bbd18074row2_col3\" class=\"data row2 col3\" >0.936713</td>\n",
       "                        <td id=\"T_f57032c0_734e_11ed_87f8_1094bbd18074row2_col4\" class=\"data row2 col4\" >0.937166</td>\n",
       "                        <td id=\"T_f57032c0_734e_11ed_87f8_1094bbd18074row2_col5\" class=\"data row2 col5\" >0.937053</td>\n",
       "            </tr>\n",
       "            <tr>\n",
       "                        <th id=\"T_f57032c0_734e_11ed_87f8_1094bbd18074level0_row3\" class=\"row_heading level0 row3\" >750</th>\n",
       "                        <td id=\"T_f57032c0_734e_11ed_87f8_1094bbd18074row3_col0\" class=\"data row3 col0\" >40.9323</td>\n",
       "                        <td id=\"T_f57032c0_734e_11ed_87f8_1094bbd18074row3_col1\" class=\"data row3 col1\" >0.42331</td>\n",
       "                        <td id=\"T_f57032c0_734e_11ed_87f8_1094bbd18074row3_col2\" class=\"data row3 col2\" >0.936321</td>\n",
       "                        <td id=\"T_f57032c0_734e_11ed_87f8_1094bbd18074row3_col3\" class=\"data row3 col3\" >0.935963</td>\n",
       "                        <td id=\"T_f57032c0_734e_11ed_87f8_1094bbd18074row3_col4\" class=\"data row3 col4\" >0.936321</td>\n",
       "                        <td id=\"T_f57032c0_734e_11ed_87f8_1094bbd18074row3_col5\" class=\"data row3 col5\" >0.936212</td>\n",
       "            </tr>\n",
       "            <tr>\n",
       "                        <th id=\"T_f57032c0_734e_11ed_87f8_1094bbd18074level0_row4\" class=\"row_heading level0 row4\" >1000</th>\n",
       "                        <td id=\"T_f57032c0_734e_11ed_87f8_1094bbd18074row4_col0\" class=\"data row4 col0\" >51.3734</td>\n",
       "                        <td id=\"T_f57032c0_734e_11ed_87f8_1094bbd18074row4_col1\" class=\"data row4 col1\" >0.637866</td>\n",
       "                        <td id=\"T_f57032c0_734e_11ed_87f8_1094bbd18074row4_col2\" class=\"data row4 col2\" >0.936039</td>\n",
       "                        <td id=\"T_f57032c0_734e_11ed_87f8_1094bbd18074row4_col3\" class=\"data row4 col3\" >0.935654</td>\n",
       "                        <td id=\"T_f57032c0_734e_11ed_87f8_1094bbd18074row4_col4\" class=\"data row4 col4\" >0.936039</td>\n",
       "                        <td id=\"T_f57032c0_734e_11ed_87f8_1094bbd18074row4_col5\" class=\"data row4 col5\" >0.935923</td>\n",
       "            </tr>\n",
       "    </tbody></table>"
      ],
      "text/plain": [
       "<pandas.io.formats.style.Styler at 0x7faf78a3b7f0>"
      ]
     },
     "execution_count": 146,
     "metadata": {},
     "output_type": "execute_result"
    }
   ],
   "source": [
    "estimators = [100,250,500,750,1000]\n",
    "e_scores = {}\n",
    "for n in estimators:\n",
    "    e_scores[n] = cross_validate(\n",
    "        xgb.XGBClassifier(objective = 'multi:softmax',n_estimators = n),\n",
    "        X_boost_scaled,\n",
    "        train['type'],\n",
    "        cv= 10,\n",
    "        scoring=('accuracy','f1_macro','f1_micro','f1_weighted')\n",
    "        )\n",
    "compare_scores(e_scores)"
   ]
  },
  {
   "cell_type": "code",
   "execution_count": 147,
   "metadata": {},
   "outputs": [
    {
     "data": {
      "text/html": [
       "<style  type=\"text/css\" >\n",
       "    #T_62550e7e_734f_11ed_94d2_1094bbd18074row0_col0 {\n",
       "            background-color:  #fdb365;\n",
       "            color:  #000000;\n",
       "        }    #T_62550e7e_734f_11ed_94d2_1094bbd18074row0_col1 {\n",
       "            background-color:  #a50026;\n",
       "            color:  #f1f1f1;\n",
       "        }    #T_62550e7e_734f_11ed_94d2_1094bbd18074row0_col2 {\n",
       "            background-color:  #a50026;\n",
       "            color:  #f1f1f1;\n",
       "        }    #T_62550e7e_734f_11ed_94d2_1094bbd18074row0_col3 {\n",
       "            background-color:  #a50026;\n",
       "            color:  #f1f1f1;\n",
       "        }    #T_62550e7e_734f_11ed_94d2_1094bbd18074row0_col4 {\n",
       "            background-color:  #a50026;\n",
       "            color:  #f1f1f1;\n",
       "        }    #T_62550e7e_734f_11ed_94d2_1094bbd18074row0_col5 {\n",
       "            background-color:  #a50026;\n",
       "            color:  #f1f1f1;\n",
       "        }    #T_62550e7e_734f_11ed_94d2_1094bbd18074row1_col0 {\n",
       "            background-color:  #006837;\n",
       "            color:  #f1f1f1;\n",
       "        }    #T_62550e7e_734f_11ed_94d2_1094bbd18074row1_col1 {\n",
       "            background-color:  #006837;\n",
       "            color:  #f1f1f1;\n",
       "        }    #T_62550e7e_734f_11ed_94d2_1094bbd18074row1_col2 {\n",
       "            background-color:  #e34933;\n",
       "            color:  #f1f1f1;\n",
       "        }    #T_62550e7e_734f_11ed_94d2_1094bbd18074row1_col3 {\n",
       "            background-color:  #b10b26;\n",
       "            color:  #f1f1f1;\n",
       "        }    #T_62550e7e_734f_11ed_94d2_1094bbd18074row1_col4 {\n",
       "            background-color:  #e34933;\n",
       "            color:  #f1f1f1;\n",
       "        }    #T_62550e7e_734f_11ed_94d2_1094bbd18074row1_col5 {\n",
       "            background-color:  #e0422f;\n",
       "            color:  #f1f1f1;\n",
       "        }    #T_62550e7e_734f_11ed_94d2_1094bbd18074row2_col0 {\n",
       "            background-color:  #a50026;\n",
       "            color:  #f1f1f1;\n",
       "        }    #T_62550e7e_734f_11ed_94d2_1094bbd18074row2_col1 {\n",
       "            background-color:  #daf08d;\n",
       "            color:  #000000;\n",
       "        }    #T_62550e7e_734f_11ed_94d2_1094bbd18074row2_col2 {\n",
       "            background-color:  #006837;\n",
       "            color:  #f1f1f1;\n",
       "        }    #T_62550e7e_734f_11ed_94d2_1094bbd18074row2_col3 {\n",
       "            background-color:  #006837;\n",
       "            color:  #f1f1f1;\n",
       "        }    #T_62550e7e_734f_11ed_94d2_1094bbd18074row2_col4 {\n",
       "            background-color:  #006837;\n",
       "            color:  #f1f1f1;\n",
       "        }    #T_62550e7e_734f_11ed_94d2_1094bbd18074row2_col5 {\n",
       "            background-color:  #006837;\n",
       "            color:  #f1f1f1;\n",
       "        }</style><table id=\"T_62550e7e_734f_11ed_94d2_1094bbd18074\" ><thead>    <tr>        <th class=\"blank level0\" ></th>        <th class=\"col_heading level0 col0\" >fit_time</th>        <th class=\"col_heading level0 col1\" >score_time</th>        <th class=\"col_heading level0 col2\" >test_accuracy</th>        <th class=\"col_heading level0 col3\" >test_f1_macro</th>        <th class=\"col_heading level0 col4\" >test_f1_micro</th>        <th class=\"col_heading level0 col5\" >test_f1_weighted</th>    </tr></thead><tbody>\n",
       "                <tr>\n",
       "                        <th id=\"T_62550e7e_734f_11ed_94d2_1094bbd18074level0_row0\" class=\"row_heading level0 row0\" >0.001</th>\n",
       "                        <td id=\"T_62550e7e_734f_11ed_94d2_1094bbd18074row0_col0\" class=\"data row0 col0\" >5.9328</td>\n",
       "                        <td id=\"T_62550e7e_734f_11ed_94d2_1094bbd18074row0_col1\" class=\"data row0 col1\" >0.0338668</td>\n",
       "                        <td id=\"T_62550e7e_734f_11ed_94d2_1094bbd18074row0_col2\" class=\"data row0 col2\" >0.886447</td>\n",
       "                        <td id=\"T_62550e7e_734f_11ed_94d2_1094bbd18074row0_col3\" class=\"data row0 col3\" >0.83984</td>\n",
       "                        <td id=\"T_62550e7e_734f_11ed_94d2_1094bbd18074row0_col4\" class=\"data row0 col4\" >0.886447</td>\n",
       "                        <td id=\"T_62550e7e_734f_11ed_94d2_1094bbd18074row0_col5\" class=\"data row0 col5\" >0.883723</td>\n",
       "            </tr>\n",
       "            <tr>\n",
       "                        <th id=\"T_62550e7e_734f_11ed_94d2_1094bbd18074level0_row1\" class=\"row_heading level0 row1\" >0.01</th>\n",
       "                        <td id=\"T_62550e7e_734f_11ed_94d2_1094bbd18074row1_col0\" class=\"data row1 col0\" >6.56696</td>\n",
       "                        <td id=\"T_62550e7e_734f_11ed_94d2_1094bbd18074row1_col1\" class=\"data row1 col1\" >0.0418827</td>\n",
       "                        <td id=\"T_62550e7e_734f_11ed_94d2_1094bbd18074row1_col2\" class=\"data row1 col2\" >0.893679</td>\n",
       "                        <td id=\"T_62550e7e_734f_11ed_94d2_1094bbd18074row1_col3\" class=\"data row1 col3\" >0.842255</td>\n",
       "                        <td id=\"T_62550e7e_734f_11ed_94d2_1094bbd18074row1_col4\" class=\"data row1 col4\" >0.893679</td>\n",
       "                        <td id=\"T_62550e7e_734f_11ed_94d2_1094bbd18074row1_col5\" class=\"data row1 col5\" >0.890788</td>\n",
       "            </tr>\n",
       "            <tr>\n",
       "                        <th id=\"T_62550e7e_734f_11ed_94d2_1094bbd18074level0_row2\" class=\"row_heading level0 row2\" >0.1</th>\n",
       "                        <td id=\"T_62550e7e_734f_11ed_94d2_1094bbd18074row2_col0\" class=\"data row2 col0\" >5.64511</td>\n",
       "                        <td id=\"T_62550e7e_734f_11ed_94d2_1094bbd18074row2_col1\" class=\"data row2 col1\" >0.0386474</td>\n",
       "                        <td id=\"T_62550e7e_734f_11ed_94d2_1094bbd18074row2_col2\" class=\"data row2 col2\" >0.937447</td>\n",
       "                        <td id=\"T_62550e7e_734f_11ed_94d2_1094bbd18074row2_col3\" class=\"data row2 col3\" >0.937276</td>\n",
       "                        <td id=\"T_62550e7e_734f_11ed_94d2_1094bbd18074row2_col4\" class=\"data row2 col4\" >0.937447</td>\n",
       "                        <td id=\"T_62550e7e_734f_11ed_94d2_1094bbd18074row2_col5\" class=\"data row2 col5\" >0.937299</td>\n",
       "            </tr>\n",
       "    </tbody></table>"
      ],
      "text/plain": [
       "<pandas.io.formats.style.Styler at 0x7faf2f4eba58>"
      ]
     },
     "execution_count": 147,
     "metadata": {},
     "output_type": "execute_result"
    }
   ],
   "source": [
    "rates = [.001,.01,.1]\n",
    "l_scores = {}\n",
    "for n in rates:\n",
    "    l_scores[n] = cross_validate(\n",
    "        xgb.XGBClassifier(objective = 'multi:softmax',learning_rate = n),\n",
    "        X_boost_scaled,\n",
    "        train['type'],\n",
    "        cv= 10,\n",
    "        scoring=('accuracy','f1_macro','f1_micro','f1_weighted')\n",
    "        )\n",
    "compare_scores(l_scores)"
   ]
  },
  {
   "cell_type": "code",
   "execution_count": 148,
   "metadata": {},
   "outputs": [],
   "source": [
    "model = xgb.XGBClassifier(objective = 'multi:softmax')\n",
    "grid = dict(subsample = [.5,.75,1.0],max_depth = [3,5,7,9])\n",
    "cv = RepeatedStratifiedKFold(n_splits=10, n_repeats=3, random_state=1)\n",
    "grid_search = GridSearchCV(estimator=model, param_grid=grid, n_jobs=-1, cv=cv, scoring='accuracy',error_score=0)\n",
    "grid_result = grid_search.fit(X_boost_scaled, train['type'])"
   ]
  },
  {
   "cell_type": "code",
   "execution_count": 149,
   "metadata": {},
   "outputs": [
    {
     "name": "stdout",
     "output_type": "stream",
     "text": [
      "Best: 0.939513 using {'max_depth': 5, 'subsample': 0.5}\n"
     ]
    }
   ],
   "source": [
    "print(\"Best: %f using %s\" % (grid_result.best_score_, grid_result.best_params_))\n",
    "means = grid_result.cv_results_['mean_test_score']\n",
    "stds = grid_result.cv_results_['std_test_score']\n",
    "params = grid_result.cv_results_['params']\n",
    "# for mean, stdev, param in zip(means, stds, params):\n",
    "#     print(\"%f (%f) with: %r\" % (mean, stdev, param))"
   ]
  },
  {
   "cell_type": "markdown",
   "metadata": {},
   "source": [
    "#### Validation"
   ]
  },
  {
   "cell_type": "code",
   "execution_count": 39,
   "metadata": {},
   "outputs": [],
   "source": [
    "X_train, X_test, y_train, y_test = train_test_split(X_boost_scaled, train['type'], test_size= 0.2, random_state = 1)\n",
    "d_boost = xgb.XGBClassifier(objective = 'multi:softmax',max_depth = 5, subsample = .5, learning_rate = .1, estimators= 250)\n",
    "d_boost.fit(X_train,y_train)\n",
    "y_pred = d_boost.predict(X_test)"
   ]
  },
  {
   "cell_type": "code",
   "execution_count": 40,
   "metadata": {},
   "outputs": [
    {
     "data": {
      "image/png": "[encoded data removed]",
      "text/plain": [
       "<Figure size 432x288 with 2 Axes>"
      ]
     },
     "metadata": {},
     "output_type": "display_data"
    }
   ],
   "source": [
    "cm= metrics.plot_confusion_matrix(d_boost, X_test,y_test)\n",
    "plt.title('Confusion Matrix')\n",
    "plt.ylabel('Actual Values')\n",
    "plt.xlabel('Predicted Values')\n",
    "plt.show()"
   ]
  },
  {
   "cell_type": "code",
   "execution_count": 41,
   "metadata": {},
   "outputs": [
    {
     "name": "stdout",
     "output_type": "stream",
     "text": [
      "              precision    recall  f1-score   support\n",
      "\n",
      "           2       1.00      1.00      1.00       293\n",
      "           3       0.89      0.91      0.90        35\n",
      "           4       0.98      0.95      0.97       284\n",
      "           7       0.94      0.96      0.95       171\n",
      "           8       0.96      0.99      0.97       135\n",
      "           9       0.94      0.91      0.93       617\n",
      "          10       0.91      0.94      0.93       595\n",
      "\n",
      "    accuracy                           0.95      2130\n",
      "   macro avg       0.95      0.95      0.95      2130\n",
      "weighted avg       0.95      0.95      0.95      2130\n",
      "\n"
     ]
    }
   ],
   "source": [
    "print(metrics.classification_report(y_test,y_pred))"
   ]
  },
  {
   "cell_type": "markdown",
   "metadata": {},
   "source": [
    "### Multi-Layer Perceptron"
   ]
  },
  {
   "cell_type": "code",
   "execution_count": 11,
   "metadata": {},
   "outputs": [],
   "source": [
    "perceptron = MLPClassifier(random_state=1, max_iter=200)"
   ]
  },
  {
   "cell_type": "code",
   "execution_count": 166,
   "metadata": {},
   "outputs": [
    {
     "name": "stdout",
     "output_type": "stream",
     "text": [
      "Testing 2 features accuracy: 0.715 (0.013)\n",
      "Testing 3 features accuracy: 0.819 (0.011)\n",
      "Testing 4 features accuracy: 0.915 (0.007)\n",
      "Testing 5 features accuracy: 0.931 (0.008)\n",
      "Testing 6 features accuracy: 0.941 (0.007)\n",
      "Testing 7 features accuracy: 0.941 (0.008)\n",
      "Testing 8 features accuracy: 0.944 (0.008)\n",
      "Testing 9 features accuracy: 0.943 (0.008)\n",
      "Testing 10 features accuracy: 0.942 (0.008)\n"
     ]
    },
    {
     "data": {
      "image/png": "[encoded data removed]",
      "text/plain": [
       "<Figure size 432x288 with 1 Axes>"
      ]
     },
     "metadata": {},
     "output_type": "display_data"
    },
    {
     "name": "stdout",
     "output_type": "stream",
     "text": [
      "Maximum cross-validated accuracy with 8 features: 0.9435334992410604\n"
     ]
    }
   ],
   "source": [
    "get_features_kbest(perceptron)"
   ]
  },
  {
   "cell_type": "code",
   "execution_count": 12,
   "metadata": {},
   "outputs": [
    {
     "name": "stdout",
     "output_type": "stream",
     "text": [
      "Attribute: pitcherid\n",
      "Attribute: height\n",
      "Attribute: initspeed\n",
      "Attribute: breakx\n",
      "Attribute: breakz\n",
      "Attribute: initposx\n",
      "Attribute: initposz\n",
      "Attribute: spinrate\n"
     ]
    }
   ],
   "source": [
    "scaler = StandardScaler()\n",
    "k_best = SelectKBest(f_classif,k=8)\n",
    "pipeline = Pipeline(steps=[('s',k_best),('m',perceptron)])\n",
    "scaled_pitch = scaler.fit_transform(pitch_data)\n",
    "k_best.fit(scaled_pitch,train['type'])\n",
    "\n",
    "cols = k_best.get_support(indices=True)\n",
    "for i in cols:\n",
    "    print('Attribute:', pitch_data.columns[i])"
   ]
  },
  {
   "cell_type": "markdown",
   "metadata": {},
   "source": [
    "The features that were selected by SelectKBest were `pitcherid`,`height`, `initspeed`, `breakx`, `breakz`, `initposx`,`initposz`, and `spinrate`"
   ]
  },
  {
   "cell_type": "code",
   "execution_count": 13,
   "metadata": {},
   "outputs": [],
   "source": [
    "X_perceptron = pd.DataFrame(pitch_data,columns=['pitcherid','height', 'initspeed', 'breakx','breakz','initposx','initposz','spinrate'])\n",
    "X_perceptron_scaled = scaler.fit_transform(X_perceptron)"
   ]
  },
  {
   "cell_type": "markdown",
   "metadata": {},
   "source": [
    "#### MLP Tuning"
   ]
  },
  {
   "cell_type": "code",
   "execution_count": 14,
   "metadata": {},
   "outputs": [],
   "source": [
    "grid = {\n",
    "    'hidden_layer_sizes': [(50,50,50), (50,100,50), (100,)],\n",
    "    'activation': ['tanh', 'relu'],\n",
    "    'solver': ['sgd', 'adam'],\n",
    "    'alpha': [0.0001, 0.05],\n",
    "    'learning_rate': ['constant','adaptive'],\n",
    "}"
   ]
  },
  {
   "cell_type": "code",
   "execution_count": 15,
   "metadata": {},
   "outputs": [],
   "source": [
    "model = MLPClassifier(random_state=1, max_iter=200)\n",
    "cv = RepeatedStratifiedKFold(n_splits=10, n_repeats=3, random_state=1)\n",
    "grid_search = GridSearchCV(estimator=model, param_grid=grid, n_jobs=-1, cv=cv, scoring='accuracy',error_score=0)\n",
    "grid_result = grid_search.fit(X_perceptron_scaled, train['type'])"
   ]
  },
  {
   "cell_type": "code",
   "execution_count": 16,
   "metadata": {},
   "outputs": [
    {
     "name": "stdout",
     "output_type": "stream",
     "text": [
      "Best: 0.943552 using {'activation': 'relu', 'alpha': 0.0001, 'hidden_layer_sizes': (100,), 'learning_rate': 'constant', 'solver': 'adam'}\n"
     ]
    }
   ],
   "source": [
    "print(\"Best: %f using %s\" % (grid_result.best_score_, grid_result.best_params_))\n",
    "means = grid_result.cv_results_['mean_test_score']\n",
    "stds = grid_result.cv_results_['std_test_score']\n",
    "params = grid_result.cv_results_['params']\n",
    "# for mean, stdev, param in zip(means, stds, params):\n",
    "#     print(\"%f (%f) with: %r\" % (mean, stdev, param))"
   ]
  },
  {
   "cell_type": "markdown",
   "metadata": {},
   "source": [
    "#### Validation"
   ]
  },
  {
   "cell_type": "code",
   "execution_count": 18,
   "metadata": {},
   "outputs": [],
   "source": [
    "X_train, X_test, y_train, y_test = train_test_split(X_perceptron_scaled, train['type'], test_size= 0.2, random_state = 1)\n",
    "d_perceptron = MLPClassifier(random_state=1, max_iter=500,activation = 'relu',alpha = .0001,hidden_layer_sizes = (100,),learning_rate = 'constant',solver = 'adam')\n",
    "d_perceptron.fit(X_train,y_train)\n",
    "y_pred = d_perceptron.predict(X_test)"
   ]
  },
  {
   "cell_type": "code",
   "execution_count": 19,
   "metadata": {},
   "outputs": [
    {
     "data": {
      "image/png": "[encoded data removed]",
      "text/plain": [
       "<Figure size 432x288 with 2 Axes>"
      ]
     },
     "metadata": {},
     "output_type": "display_data"
    }
   ],
   "source": [
    "cm= metrics.plot_confusion_matrix(d_perceptron, X_test,y_test)\n",
    "plt.title('Confusion Matrix')\n",
    "plt.ylabel('Actual Values')\n",
    "plt.xlabel('Predicted Values')\n",
    "plt.show()"
   ]
  },
  {
   "cell_type": "code",
   "execution_count": 20,
   "metadata": {},
   "outputs": [
    {
     "name": "stdout",
     "output_type": "stream",
     "text": [
      "              precision    recall  f1-score   support\n",
      "\n",
      "           2       1.00      1.00      1.00       293\n",
      "           3       0.89      0.89      0.89        35\n",
      "           4       0.97      0.96      0.97       284\n",
      "           7       0.93      0.95      0.94       171\n",
      "           8       0.98      0.99      0.98       135\n",
      "           9       0.95      0.91      0.93       617\n",
      "          10       0.91      0.94      0.93       595\n",
      "\n",
      "    accuracy                           0.95      2130\n",
      "   macro avg       0.95      0.95      0.95      2130\n",
      "weighted avg       0.95      0.95      0.95      2130\n",
      "\n"
     ]
    }
   ],
   "source": [
    "print(metrics.classification_report(y_test,y_pred))"
   ]
  },
  {
   "cell_type": "markdown",
   "metadata": {},
   "source": [
    "### Ensembles"
   ]
  },
  {
   "cell_type": "code",
   "execution_count": 51,
   "metadata": {},
   "outputs": [],
   "source": [
    "voting_clf = VotingClassifier(\n",
    " estimators=[ ('decision', d_forest),('boost',d_boost),('perceptron',d_perceptron)],\n",
    " voting='hard')"
   ]
  },
  {
   "cell_type": "code",
   "execution_count": 52,
   "metadata": {},
   "outputs": [],
   "source": [
    "X_ensemble = pd.DataFrame(pitch_data,columns=['pitcherid','height', 'initspeed', 'breakx','breakz','initposx','initposz','extension','spinrate'])\n",
    "X_ensemble_scaled = scaler.fit_transform(X_ensemble)\n",
    "X_train, X_test, y_train, y_test = train_test_split(X_ensemble_scaled, train['type'], test_size= 0.2, random_state = 1)"
   ]
  },
  {
   "cell_type": "code",
   "execution_count": 53,
   "metadata": {},
   "outputs": [],
   "source": [
    "voting_clf.fit(X_train, y_train)\n",
    "y_pred = voting_clf.predict(X_test)"
   ]
  },
  {
   "cell_type": "code",
   "execution_count": 54,
   "metadata": {},
   "outputs": [
    {
     "data": {
      "image/png": "[encoded data removed]",
      "text/plain": [
       "<Figure size 432x288 with 2 Axes>"
      ]
     },
     "metadata": {},
     "output_type": "display_data"
    }
   ],
   "source": [
    "cm= metrics.plot_confusion_matrix(voting_clf, X_test,y_test)\n",
    "plt.title('Confusion Matrix')\n",
    "plt.ylabel('Actual Values')\n",
    "plt.xlabel('Predicted Values')\n",
    "plt.show()"
   ]
  },
  {
   "cell_type": "code",
   "execution_count": 55,
   "metadata": {},
   "outputs": [
    {
     "name": "stdout",
     "output_type": "stream",
     "text": [
      "              precision    recall  f1-score   support\n",
      "\n",
      "           2       1.00      1.00      1.00       293\n",
      "           3       0.89      0.94      0.92        35\n",
      "           4       0.98      0.97      0.97       284\n",
      "           7       0.95      0.95      0.95       171\n",
      "           8       0.98      0.98      0.98       135\n",
      "           9       0.95      0.91      0.93       617\n",
      "          10       0.91      0.95      0.93       595\n",
      "\n",
      "    accuracy                           0.95      2130\n",
      "   macro avg       0.95      0.96      0.95      2130\n",
      "weighted avg       0.95      0.95      0.95      2130\n",
      "\n"
     ]
    }
   ],
   "source": [
    "print(metrics.classification_report(y_test,y_pred))"
   ]
  },
  {
   "cell_type": "markdown",
   "metadata": {},
   "source": [
    "### Why are pitch type 9 and 10 mistaken for one another across all the models?"
   ]
  },
  {
   "cell_type": "code",
   "execution_count": 49,
   "metadata": {},
   "outputs": [
    {
     "data": {
      "text/html": [
       "<div>\n",
       "<style scoped>\n",
       "    .dataframe tbody tr th:only-of-type {\n",
       "        vertical-align: middle;\n",
       "    }\n",
       "\n",
       "    .dataframe tbody tr th {\n",
       "        vertical-align: top;\n",
       "    }\n",
       "\n",
       "    .dataframe thead th {\n",
       "        text-align: right;\n",
       "    }\n",
       "</style>\n",
       "<table border=\"1\" class=\"dataframe\">\n",
       "  <thead>\n",
       "    <tr style=\"text-align: right;\">\n",
       "      <th></th>\n",
       "      <th>pitchid</th>\n",
       "      <th>height</th>\n",
       "      <th>initspeed</th>\n",
       "      <th>breakx</th>\n",
       "      <th>breakz</th>\n",
       "      <th>initposx</th>\n",
       "      <th>initposz</th>\n",
       "      <th>extension</th>\n",
       "      <th>spinrate</th>\n",
       "    </tr>\n",
       "    <tr>\n",
       "      <th>type</th>\n",
       "      <th></th>\n",
       "      <th></th>\n",
       "      <th></th>\n",
       "      <th></th>\n",
       "      <th></th>\n",
       "      <th></th>\n",
       "      <th></th>\n",
       "      <th></th>\n",
       "      <th></th>\n",
       "    </tr>\n",
       "  </thead>\n",
       "  <tbody>\n",
       "    <tr>\n",
       "      <th>2</th>\n",
       "      <td>5279.143628</td>\n",
       "      <td>75.417397</td>\n",
       "      <td>76.985002</td>\n",
       "      <td>4.891531</td>\n",
       "      <td>-6.840646</td>\n",
       "      <td>-1.772112</td>\n",
       "      <td>5.951901</td>\n",
       "      <td>6.192740</td>\n",
       "      <td>2512.840170</td>\n",
       "    </tr>\n",
       "    <tr>\n",
       "      <th>3</th>\n",
       "      <td>5589.507317</td>\n",
       "      <td>72.048780</td>\n",
       "      <td>82.459450</td>\n",
       "      <td>1.058762</td>\n",
       "      <td>-0.033204</td>\n",
       "      <td>-1.383025</td>\n",
       "      <td>5.754445</td>\n",
       "      <td>6.207139</td>\n",
       "      <td>1867.163590</td>\n",
       "    </tr>\n",
       "    <tr>\n",
       "      <th>4</th>\n",
       "      <td>5404.150376</td>\n",
       "      <td>74.312782</td>\n",
       "      <td>83.821216</td>\n",
       "      <td>-5.606788</td>\n",
       "      <td>3.452922</td>\n",
       "      <td>-1.744082</td>\n",
       "      <td>5.894749</td>\n",
       "      <td>6.195986</td>\n",
       "      <td>1364.294229</td>\n",
       "    </tr>\n",
       "    <tr>\n",
       "      <th>7</th>\n",
       "      <td>5549.552719</td>\n",
       "      <td>72.000000</td>\n",
       "      <td>84.628220</td>\n",
       "      <td>-2.907276</td>\n",
       "      <td>2.479132</td>\n",
       "      <td>-1.022949</td>\n",
       "      <td>5.992991</td>\n",
       "      <td>6.205710</td>\n",
       "      <td>988.921064</td>\n",
       "    </tr>\n",
       "    <tr>\n",
       "      <th>8</th>\n",
       "      <td>5006.261128</td>\n",
       "      <td>72.000000</td>\n",
       "      <td>88.903118</td>\n",
       "      <td>1.232930</td>\n",
       "      <td>4.711424</td>\n",
       "      <td>-1.814539</td>\n",
       "      <td>5.813319</td>\n",
       "      <td>6.205121</td>\n",
       "      <td>2346.130695</td>\n",
       "    </tr>\n",
       "    <tr>\n",
       "      <th>9</th>\n",
       "      <td>5391.456640</td>\n",
       "      <td>74.241192</td>\n",
       "      <td>91.150766</td>\n",
       "      <td>-7.125659</td>\n",
       "      <td>6.906634</td>\n",
       "      <td>-1.827878</td>\n",
       "      <td>5.856179</td>\n",
       "      <td>6.204459</td>\n",
       "      <td>2065.166776</td>\n",
       "    </tr>\n",
       "    <tr>\n",
       "      <th>10</th>\n",
       "      <td>5232.863314</td>\n",
       "      <td>74.121857</td>\n",
       "      <td>92.140954</td>\n",
       "      <td>-3.185415</td>\n",
       "      <td>9.446620</td>\n",
       "      <td>-1.626804</td>\n",
       "      <td>5.942039</td>\n",
       "      <td>6.194828</td>\n",
       "      <td>2131.525759</td>\n",
       "    </tr>\n",
       "  </tbody>\n",
       "</table>\n",
       "</div>"
      ],
      "text/plain": [
       "          pitchid     height  initspeed    breakx    breakz  initposx  \\\n",
       "type                                                                    \n",
       "2     5279.143628  75.417397  76.985002  4.891531 -6.840646 -1.772112   \n",
       "3     5589.507317  72.048780  82.459450  1.058762 -0.033204 -1.383025   \n",
       "4     5404.150376  74.312782  83.821216 -5.606788  3.452922 -1.744082   \n",
       "7     5549.552719  72.000000  84.628220 -2.907276  2.479132 -1.022949   \n",
       "8     5006.261128  72.000000  88.903118  1.232930  4.711424 -1.814539   \n",
       "9     5391.456640  74.241192  91.150766 -7.125659  6.906634 -1.827878   \n",
       "10    5232.863314  74.121857  92.140954 -3.185415  9.446620 -1.626804   \n",
       "\n",
       "      initposz  extension     spinrate  \n",
       "type                                    \n",
       "2     5.951901   6.192740  2512.840170  \n",
       "3     5.754445   6.207139  1867.163590  \n",
       "4     5.894749   6.195986  1364.294229  \n",
       "7     5.992991   6.205710   988.921064  \n",
       "8     5.813319   6.205121  2346.130695  \n",
       "9     5.856179   6.204459  2065.166776  \n",
       "10    5.942039   6.194828  2131.525759  "
      ]
     },
     "execution_count": 49,
     "metadata": {},
     "output_type": "execute_result"
    }
   ],
   "source": [
    "train.groupby('type').mean()"
   ]
  },
  {
   "cell_type": "markdown",
   "metadata": {},
   "source": [
    "It is important to note that pitches **9** and **10** were the most frequent in the dataset , and from the aggregate pitch data they have the greatest initial velocity and both go in the same direction relative to the plate, with pitch 9 breaking more inside for example. The two pitches also have the greatest magnitude of break compared to the others as well as similar spin rates. "
   ]
  },
  {
   "cell_type": "markdown",
   "metadata": {},
   "source": [
    "## Model Summaries and Conclusion"
   ]
  },
  {
   "cell_type": "markdown",
   "metadata": {},
   "source": [
    "| Model | Validation Accuracy (Weighted) | Approx. Tuning Execution Time | Number of Features\n",
    "| :- | :-: | :-: | :-:\n",
    "| Multinomial Logistic Regression | .93 | 1 minute | 7\n",
    "| KNN | .94 | 20 minutes | 6\n",
    "| Single Decision Tree | .91 | 20 minutes | 6\n",
    "| Random Forest | .95 | 30 minutes | 8\n",
    "| XGBoost | .95 | 40 minutes | 8\n",
    "| Multi-Layer Perceptron | .95 | 3 hours | 8"
   ]
  },
  {
   "cell_type": "markdown",
   "metadata": {},
   "source": [
    "We saw high accuracy scores on all of the validation sets for each model, while the best performers were Random Forest, XGBoost, and MLP-Classifier. The ensemble model of the highest performing models also didn't exceed any of the scores. I chose to use the ensemble model for the test set, but you could generally expect similar performance of each of the models individually as they all also had identical feature sets. As for the feature sets used in different models, they all fell between 6-8 of total features with `pitcherid`, `initspeed`, `breakx`, `breakz`, `initposx`, `initposz`, and `spinrate` being in **all** feature sets. There were also minimal increases or slight decreases in accuracy in adding more features beyond 6-8 for each model."
   ]
  },
  {
   "cell_type": "markdown",
   "metadata": {},
   "source": [
    "## Test Set"
   ]
  },
  {
   "cell_type": "code",
   "execution_count": 56,
   "metadata": {},
   "outputs": [],
   "source": [
    "voting_clf = VotingClassifier(\n",
    " estimators=[ ('decision', d_forest),('boost',d_boost),('perceptron',d_perceptron)],\n",
    " voting='hard')"
   ]
  },
  {
   "cell_type": "code",
   "execution_count": 61,
   "metadata": {},
   "outputs": [],
   "source": [
    "X_ensemble = pd.DataFrame(train,columns=['pitcherid','height', 'initspeed', 'breakx','breakz','initposx','initposz','extension','spinrate'])\n",
    "X_ensemble_scaled = scaler.fit_transform(X_ensemble)"
   ]
  },
  {
   "cell_type": "code",
   "execution_count": 62,
   "metadata": {},
   "outputs": [
    {
     "data": {
      "text/plain": [
       "VotingClassifier(estimators=[('decision',\n",
       "                              RandomForestClassifier(max_features=1,\n",
       "                                                     n_estimators=1000)),\n",
       "                             ('boost',\n",
       "                              XGBClassifier(estimators=250, max_depth=5,\n",
       "                                            objective='multi:softprob',\n",
       "                                            subsample=0.5)),\n",
       "                             ('perceptron',\n",
       "                              MLPClassifier(max_iter=500, random_state=1))])"
      ]
     },
     "execution_count": 62,
     "metadata": {},
     "output_type": "execute_result"
    }
   ],
   "source": [
    "voting_clf.fit(X_ensemble_scaled, train['type'])"
   ]
  },
  {
   "cell_type": "code",
   "execution_count": 76,
   "metadata": {},
   "outputs": [],
   "source": [
    "test = test.astype({'pitcherid':'category','yearid':'category'})"
   ]
  },
  {
   "cell_type": "code",
   "execution_count": 77,
   "metadata": {},
   "outputs": [],
   "source": [
    "test_pitch_data = pd.DataFrame(test,columns=['pitcherid','height', 'initspeed', 'breakx','breakz','initposx','initposz','extension','spinrate'])"
   ]
  },
  {
   "cell_type": "code",
   "execution_count": 96,
   "metadata": {},
   "outputs": [],
   "source": [
    "scaler = StandardScaler()\n",
    "test_scaled = scaler.fit_transform(test_pitch_data)\n",
    "y_pred = voting_clf.predict(test_scaled)"
   ]
  },
  {
   "cell_type": "code",
   "execution_count": 97,
   "metadata": {},
   "outputs": [],
   "source": [
    "final_submission = pd.DataFrame(test['pitchid'])\n",
    "final_submission['predicted type'] = y_pred"
   ]
  },
  {
   "cell_type": "code",
   "execution_count": 98,
   "metadata": {},
   "outputs": [
    {
     "data": {
      "text/html": [
       "<div>\n",
       "<style scoped>\n",
       "    .dataframe tbody tr th:only-of-type {\n",
       "        vertical-align: middle;\n",
       "    }\n",
       "\n",
       "    .dataframe tbody tr th {\n",
       "        vertical-align: top;\n",
       "    }\n",
       "\n",
       "    .dataframe thead th {\n",
       "        text-align: right;\n",
       "    }\n",
       "</style>\n",
       "<table border=\"1\" class=\"dataframe\">\n",
       "  <thead>\n",
       "    <tr style=\"text-align: right;\">\n",
       "      <th></th>\n",
       "      <th>pitchid</th>\n",
       "      <th>predicted type</th>\n",
       "    </tr>\n",
       "  </thead>\n",
       "  <tbody>\n",
       "    <tr>\n",
       "      <th>0</th>\n",
       "      <td>10648</td>\n",
       "      <td>10</td>\n",
       "    </tr>\n",
       "    <tr>\n",
       "      <th>1</th>\n",
       "      <td>10649</td>\n",
       "      <td>9</td>\n",
       "    </tr>\n",
       "    <tr>\n",
       "      <th>2</th>\n",
       "      <td>10650</td>\n",
       "      <td>9</td>\n",
       "    </tr>\n",
       "    <tr>\n",
       "      <th>3</th>\n",
       "      <td>10651</td>\n",
       "      <td>10</td>\n",
       "    </tr>\n",
       "    <tr>\n",
       "      <th>4</th>\n",
       "      <td>10652</td>\n",
       "      <td>10</td>\n",
       "    </tr>\n",
       "    <tr>\n",
       "      <th>...</th>\n",
       "      <td>...</td>\n",
       "      <td>...</td>\n",
       "    </tr>\n",
       "    <tr>\n",
       "      <th>12349</th>\n",
       "      <td>22997</td>\n",
       "      <td>2</td>\n",
       "    </tr>\n",
       "    <tr>\n",
       "      <th>12350</th>\n",
       "      <td>22998</td>\n",
       "      <td>4</td>\n",
       "    </tr>\n",
       "    <tr>\n",
       "      <th>12351</th>\n",
       "      <td>22999</td>\n",
       "      <td>10</td>\n",
       "    </tr>\n",
       "    <tr>\n",
       "      <th>12352</th>\n",
       "      <td>23000</td>\n",
       "      <td>7</td>\n",
       "    </tr>\n",
       "    <tr>\n",
       "      <th>12353</th>\n",
       "      <td>23001</td>\n",
       "      <td>9</td>\n",
       "    </tr>\n",
       "  </tbody>\n",
       "</table>\n",
       "<p>12354 rows × 2 columns</p>\n",
       "</div>"
      ],
      "text/plain": [
       "       pitchid  predicted type\n",
       "0        10648              10\n",
       "1        10649               9\n",
       "2        10650               9\n",
       "3        10651              10\n",
       "4        10652              10\n",
       "...        ...             ...\n",
       "12349    22997               2\n",
       "12350    22998               4\n",
       "12351    22999              10\n",
       "12352    23000               7\n",
       "12353    23001               9\n",
       "\n",
       "[12354 rows x 2 columns]"
      ]
     },
     "execution_count": 98,
     "metadata": {},
     "output_type": "execute_result"
    }
   ],
   "source": [
    "final_submission"
   ]
  },
  {
   "cell_type": "code",
   "execution_count": 95,
   "metadata": {},
   "outputs": [],
   "source": [
    "final_submission.to_csv('pitchid_submission',index=False)"
   ]
  },
  {
   "cell_type": "markdown",
   "metadata": {},
   "source": [
    "## Citations\n",
    "\n",
    "- https://machinelearningmastery.com/\n",
    "- https://scikit-learn.org/stable/modules/classes.html\n",
    "- https://pandas.pydata.org/docs/index.html\n",
    "- https://matplotlib.org/stable/index.html\n",
    "- https://www.statsmodels.org/stable/index.html"
   ]
  },
  {
   "cell_type": "code",
   "execution_count": null,
   "metadata": {},
   "outputs": [],
   "source": []
  }
 ],
 "metadata": {
  "kernelspec": {
   "display_name": "Python 3",
   "language": "python",
   "name": "python3"
  },
  "language_info": {
   "codemirror_mode": {
    "name": "ipython",
    "version": 3
   },
   "file_extension": ".py",
   "mimetype": "text/x-python",
   "name": "python",
   "nbconvert_exporter": "python",
   "pygments_lexer": "ipython3",
   "version": "3.6.8"
  }
 },
 "nbformat": 4,
 "nbformat_minor": 5
}
