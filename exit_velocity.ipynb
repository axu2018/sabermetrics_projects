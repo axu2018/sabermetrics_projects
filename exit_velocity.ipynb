{
 "cells": [
  {
   "cell_type": "markdown",
   "metadata": {},
   "source": [
    "# True Exit Velocity Project\n",
    "\n",
    "### Alex Xu"
   ]
  },
  {
   "cell_type": "code",
   "execution_count": 2,
   "metadata": {},
   "outputs": [],
   "source": [
    "# Imports\n",
    "import numpy as np\n",
    "import pandas as pd\n",
    "from collections import Counter\n",
    "from matplotlib.pyplot import figure\n",
    "import re\n",
    "import matplotlib.pyplot as plt\n",
    "import sqlite3\n",
    "import datetime\n",
    "import seaborn as sns\n",
    "import math\n",
    "import statsmodels.api as sm "
   ]
  },
  {
   "cell_type": "markdown",
   "metadata": {},
   "source": [
    "Question: How do we determine the true exit velocity of a player based on existing exit velocity and launch angle?"
   ]
  },
  {
   "cell_type": "markdown",
   "metadata": {},
   "source": [
    "## EDA"
   ]
  },
  {
   "cell_type": "code",
   "execution_count": 3,
   "metadata": {},
   "outputs": [],
   "source": [
    "# Data\n",
    "batted_balls = pd.read_csv(\"battedBallData.csv\")"
   ]
  },
  {
   "cell_type": "code",
   "execution_count": 4,
   "metadata": {},
   "outputs": [
    {
     "data": {
      "text/html": [
       "<div>\n",
       "<style scoped>\n",
       "    .dataframe tbody tr th:only-of-type {\n",
       "        vertical-align: middle;\n",
       "    }\n",
       "\n",
       "    .dataframe tbody tr th {\n",
       "        vertical-align: top;\n",
       "    }\n",
       "\n",
       "    .dataframe thead th {\n",
       "        text-align: right;\n",
       "    }\n",
       "</style>\n",
       "<table border=\"1\" class=\"dataframe\">\n",
       "  <thead>\n",
       "    <tr style=\"text-align: right;\">\n",
       "      <th></th>\n",
       "      <th>batter</th>\n",
       "      <th>pitcher</th>\n",
       "      <th>hittype</th>\n",
       "      <th>speed_A</th>\n",
       "      <th>vangle_A</th>\n",
       "      <th>speed_B</th>\n",
       "      <th>vangle_B</th>\n",
       "    </tr>\n",
       "  </thead>\n",
       "  <tbody>\n",
       "    <tr>\n",
       "      <th>0</th>\n",
       "      <td>393</td>\n",
       "      <td>405</td>\n",
       "      <td>ground_ball</td>\n",
       "      <td>110.987569</td>\n",
       "      <td>4.194081</td>\n",
       "      <td>103.842569</td>\n",
       "      <td>3.164307</td>\n",
       "    </tr>\n",
       "    <tr>\n",
       "      <th>1</th>\n",
       "      <td>366</td>\n",
       "      <td>405</td>\n",
       "      <td>ground_ball</td>\n",
       "      <td>60.098403</td>\n",
       "      <td>-54.652102</td>\n",
       "      <td>28.092203</td>\n",
       "      <td>-28.324082</td>\n",
       "    </tr>\n",
       "    <tr>\n",
       "      <th>2</th>\n",
       "      <td>448</td>\n",
       "      <td>518</td>\n",
       "      <td>line_drive</td>\n",
       "      <td>102.757602</td>\n",
       "      <td>11.751851</td>\n",
       "      <td>97.846002</td>\n",
       "      <td>11.658800</td>\n",
       "    </tr>\n",
       "    <tr>\n",
       "      <th>3</th>\n",
       "      <td>140</td>\n",
       "      <td>518</td>\n",
       "      <td>fly_ball</td>\n",
       "      <td>61.952091</td>\n",
       "      <td>33.488154</td>\n",
       "      <td>59.389741</td>\n",
       "      <td>32.798274</td>\n",
       "    </tr>\n",
       "    <tr>\n",
       "      <th>4</th>\n",
       "      <td>521</td>\n",
       "      <td>518</td>\n",
       "      <td>line_drive</td>\n",
       "      <td>116.690861</td>\n",
       "      <td>22.700762</td>\n",
       "      <td>111.014561</td>\n",
       "      <td>23.164572</td>\n",
       "    </tr>\n",
       "  </tbody>\n",
       "</table>\n",
       "</div>"
      ],
      "text/plain": [
       "   batter  pitcher      hittype     speed_A   vangle_A     speed_B   vangle_B\n",
       "0     393      405  ground_ball  110.987569   4.194081  103.842569   3.164307\n",
       "1     366      405  ground_ball   60.098403 -54.652102   28.092203 -28.324082\n",
       "2     448      518   line_drive  102.757602  11.751851   97.846002  11.658800\n",
       "3     140      518     fly_ball   61.952091  33.488154   59.389741  32.798274\n",
       "4     521      518   line_drive  116.690861  22.700762  111.014561  23.164572"
      ]
     },
     "execution_count": 4,
     "metadata": {},
     "output_type": "execute_result"
    }
   ],
   "source": [
    "batted_balls.head()"
   ]
  },
  {
   "cell_type": "code",
   "execution_count": 5,
   "metadata": {},
   "outputs": [
    {
     "data": {
      "text/html": [
       "<div>\n",
       "<style scoped>\n",
       "    .dataframe tbody tr th:only-of-type {\n",
       "        vertical-align: middle;\n",
       "    }\n",
       "\n",
       "    .dataframe tbody tr th {\n",
       "        vertical-align: top;\n",
       "    }\n",
       "\n",
       "    .dataframe thead th {\n",
       "        text-align: right;\n",
       "    }\n",
       "</style>\n",
       "<table border=\"1\" class=\"dataframe\">\n",
       "  <thead>\n",
       "    <tr style=\"text-align: right;\">\n",
       "      <th></th>\n",
       "      <th>batter</th>\n",
       "      <th>pitcher</th>\n",
       "      <th>speed_A</th>\n",
       "      <th>vangle_A</th>\n",
       "      <th>speed_B</th>\n",
       "      <th>vangle_B</th>\n",
       "    </tr>\n",
       "  </thead>\n",
       "  <tbody>\n",
       "    <tr>\n",
       "      <th>count</th>\n",
       "      <td>73375.000000</td>\n",
       "      <td>73375.000000</td>\n",
       "      <td>65803.000000</td>\n",
       "      <td>65803.000000</td>\n",
       "      <td>71973.000000</td>\n",
       "      <td>71973.000000</td>\n",
       "    </tr>\n",
       "    <tr>\n",
       "      <th>mean</th>\n",
       "      <td>365.135005</td>\n",
       "      <td>289.957547</td>\n",
       "      <td>88.425429</td>\n",
       "      <td>10.853558</td>\n",
       "      <td>77.748243</td>\n",
       "      <td>13.094305</td>\n",
       "    </tr>\n",
       "    <tr>\n",
       "      <th>std</th>\n",
       "      <td>229.816539</td>\n",
       "      <td>186.406565</td>\n",
       "      <td>13.192938</td>\n",
       "      <td>24.024058</td>\n",
       "      <td>18.621538</td>\n",
       "      <td>24.429536</td>\n",
       "    </tr>\n",
       "    <tr>\n",
       "      <th>min</th>\n",
       "      <td>1.000000</td>\n",
       "      <td>1.000000</td>\n",
       "      <td>26.461824</td>\n",
       "      <td>-91.898629</td>\n",
       "      <td>5.152318</td>\n",
       "      <td>-85.090929</td>\n",
       "    </tr>\n",
       "    <tr>\n",
       "      <th>25%</th>\n",
       "      <td>170.000000</td>\n",
       "      <td>121.000000</td>\n",
       "      <td>80.362652</td>\n",
       "      <td>-5.558918</td>\n",
       "      <td>66.074054</td>\n",
       "      <td>-4.634815</td>\n",
       "    </tr>\n",
       "    <tr>\n",
       "      <th>50%</th>\n",
       "      <td>341.000000</td>\n",
       "      <td>283.000000</td>\n",
       "      <td>90.638747</td>\n",
       "      <td>11.005251</td>\n",
       "      <td>81.886750</td>\n",
       "      <td>10.546230</td>\n",
       "    </tr>\n",
       "    <tr>\n",
       "      <th>75%</th>\n",
       "      <td>550.000000</td>\n",
       "      <td>447.000000</td>\n",
       "      <td>98.317818</td>\n",
       "      <td>27.404976</td>\n",
       "      <td>92.326944</td>\n",
       "      <td>28.880589</td>\n",
       "    </tr>\n",
       "    <tr>\n",
       "      <th>max</th>\n",
       "      <td>816.000000</td>\n",
       "      <td>645.000000</td>\n",
       "      <td>121.847456</td>\n",
       "      <td>78.460978</td>\n",
       "      <td>114.403356</td>\n",
       "      <td>90.900819</td>\n",
       "    </tr>\n",
       "  </tbody>\n",
       "</table>\n",
       "</div>"
      ],
      "text/plain": [
       "             batter       pitcher       speed_A      vangle_A       speed_B  \\\n",
       "count  73375.000000  73375.000000  65803.000000  65803.000000  71973.000000   \n",
       "mean     365.135005    289.957547     88.425429     10.853558     77.748243   \n",
       "std      229.816539    186.406565     13.192938     24.024058     18.621538   \n",
       "min        1.000000      1.000000     26.461824    -91.898629      5.152318   \n",
       "25%      170.000000    121.000000     80.362652     -5.558918     66.074054   \n",
       "50%      341.000000    283.000000     90.638747     11.005251     81.886750   \n",
       "75%      550.000000    447.000000     98.317818     27.404976     92.326944   \n",
       "max      816.000000    645.000000    121.847456     78.460978    114.403356   \n",
       "\n",
       "           vangle_B  \n",
       "count  71973.000000  \n",
       "mean      13.094305  \n",
       "std       24.429536  \n",
       "min      -85.090929  \n",
       "25%       -4.634815  \n",
       "50%       10.546230  \n",
       "75%       28.880589  \n",
       "max       90.900819  "
      ]
     },
     "execution_count": 5,
     "metadata": {},
     "output_type": "execute_result"
    }
   ],
   "source": [
    "batted_balls.describe()"
   ]
  },
  {
   "cell_type": "code",
   "execution_count": 6,
   "metadata": {},
   "outputs": [
    {
     "data": {
      "text/html": [
       "<div>\n",
       "<style scoped>\n",
       "    .dataframe tbody tr th:only-of-type {\n",
       "        vertical-align: middle;\n",
       "    }\n",
       "\n",
       "    .dataframe tbody tr th {\n",
       "        vertical-align: top;\n",
       "    }\n",
       "\n",
       "    .dataframe thead th {\n",
       "        text-align: right;\n",
       "    }\n",
       "</style>\n",
       "<table border=\"1\" class=\"dataframe\">\n",
       "  <thead>\n",
       "    <tr style=\"text-align: right;\">\n",
       "      <th></th>\n",
       "      <th>speed_A</th>\n",
       "      <th>vangle_A</th>\n",
       "      <th>speed_B</th>\n",
       "      <th>vangle_B</th>\n",
       "    </tr>\n",
       "    <tr>\n",
       "      <th>batter</th>\n",
       "      <th></th>\n",
       "      <th></th>\n",
       "      <th></th>\n",
       "      <th></th>\n",
       "    </tr>\n",
       "  </thead>\n",
       "  <tbody>\n",
       "    <tr>\n",
       "      <th>1</th>\n",
       "      <td>89.231646</td>\n",
       "      <td>9.396592</td>\n",
       "      <td>77.007720</td>\n",
       "      <td>11.101974</td>\n",
       "    </tr>\n",
       "    <tr>\n",
       "      <th>2</th>\n",
       "      <td>81.072924</td>\n",
       "      <td>4.614494</td>\n",
       "      <td>61.125150</td>\n",
       "      <td>15.039281</td>\n",
       "    </tr>\n",
       "    <tr>\n",
       "      <th>3</th>\n",
       "      <td>92.482074</td>\n",
       "      <td>9.745586</td>\n",
       "      <td>77.958440</td>\n",
       "      <td>16.339697</td>\n",
       "    </tr>\n",
       "    <tr>\n",
       "      <th>4</th>\n",
       "      <td>89.839477</td>\n",
       "      <td>10.062538</td>\n",
       "      <td>77.946913</td>\n",
       "      <td>12.837871</td>\n",
       "    </tr>\n",
       "    <tr>\n",
       "      <th>5</th>\n",
       "      <td>88.834383</td>\n",
       "      <td>11.434604</td>\n",
       "      <td>78.832379</td>\n",
       "      <td>15.861496</td>\n",
       "    </tr>\n",
       "    <tr>\n",
       "      <th>...</th>\n",
       "      <td>...</td>\n",
       "      <td>...</td>\n",
       "      <td>...</td>\n",
       "      <td>...</td>\n",
       "    </tr>\n",
       "    <tr>\n",
       "      <th>812</th>\n",
       "      <td>91.997300</td>\n",
       "      <td>8.636131</td>\n",
       "      <td>81.430736</td>\n",
       "      <td>11.787382</td>\n",
       "    </tr>\n",
       "    <tr>\n",
       "      <th>813</th>\n",
       "      <td>93.012396</td>\n",
       "      <td>10.018956</td>\n",
       "      <td>80.662619</td>\n",
       "      <td>13.801358</td>\n",
       "    </tr>\n",
       "    <tr>\n",
       "      <th>814</th>\n",
       "      <td>94.928281</td>\n",
       "      <td>9.767290</td>\n",
       "      <td>72.564050</td>\n",
       "      <td>7.147737</td>\n",
       "    </tr>\n",
       "    <tr>\n",
       "      <th>815</th>\n",
       "      <td>81.654968</td>\n",
       "      <td>-24.348329</td>\n",
       "      <td>56.535433</td>\n",
       "      <td>-20.621732</td>\n",
       "    </tr>\n",
       "    <tr>\n",
       "      <th>816</th>\n",
       "      <td>80.918708</td>\n",
       "      <td>12.388544</td>\n",
       "      <td>75.257157</td>\n",
       "      <td>12.652440</td>\n",
       "    </tr>\n",
       "  </tbody>\n",
       "</table>\n",
       "<p>816 rows × 4 columns</p>\n",
       "</div>"
      ],
      "text/plain": [
       "          speed_A   vangle_A    speed_B   vangle_B\n",
       "batter                                            \n",
       "1       89.231646   9.396592  77.007720  11.101974\n",
       "2       81.072924   4.614494  61.125150  15.039281\n",
       "3       92.482074   9.745586  77.958440  16.339697\n",
       "4       89.839477  10.062538  77.946913  12.837871\n",
       "5       88.834383  11.434604  78.832379  15.861496\n",
       "...           ...        ...        ...        ...\n",
       "812     91.997300   8.636131  81.430736  11.787382\n",
       "813     93.012396  10.018956  80.662619  13.801358\n",
       "814     94.928281   9.767290  72.564050   7.147737\n",
       "815     81.654968 -24.348329  56.535433 -20.621732\n",
       "816     80.918708  12.388544  75.257157  12.652440\n",
       "\n",
       "[816 rows x 4 columns]"
      ]
     },
     "execution_count": 6,
     "metadata": {},
     "output_type": "execute_result"
    }
   ],
   "source": [
    "batted_balls.groupby(by =['batter'])['speed_A','vangle_A','speed_B','vangle_B'].mean()"
   ]
  },
  {
   "cell_type": "code",
   "execution_count": 7,
   "metadata": {},
   "outputs": [
    {
     "data": {
      "text/html": [
       "<div>\n",
       "<style scoped>\n",
       "    .dataframe tbody tr th:only-of-type {\n",
       "        vertical-align: middle;\n",
       "    }\n",
       "\n",
       "    .dataframe tbody tr th {\n",
       "        vertical-align: top;\n",
       "    }\n",
       "\n",
       "    .dataframe thead th {\n",
       "        text-align: right;\n",
       "    }\n",
       "</style>\n",
       "<table border=\"1\" class=\"dataframe\">\n",
       "  <thead>\n",
       "    <tr style=\"text-align: right;\">\n",
       "      <th></th>\n",
       "      <th>speed_A</th>\n",
       "      <th>vangle_A</th>\n",
       "      <th>speed_B</th>\n",
       "      <th>vangle_B</th>\n",
       "    </tr>\n",
       "    <tr>\n",
       "      <th>pitcher</th>\n",
       "      <th></th>\n",
       "      <th></th>\n",
       "      <th></th>\n",
       "      <th></th>\n",
       "    </tr>\n",
       "  </thead>\n",
       "  <tbody>\n",
       "    <tr>\n",
       "      <th>1</th>\n",
       "      <td>89.225561</td>\n",
       "      <td>11.538706</td>\n",
       "      <td>79.581749</td>\n",
       "      <td>15.362999</td>\n",
       "    </tr>\n",
       "    <tr>\n",
       "      <th>2</th>\n",
       "      <td>89.908275</td>\n",
       "      <td>13.478619</td>\n",
       "      <td>74.337864</td>\n",
       "      <td>15.843790</td>\n",
       "    </tr>\n",
       "    <tr>\n",
       "      <th>3</th>\n",
       "      <td>86.183018</td>\n",
       "      <td>6.049027</td>\n",
       "      <td>73.708689</td>\n",
       "      <td>6.127382</td>\n",
       "    </tr>\n",
       "    <tr>\n",
       "      <th>4</th>\n",
       "      <td>87.672225</td>\n",
       "      <td>22.229140</td>\n",
       "      <td>80.942077</td>\n",
       "      <td>23.923707</td>\n",
       "    </tr>\n",
       "    <tr>\n",
       "      <th>5</th>\n",
       "      <td>88.769293</td>\n",
       "      <td>10.502851</td>\n",
       "      <td>78.822215</td>\n",
       "      <td>13.270968</td>\n",
       "    </tr>\n",
       "    <tr>\n",
       "      <th>...</th>\n",
       "      <td>...</td>\n",
       "      <td>...</td>\n",
       "      <td>...</td>\n",
       "      <td>...</td>\n",
       "    </tr>\n",
       "    <tr>\n",
       "      <th>641</th>\n",
       "      <td>82.442202</td>\n",
       "      <td>3.815504</td>\n",
       "      <td>69.226274</td>\n",
       "      <td>3.655727</td>\n",
       "    </tr>\n",
       "    <tr>\n",
       "      <th>642</th>\n",
       "      <td>88.585319</td>\n",
       "      <td>14.217996</td>\n",
       "      <td>79.912510</td>\n",
       "      <td>18.331289</td>\n",
       "    </tr>\n",
       "    <tr>\n",
       "      <th>643</th>\n",
       "      <td>86.007766</td>\n",
       "      <td>9.474025</td>\n",
       "      <td>78.158328</td>\n",
       "      <td>12.205542</td>\n",
       "    </tr>\n",
       "    <tr>\n",
       "      <th>644</th>\n",
       "      <td>88.386968</td>\n",
       "      <td>2.661677</td>\n",
       "      <td>75.727217</td>\n",
       "      <td>7.873596</td>\n",
       "    </tr>\n",
       "    <tr>\n",
       "      <th>645</th>\n",
       "      <td>91.525177</td>\n",
       "      <td>13.656074</td>\n",
       "      <td>85.775616</td>\n",
       "      <td>29.056219</td>\n",
       "    </tr>\n",
       "  </tbody>\n",
       "</table>\n",
       "<p>645 rows × 4 columns</p>\n",
       "</div>"
      ],
      "text/plain": [
       "           speed_A   vangle_A    speed_B   vangle_B\n",
       "pitcher                                            \n",
       "1        89.225561  11.538706  79.581749  15.362999\n",
       "2        89.908275  13.478619  74.337864  15.843790\n",
       "3        86.183018   6.049027  73.708689   6.127382\n",
       "4        87.672225  22.229140  80.942077  23.923707\n",
       "5        88.769293  10.502851  78.822215  13.270968\n",
       "...            ...        ...        ...        ...\n",
       "641      82.442202   3.815504  69.226274   3.655727\n",
       "642      88.585319  14.217996  79.912510  18.331289\n",
       "643      86.007766   9.474025  78.158328  12.205542\n",
       "644      88.386968   2.661677  75.727217   7.873596\n",
       "645      91.525177  13.656074  85.775616  29.056219\n",
       "\n",
       "[645 rows x 4 columns]"
      ]
     },
     "execution_count": 7,
     "metadata": {},
     "output_type": "execute_result"
    }
   ],
   "source": [
    "batted_balls.groupby(by =['pitcher'])['speed_A','vangle_A','speed_B','vangle_B'].mean()"
   ]
  },
  {
   "cell_type": "code",
   "execution_count": 8,
   "metadata": {},
   "outputs": [
    {
     "data": {
      "text/html": [
       "<div>\n",
       "<style scoped>\n",
       "    .dataframe tbody tr th:only-of-type {\n",
       "        vertical-align: middle;\n",
       "    }\n",
       "\n",
       "    .dataframe tbody tr th {\n",
       "        vertical-align: top;\n",
       "    }\n",
       "\n",
       "    .dataframe thead th {\n",
       "        text-align: right;\n",
       "    }\n",
       "</style>\n",
       "<table border=\"1\" class=\"dataframe\">\n",
       "  <thead>\n",
       "    <tr style=\"text-align: right;\">\n",
       "      <th></th>\n",
       "      <th>speed_A</th>\n",
       "      <th>vangle_A</th>\n",
       "      <th>speed_B</th>\n",
       "      <th>vangle_B</th>\n",
       "    </tr>\n",
       "    <tr>\n",
       "      <th>hittype</th>\n",
       "      <th></th>\n",
       "      <th></th>\n",
       "      <th></th>\n",
       "      <th></th>\n",
       "    </tr>\n",
       "  </thead>\n",
       "  <tbody>\n",
       "    <tr>\n",
       "      <th>U</th>\n",
       "      <td>92.803315</td>\n",
       "      <td>24.403594</td>\n",
       "      <td>75.117881</td>\n",
       "      <td>0.610342</td>\n",
       "    </tr>\n",
       "    <tr>\n",
       "      <th>fly_ball</th>\n",
       "      <td>90.058365</td>\n",
       "      <td>35.400101</td>\n",
       "      <td>86.312979</td>\n",
       "      <td>35.703894</td>\n",
       "    </tr>\n",
       "    <tr>\n",
       "      <th>ground_ball</th>\n",
       "      <td>86.145805</td>\n",
       "      <td>-10.768739</td>\n",
       "      <td>68.223954</td>\n",
       "      <td>-7.119327</td>\n",
       "    </tr>\n",
       "    <tr>\n",
       "      <th>line_drive</th>\n",
       "      <td>92.839124</td>\n",
       "      <td>15.822581</td>\n",
       "      <td>88.744522</td>\n",
       "      <td>15.354946</td>\n",
       "    </tr>\n",
       "    <tr>\n",
       "      <th>popup</th>\n",
       "      <td>73.927772</td>\n",
       "      <td>56.119387</td>\n",
       "      <td>71.731057</td>\n",
       "      <td>63.109802</td>\n",
       "    </tr>\n",
       "  </tbody>\n",
       "</table>\n",
       "</div>"
      ],
      "text/plain": [
       "               speed_A   vangle_A    speed_B   vangle_B\n",
       "hittype                                                \n",
       "U            92.803315  24.403594  75.117881   0.610342\n",
       "fly_ball     90.058365  35.400101  86.312979  35.703894\n",
       "ground_ball  86.145805 -10.768739  68.223954  -7.119327\n",
       "line_drive   92.839124  15.822581  88.744522  15.354946\n",
       "popup        73.927772  56.119387  71.731057  63.109802"
      ]
     },
     "execution_count": 8,
     "metadata": {},
     "output_type": "execute_result"
    }
   ],
   "source": [
    "batted_balls.groupby(by =['hittype'])['speed_A','vangle_A','speed_B','vangle_B'].mean()"
   ]
  },
  {
   "cell_type": "code",
   "execution_count": 9,
   "metadata": {},
   "outputs": [
    {
     "data": {
      "text/plain": [
       "hittype\n",
       "U                  2\n",
       "fly_ball       16722\n",
       "ground_ball    33239\n",
       "line_drive     18166\n",
       "popup           5246\n",
       "dtype: int64"
      ]
     },
     "execution_count": 9,
     "metadata": {},
     "output_type": "execute_result"
    }
   ],
   "source": [
    "batted_balls.groupby(by =['hittype']).size()"
   ]
  },
  {
   "cell_type": "markdown",
   "metadata": {},
   "source": [
    "#### Dropping the \"U\" hit type since the instructions say there are only four types of hit types"
   ]
  },
  {
   "cell_type": "code",
   "execution_count": 10,
   "metadata": {},
   "outputs": [],
   "source": [
    "batted_balls = batted_balls[batted_balls.hittype != 'U']"
   ]
  },
  {
   "cell_type": "markdown",
   "metadata": {},
   "source": [
    "### Differences between Systems"
   ]
  },
  {
   "cell_type": "code",
   "execution_count": 11,
   "metadata": {},
   "outputs": [
    {
     "name": "stdout",
     "output_type": "stream",
     "text": [
      "Missing rows in System A: 7571\n",
      "Missing rows in System B: 1402\n"
     ]
    }
   ],
   "source": [
    "# Missing Data\n",
    "print(\"Missing rows in System A:\",batted_balls['speed_A'].isna().sum())\n",
    "print(\"Missing rows in System B:\",batted_balls['speed_B'].isna().sum())"
   ]
  },
  {
   "cell_type": "code",
   "execution_count": 12,
   "metadata": {},
   "outputs": [],
   "source": [
    "batted_balls_A = batted_balls.drop(['speed_B','vangle_B'],axis = 1)\n",
    "batted_balls_B = batted_balls.drop(['speed_A','vangle_A'],axis = 1)"
   ]
  },
  {
   "cell_type": "code",
   "execution_count": 13,
   "metadata": {},
   "outputs": [
    {
     "name": "stdout",
     "output_type": "stream",
     "text": [
      "65802\n",
      "71971\n"
     ]
    }
   ],
   "source": [
    "# Split Datasets between System A and B\n",
    "batted_balls_A.dropna(inplace = True)\n",
    "batted_balls_B.dropna(inplace = True)\n",
    "\n",
    "print(len(batted_balls_A))\n",
    "print(len(batted_balls_B))"
   ]
  },
  {
   "cell_type": "code",
   "execution_count": 14,
   "metadata": {},
   "outputs": [],
   "source": [
    "# Dataset with measurements from both systems\n",
    "batted_balls_AB = batted_balls.dropna().copy()"
   ]
  },
  {
   "cell_type": "code",
   "execution_count": 15,
   "metadata": {},
   "outputs": [],
   "source": [
    "# Metrics to explain the difference between velocity\n",
    "batted_balls_AB['speed_diff'] = batted_balls_AB['speed_A'] - batted_balls_AB['speed_B']\n",
    "batted_balls_AB['vangle_diff'] = batted_balls_AB['vangle_A'] - batted_balls_AB['vangle_B']"
   ]
  },
  {
   "cell_type": "code",
   "execution_count": 16,
   "metadata": {},
   "outputs": [
    {
     "data": {
      "text/html": [
       "<div>\n",
       "<style scoped>\n",
       "    .dataframe tbody tr th:only-of-type {\n",
       "        vertical-align: middle;\n",
       "    }\n",
       "\n",
       "    .dataframe tbody tr th {\n",
       "        vertical-align: top;\n",
       "    }\n",
       "\n",
       "    .dataframe thead th {\n",
       "        text-align: right;\n",
       "    }\n",
       "</style>\n",
       "<table border=\"1\" class=\"dataframe\">\n",
       "  <thead>\n",
       "    <tr style=\"text-align: right;\">\n",
       "      <th></th>\n",
       "      <th>batter</th>\n",
       "      <th>pitcher</th>\n",
       "      <th>hittype</th>\n",
       "      <th>speed_A</th>\n",
       "      <th>vangle_A</th>\n",
       "      <th>speed_B</th>\n",
       "      <th>vangle_B</th>\n",
       "      <th>speed_diff</th>\n",
       "      <th>vangle_diff</th>\n",
       "    </tr>\n",
       "  </thead>\n",
       "  <tbody>\n",
       "    <tr>\n",
       "      <th>0</th>\n",
       "      <td>393</td>\n",
       "      <td>405</td>\n",
       "      <td>ground_ball</td>\n",
       "      <td>110.987569</td>\n",
       "      <td>4.194081</td>\n",
       "      <td>103.842569</td>\n",
       "      <td>3.164307</td>\n",
       "      <td>7.14500</td>\n",
       "      <td>1.029774</td>\n",
       "    </tr>\n",
       "    <tr>\n",
       "      <th>1</th>\n",
       "      <td>366</td>\n",
       "      <td>405</td>\n",
       "      <td>ground_ball</td>\n",
       "      <td>60.098403</td>\n",
       "      <td>-54.652102</td>\n",
       "      <td>28.092203</td>\n",
       "      <td>-28.324082</td>\n",
       "      <td>32.00620</td>\n",
       "      <td>-26.328020</td>\n",
       "    </tr>\n",
       "    <tr>\n",
       "      <th>2</th>\n",
       "      <td>448</td>\n",
       "      <td>518</td>\n",
       "      <td>line_drive</td>\n",
       "      <td>102.757602</td>\n",
       "      <td>11.751851</td>\n",
       "      <td>97.846002</td>\n",
       "      <td>11.658800</td>\n",
       "      <td>4.91160</td>\n",
       "      <td>0.093051</td>\n",
       "    </tr>\n",
       "    <tr>\n",
       "      <th>3</th>\n",
       "      <td>140</td>\n",
       "      <td>518</td>\n",
       "      <td>fly_ball</td>\n",
       "      <td>61.952091</td>\n",
       "      <td>33.488154</td>\n",
       "      <td>59.389741</td>\n",
       "      <td>32.798274</td>\n",
       "      <td>2.56235</td>\n",
       "      <td>0.689880</td>\n",
       "    </tr>\n",
       "    <tr>\n",
       "      <th>4</th>\n",
       "      <td>521</td>\n",
       "      <td>518</td>\n",
       "      <td>line_drive</td>\n",
       "      <td>116.690861</td>\n",
       "      <td>22.700762</td>\n",
       "      <td>111.014561</td>\n",
       "      <td>23.164572</td>\n",
       "      <td>5.67630</td>\n",
       "      <td>-0.463810</td>\n",
       "    </tr>\n",
       "  </tbody>\n",
       "</table>\n",
       "</div>"
      ],
      "text/plain": [
       "   batter  pitcher      hittype     speed_A   vangle_A     speed_B   vangle_B  \\\n",
       "0     393      405  ground_ball  110.987569   4.194081  103.842569   3.164307   \n",
       "1     366      405  ground_ball   60.098403 -54.652102   28.092203 -28.324082   \n",
       "2     448      518   line_drive  102.757602  11.751851   97.846002  11.658800   \n",
       "3     140      518     fly_ball   61.952091  33.488154   59.389741  32.798274   \n",
       "4     521      518   line_drive  116.690861  22.700762  111.014561  23.164572   \n",
       "\n",
       "   speed_diff  vangle_diff  \n",
       "0     7.14500     1.029774  \n",
       "1    32.00620   -26.328020  \n",
       "2     4.91160     0.093051  \n",
       "3     2.56235     0.689880  \n",
       "4     5.67630    -0.463810  "
      ]
     },
     "execution_count": 16,
     "metadata": {},
     "output_type": "execute_result"
    }
   ],
   "source": [
    "batted_balls_AB.head()"
   ]
  },
  {
   "cell_type": "markdown",
   "metadata": {},
   "source": [
    "#### Are the differences in speed and vertical angle between System A and System B statistically significant?"
   ]
  },
  {
   "cell_type": "code",
   "execution_count": 17,
   "metadata": {},
   "outputs": [
    {
     "data": {
      "image/png": "[encoded data removed]",
      "text/plain": [
       "<Figure size 432x288 with 1 Axes>"
      ]
     },
     "metadata": {},
     "output_type": "display_data"
    }
   ],
   "source": [
    "num_bins = 10\n",
    "   \n",
    "n, bins, patches = plt.hist(batted_balls_AB['speed_diff'], num_bins, \n",
    "                            density = 1, \n",
    "                            color ='green',align='left')\n",
    "\n",
    "plt.xlabel('Speed Difference (MPH)')\n",
    "plt.ylabel('Frequency')\n",
    "  \n",
    "plt.title('Histogram of Speed Differences',\n",
    "          fontweight =\"bold\")\n",
    "  \n",
    "plt.show()"
   ]
  },
  {
   "cell_type": "code",
   "execution_count": 18,
   "metadata": {},
   "outputs": [
    {
     "data": {
      "text/plain": [
       "count    64942.000000\n",
       "mean         8.651598\n",
       "std          9.838174\n",
       "min        -58.414730\n",
       "25%          3.331273\n",
       "50%          4.181970\n",
       "75%          6.431025\n",
       "max         76.960100\n",
       "Name: speed_diff, dtype: float64"
      ]
     },
     "execution_count": 18,
     "metadata": {},
     "output_type": "execute_result"
    }
   ],
   "source": [
    "batted_balls_AB['speed_diff'].describe()"
   ]
  },
  {
   "cell_type": "markdown",
   "metadata": {},
   "source": [
    "System A more often measures the exit velocity of the batted ball greater than System B, on average of about 8.65 mph higher. To check to see if it is statistically significant:"
   ]
  },
  {
   "cell_type": "markdown",
   "metadata": {},
   "source": [
    "$$H_0: \\mu_1 = \\mu_2$$\n",
    "\n",
    "$$H_A: \\mu_1 > \\mu_2$$\n",
    "\n",
    "$$\\alpha = .05$$\n",
    "\n",
    "Sample sizes for both trackers are very large (64942), so we can just treat degrees of freedom as infinite, making the critical value for the one-sided t-test $t_c = 1.645$\n",
    "\n",
    "We can assume the population variances are equal, and for the sake of brevity, the t-statistic of the two sample means is $102.627$. Therefore we can conclude that the null hypothesis is rejected as $102.627 > t_c$ and that we can accept the alternate hypothesis that the population mean exit velocity of System A is greater than that of System B"
   ]
  },
  {
   "cell_type": "code",
   "execution_count": 19,
   "metadata": {},
   "outputs": [
    {
     "data": {
      "image/png": "[encoded data removed]",
      "text/plain": [
       "<Figure size 432x288 with 1 Axes>"
      ]
     },
     "metadata": {},
     "output_type": "display_data"
    }
   ],
   "source": [
    "num_bins = 10\n",
    "   \n",
    "n, bins, patches = plt.hist(batted_balls_AB['vangle_diff'], num_bins, \n",
    "                            density = 1, \n",
    "                            color ='blue',align='left')\n",
    "\n",
    "plt.xlabel('Vertical Angle (Degrees)')\n",
    "plt.ylabel('Frequency')\n",
    "  \n",
    "plt.title('Histogram of Vertical Angle Differences',\n",
    "          fontweight =\"bold\")\n",
    "  \n",
    "plt.show()"
   ]
  },
  {
   "cell_type": "code",
   "execution_count": 20,
   "metadata": {},
   "outputs": [
    {
     "data": {
      "text/plain": [
       "count    64942.000000\n",
       "mean        -1.629603\n",
       "std          6.293609\n",
       "min       -126.844450\n",
       "25%         -0.908613\n",
       "50%         -0.040590\n",
       "75%          0.751888\n",
       "max         72.238050\n",
       "Name: vangle_diff, dtype: float64"
      ]
     },
     "execution_count": 20,
     "metadata": {},
     "output_type": "execute_result"
    }
   ],
   "source": [
    "batted_balls_AB['vangle_diff'].describe()"
   ]
  },
  {
   "cell_type": "markdown",
   "metadata": {},
   "source": [
    "System A measures the vertical angle of the batted ball as slightly less than System B, although the difference is much less pronounced than it is for speed, on average only a little more than a degree lower."
   ]
  },
  {
   "cell_type": "markdown",
   "metadata": {},
   "source": [
    "What about for Vertical Angle?\n",
    "\n",
    "$$H_0: \\mu_1 = \\mu_2$$\n",
    "\n",
    "$$H_A: \\mu_1 < \\mu_2$$\n",
    "\n",
    "$$\\alpha = .05$$\n",
    "\n",
    "Sample sizes for both trackers are very large (64942), so we can just treat degrees of freedom as infinite, making the critical value for the one-sided t-test $t_c = 1.645$.\n",
    "\n",
    "We can assume the population variances are equal, and determine the t-statistic of the two sample means is $\\text{-}12.933$. Therefore we can conclude that the null hypothesis is rejected as $|\\text{-}12.933| > t_c$ and that we can accept the alternate hypothesis that the population mean vertical angle of System A is less than System B."
   ]
  },
  {
   "cell_type": "markdown",
   "metadata": {},
   "source": [
    "Therefore we can conclude that System A measures exit velocity greater and vertical angle slightly lower than System B"
   ]
  },
  {
   "cell_type": "markdown",
   "metadata": {},
   "source": [
    "#### Examining Outliers"
   ]
  },
  {
   "cell_type": "markdown",
   "metadata": {},
   "source": [
    "Let's look at some outliers to see if we can determine if there are any additional quirks or anomalies between the two systems, let's define an outlier for both exit velocity and vertical angle as having a difference that is greater than two standard deviations from the mean difference.\n",
    "\n",
    "For Exit Velocity, the mean difference was $\\mu = 8.651598$ with a standard deviation of $s = 9.838174$, this means that any difference outside the range of $(-11.02475,28.327946)$ is considered an outlier."
   ]
  },
  {
   "cell_type": "code",
   "execution_count": 21,
   "metadata": {},
   "outputs": [],
   "source": [
    "velocity_outliers = batted_balls_AB[(batted_balls_AB['speed_diff'] < -11.02475) | (batted_balls_AB['speed_diff'] > 28.327946)].copy()"
   ]
  },
  {
   "cell_type": "code",
   "execution_count": 22,
   "metadata": {},
   "outputs": [
    {
     "data": {
      "text/plain": [
       "hittype\n",
       "fly_ball          3\n",
       "ground_ball    5062\n",
       "line_drive        5\n",
       "popup             4\n",
       "dtype: int64"
      ]
     },
     "execution_count": 22,
     "metadata": {},
     "output_type": "execute_result"
    }
   ],
   "source": [
    "velocity_outliers.groupby(by='hittype').size()"
   ]
  },
  {
   "cell_type": "code",
   "execution_count": 23,
   "metadata": {},
   "outputs": [
    {
     "name": "stdout",
     "output_type": "stream",
     "text": [
      "Count of outliers where System A exit velocity was signficantly lower: 48\n",
      "Count of outliers where System A exit velocity was signficantly higher: 5026\n"
     ]
    }
   ],
   "source": [
    "print(\"Count of outliers where System A exit velocity was signficantly lower:\",len(np.where(velocity_outliers['speed_diff'] < -11.02475)[0]))\n",
    "print(\"Count of outliers where System A exit velocity was signficantly higher:\",len(np.where(velocity_outliers['speed_diff'] > 28.327946)[0]))"
   ]
  },
  {
   "cell_type": "markdown",
   "metadata": {},
   "source": [
    "For Vertical Angle, the mean difference was $\\mu = -1.629603$ with a standard deviation of $s = 6.293609$, this means that any difference outside the range of $(-14.216822,10.957614)$ is considered an outlier."
   ]
  },
  {
   "cell_type": "code",
   "execution_count": 24,
   "metadata": {},
   "outputs": [],
   "source": [
    "vangle_outliers = batted_balls_AB[(batted_balls_AB['vangle_diff'] < -14.216822) | (batted_balls_AB['vangle_diff'] > 10.957614)].copy()"
   ]
  },
  {
   "cell_type": "code",
   "execution_count": 25,
   "metadata": {},
   "outputs": [
    {
     "data": {
      "text/plain": [
       "hittype\n",
       "fly_ball          4\n",
       "ground_ball    1954\n",
       "line_drive        7\n",
       "popup             3\n",
       "dtype: int64"
      ]
     },
     "execution_count": 25,
     "metadata": {},
     "output_type": "execute_result"
    }
   ],
   "source": [
    "vangle_outliers.groupby(by='hittype').size()"
   ]
  },
  {
   "cell_type": "code",
   "execution_count": 26,
   "metadata": {},
   "outputs": [
    {
     "name": "stdout",
     "output_type": "stream",
     "text": [
      "Count of outliers where System A vertical angle was signficantly lower: 1928\n",
      "Count of outliers where System A vertical angle was signficantly higher: 40\n"
     ]
    }
   ],
   "source": [
    "print(\"Count of outliers where System A vertical angle was signficantly lower:\",len(np.where(vangle_outliers['vangle_diff'] < -14.216822)[0]))\n",
    "print(\"Count of outliers where System A vertical angle was signficantly higher:\",len(np.where(vangle_outliers['vangle_diff'] > 10.957614)[0]))"
   ]
  },
  {
   "cell_type": "markdown",
   "metadata": {},
   "source": [
    "We determine now that most of the statistical anomalies come from ground balls, it's possible that ground balls in particular are more difficult for both systems to track, therefore they may not necessarily be as predictive of a player's true exit velocity as flyballs, line drives, and pop-ups.\n",
    "\n",
    "Also remember that we defined an outlier as having a difference of more than two standard deviations from the mean difference. If we had a less restrictive definition of an outlier such as only one standard deviation, I predict that the additional outliers that we would see are going to mostly be ground balls. \n",
    "\n",
    "I think it may be best to eliminate ground balls from our eventual model for both System A and System B, the reasoning behind this is that statistically we've observed that much of the outliers in predictions between the two systems are a result of groundballs which will probably lead to significant noise in any type of regression analysis. In addition, the logic of a ground ball is that it has it has a relatively low vertical launch angle, if we look at the distribution of vertical angle for just ground balls in dataset `batted_balls_AB`:"
   ]
  },
  {
   "cell_type": "code",
   "execution_count": 27,
   "metadata": {},
   "outputs": [],
   "source": [
    "ground_balls_AB = batted_balls_AB[(batted_balls_AB['hittype'] == 'ground_ball')].copy()"
   ]
  },
  {
   "cell_type": "code",
   "execution_count": 28,
   "metadata": {},
   "outputs": [
    {
     "data": {
      "image/png": "[encoded data removed]",
      "text/plain": [
       "<Figure size 432x288 with 1 Axes>"
      ]
     },
     "metadata": {},
     "output_type": "display_data"
    }
   ],
   "source": [
    "num_bins = 10\n",
    "   \n",
    "n, bins, patches = plt.hist(ground_balls_AB['vangle_A'], num_bins, \n",
    "                            density = 1, \n",
    "                            color ='blue',align='left')\n",
    "\n",
    "plt.xlabel('Vertical Angle (Degrees)')\n",
    "plt.ylabel('Frequency')\n",
    "  \n",
    "plt.title('Histogram of Vertical Angle of Ground Balls (System A)',\n",
    "          fontweight =\"bold\")\n",
    "  \n",
    "plt.show()"
   ]
  },
  {
   "cell_type": "code",
   "execution_count": 29,
   "metadata": {},
   "outputs": [
    {
     "data": {
      "image/png": "[encoded data removed]",
      "text/plain": [
       "<Figure size 432x288 with 1 Axes>"
      ]
     },
     "metadata": {},
     "output_type": "display_data"
    }
   ],
   "source": [
    "num_bins = 10\n",
    "   \n",
    "n, bins, patches = plt.hist(ground_balls_AB['vangle_B'], num_bins, \n",
    "                            density = 1, \n",
    "                            color ='blue',align='left')\n",
    "\n",
    "plt.xlabel('Vertical Angle (Degrees)')\n",
    "plt.ylabel('Frequency')\n",
    "  \n",
    "plt.title('Histogram of Vertical Angle of Ground Balls (System B)',\n",
    "          fontweight =\"bold\")\n",
    "  \n",
    "plt.show()"
   ]
  },
  {
   "cell_type": "markdown",
   "metadata": {},
   "source": [
    "We can clearly see that the vertical angle is almost always below roughly 10 degrees or so, a ball that is most likely landing somewhere in the infield. Balls that are hit into the ground or straight up in the air are an indication of poor contact that may not necessarily be indicative of a player's true exit velocity when making **solid contact**, and perhaps more importantly, typically don't lead to hits that can produce runs.\n",
    "\n",
    "#### Case Study:\n",
    "\n",
    "An example of this is Christian Yelich, a former NL MVP who ranked in the 89th percentile in average exit velocity, 98th! percentile in max exit velocity, and in the 90th percentile for hard hit rate in 2022, yet put up a `wOBA` of $.328$ (88th in league) and `wxOBA` of $.339$ (58th in league), above average but nowhere near his MVP level performance in terms of quality of contact combined with K% and BB%. For additional context his slash line was $.252/.355/.738$ with an $111$ wRC+ and and $2.7$ WAR.\n",
    "\n",
    "\n",
    "This may seem puzzling, how could a player who hits the ball that hard not be an All-Star hitter or at the very least better than a slightly above average hitter? That is, until you see that Yelich led the NL in groundball percentage (58.6%) and groundball/flyball ratio at 2.95 (245/83) along with finishing last in flyball rate (23.0%). \n",
    "\n",
    "In other words, Christian Yelich hit the ball hard, just into the ground."
   ]
  },
  {
   "cell_type": "markdown",
   "metadata": {},
   "source": [
    "####  Further Analysis"
   ]
  },
  {
   "cell_type": "markdown",
   "metadata": {},
   "source": [
    "We can also observe a greater amount of of variance of the exit velocities of ground balls compared to other hits. In addition to being about 4 mph slower on average than other balls, the sample standard deviation of exit velocity for System A groundballs was about 14.49 compared to 11.70 for other batted balls. For System B the difference was greater as ground balls were hit about 15 mph slower than other batted balls, with the standard deviations being 19.36 for ground balls and 11.18 for others."
   ]
  },
  {
   "cell_type": "code",
   "execution_count": 30,
   "metadata": {},
   "outputs": [],
   "source": [
    "other_balls_AB = batted_balls_AB[(batted_balls_AB['hittype'] != 'ground_ball')].copy()"
   ]
  },
  {
   "cell_type": "code",
   "execution_count": 31,
   "metadata": {},
   "outputs": [
    {
     "data": {
      "text/plain": [
       "count    28262.000000\n",
       "mean        86.294078\n",
       "std         14.493731\n",
       "min         26.461824\n",
       "25%         76.753071\n",
       "50%         88.825014\n",
       "75%         97.508812\n",
       "max        121.847456\n",
       "Name: speed_A, dtype: float64"
      ]
     },
     "execution_count": 31,
     "metadata": {},
     "output_type": "execute_result"
    }
   ],
   "source": [
    "ground_balls_AB['speed_A'].describe()"
   ]
  },
  {
   "cell_type": "code",
   "execution_count": 32,
   "metadata": {},
   "outputs": [
    {
     "data": {
      "text/plain": [
       "count    36680.000000\n",
       "mean        90.219117\n",
       "std         11.695774\n",
       "min         35.062166\n",
       "25%         82.988597\n",
       "50%         91.891719\n",
       "75%         98.919813\n",
       "max        118.811930\n",
       "Name: speed_A, dtype: float64"
      ]
     },
     "execution_count": 32,
     "metadata": {},
     "output_type": "execute_result"
    }
   ],
   "source": [
    "other_balls_AB['speed_A'].describe()"
   ]
  },
  {
   "cell_type": "code",
   "execution_count": 33,
   "metadata": {},
   "outputs": [
    {
     "data": {
      "text/plain": [
       "count    28262.000000\n",
       "mean        71.388659\n",
       "std         19.361783\n",
       "min          6.967164\n",
       "25%         57.399110\n",
       "50%         70.845973\n",
       "75%         88.367204\n",
       "max        114.403356\n",
       "Name: speed_B, dtype: float64"
      ]
     },
     "execution_count": 33,
     "metadata": {},
     "output_type": "execute_result"
    }
   ],
   "source": [
    "ground_balls_AB['speed_B'].describe()"
   ]
  },
  {
   "cell_type": "code",
   "execution_count": 34,
   "metadata": {},
   "outputs": [
    {
     "data": {
      "text/plain": [
       "count    36680.000000\n",
       "mean        86.386098\n",
       "std         11.183133\n",
       "min         32.469336\n",
       "25%         79.555783\n",
       "50%         88.007899\n",
       "75%         94.734958\n",
       "max        114.398830\n",
       "Name: speed_B, dtype: float64"
      ]
     },
     "execution_count": 34,
     "metadata": {},
     "output_type": "execute_result"
    }
   ],
   "source": [
    "other_balls_AB['speed_B'].describe()"
   ]
  },
  {
   "cell_type": "code",
   "execution_count": 35,
   "metadata": {},
   "outputs": [
    {
     "data": {
      "image/png": "[encoded data removed]",
      "text/plain": [
       "<Figure size 432x288 with 1 Axes>"
      ]
     },
     "metadata": {},
     "output_type": "display_data"
    }
   ],
   "source": [
    "ground_balls_AB['speed_A'].hist(alpha = .5,label ='Ground Balls')\n",
    "other_balls_AB['speed_A'].hist(alpha = .5,label = 'Other')\n",
    "\n",
    "plt.legend()\n",
    "\n",
    "plt.xlabel('Exit Velocity')\n",
    "plt.ylabel('Frequency')\n",
    "  \n",
    "plt.title('Histogram of Exit Velocity of Ground Balls vs Others (System A)',\n",
    "          fontweight =\"bold\")\n",
    "  \n",
    "plt.show()"
   ]
  },
  {
   "cell_type": "code",
   "execution_count": 36,
   "metadata": {},
   "outputs": [
    {
     "data": {
      "image/png": "[encoded data removed]",
      "text/plain": [
       "<Figure size 432x288 with 1 Axes>"
      ]
     },
     "metadata": {},
     "output_type": "display_data"
    }
   ],
   "source": [
    "ground_balls_AB['speed_B'].hist(alpha = .5,label ='Ground Balls')\n",
    "other_balls_AB['speed_B'].hist(alpha = .5, label = 'Others')\n",
    "\n",
    "plt.legend()\n",
    "\n",
    "plt.xlabel('Exit Velocity')\n",
    "plt.ylabel('Frequency')\n",
    "  \n",
    "plt.title('Histogram of Exit Velocity of Ground Balls vs Others (System B)',\n",
    "          fontweight =\"bold\")\n",
    "  \n",
    "plt.show()"
   ]
  },
  {
   "cell_type": "markdown",
   "metadata": {},
   "source": [
    "Because of this, in order to accurately predict a player's true off-the-bat speed, I believe the best course of action is to project the velocity of their non-groundball hits while adjusting based on their **individual ground ball rate** to avoid overestimating their true exit velocity. In addition, while the definition of a ground ball given is a batted ball that has a negative vertical angle, I believe using the eye-test of the `hittype` column may be more appropriate way to determine if a ball is actually a grounder. This is because a weakly hit ball with an slightly above parallel launch angle can still qualify as a ground ball as it is likely to land *in front* of the infielder. A ball that is hit with a slightly negative or parallel angle can also qualify as a line drive if it is hit hard enough."
   ]
  },
  {
   "cell_type": "markdown",
   "metadata": {},
   "source": [
    "## How do we predict true exit velocity?"
   ]
  },
  {
   "cell_type": "markdown",
   "metadata": {},
   "source": [
    "The reason I felt supervised learning was not appropriate for research question was that I was not attempting to predict another physical metric such as hang-time/distance, or a perfomance statistic such as wxOBA or xSLG. In other words, there wasn't exactly a probabilistic, predictive aspect to the problem in the sense I was using exit velocity and launch angle to predict **something else**, I was using exit velocity and launch angle to find the *true* definition of exit velocity, a definition I needed to justify based on my data exploration and analysis.\n",
    "\n",
    "Because I suspected that the discrepancies between System A and System B were primarily due to ground balls, which we reasoned not to be indicative of a player's true velocity since they are often the result of poor contact, I first wanted to see if the difference between systems shrank when removing ground balls."
   ]
  },
  {
   "cell_type": "code",
   "execution_count": 37,
   "metadata": {},
   "outputs": [
    {
     "data": {
      "text/plain": [
       "count    64942.000000\n",
       "mean         8.651598\n",
       "std          9.838174\n",
       "min        -58.414730\n",
       "25%          3.331273\n",
       "50%          4.181970\n",
       "75%          6.431025\n",
       "max         76.960100\n",
       "Name: speed_diff, dtype: float64"
      ]
     },
     "execution_count": 37,
     "metadata": {},
     "output_type": "execute_result"
    }
   ],
   "source": [
    "# System difference in speed of all balls\n",
    "batted_balls_AB['speed_diff'].describe()"
   ]
  },
  {
   "cell_type": "code",
   "execution_count": 38,
   "metadata": {},
   "outputs": [
    {
     "data": {
      "text/plain": [
       "count    28262.000000\n",
       "mean        14.905420\n",
       "std         12.291907\n",
       "min        -53.763900\n",
       "25%          3.567482\n",
       "50%         12.931260\n",
       "75%         25.497050\n",
       "max         76.960100\n",
       "Name: speed_diff, dtype: float64"
      ]
     },
     "execution_count": 38,
     "metadata": {},
     "output_type": "execute_result"
    }
   ],
   "source": [
    "# System difference in speed of ground balls\n",
    "ground_balls_AB['speed_diff'].describe()"
   ]
  },
  {
   "cell_type": "code",
   "execution_count": 39,
   "metadata": {},
   "outputs": [
    {
     "data": {
      "text/plain": [
       "count    36680.000000\n",
       "mean         3.833019\n",
       "std          1.264390\n",
       "min        -58.414730\n",
       "25%          3.259573\n",
       "50%          3.880130\n",
       "75%          4.464278\n",
       "max         28.234170\n",
       "Name: speed_diff, dtype: float64"
      ]
     },
     "execution_count": 39,
     "metadata": {},
     "output_type": "execute_result"
    }
   ],
   "source": [
    "# System difference in speed of other balls\n",
    "other_balls_AB['speed_diff'].describe()"
   ]
  },
  {
   "cell_type": "code",
   "execution_count": 40,
   "metadata": {},
   "outputs": [
    {
     "data": {
      "image/png": "[encoded data removed]",
      "text/plain": [
       "<Figure size 432x288 with 1 Axes>"
      ]
     },
     "metadata": {},
     "output_type": "display_data"
    }
   ],
   "source": [
    "num_bins = 20\n",
    "   \n",
    "n, bins, patches = plt.hist(other_balls_AB['speed_diff'], num_bins, \n",
    "                            density = 1, \n",
    "                            color ='blue',align='left')\n",
    "\n",
    "plt.xlabel('Vertical Angle (Degrees)')\n",
    "plt.ylabel('Frequency')\n",
    "  \n",
    "plt.title('Histogram of Speed Differences for Non-Groundballs',\n",
    "          fontweight =\"bold\")\n",
    "  \n",
    "plt.show()"
   ]
  },
  {
   "cell_type": "code",
   "execution_count": 41,
   "metadata": {},
   "outputs": [
    {
     "data": {
      "text/plain": [
       "count    28262.000000\n",
       "mean        -3.821392\n",
       "std          9.015245\n",
       "min       -126.844450\n",
       "25%         -6.442301\n",
       "50%         -1.049214\n",
       "75%          1.179629\n",
       "max         72.238050\n",
       "Name: vangle_diff, dtype: float64"
      ]
     },
     "execution_count": 41,
     "metadata": {},
     "output_type": "execute_result"
    }
   ],
   "source": [
    "# System difference in vertical angle of ground balls\n",
    "ground_balls_AB['vangle_diff'].describe()"
   ]
  },
  {
   "cell_type": "code",
   "execution_count": 42,
   "metadata": {},
   "outputs": [
    {
     "data": {
      "text/plain": [
       "count    36680.000000\n",
       "mean         0.059174\n",
       "std          0.976840\n",
       "min        -78.293980\n",
       "25%         -0.426525\n",
       "50%          0.032150\n",
       "75%          0.543263\n",
       "max         14.462580\n",
       "Name: vangle_diff, dtype: float64"
      ]
     },
     "execution_count": 42,
     "metadata": {},
     "output_type": "execute_result"
    }
   ],
   "source": [
    "# System difference in vertical angle of other balls\n",
    "other_balls_AB['vangle_diff'].describe()"
   ]
  },
  {
   "cell_type": "code",
   "execution_count": 43,
   "metadata": {},
   "outputs": [
    {
     "data": {
      "image/png": "[encoded data removed]",
      "text/plain": [
       "<Figure size 432x288 with 1 Axes>"
      ]
     },
     "metadata": {},
     "output_type": "display_data"
    }
   ],
   "source": [
    "num_bins = 20\n",
    "   \n",
    "n, bins, patches = plt.hist(other_balls_AB['vangle_diff'], num_bins, \n",
    "                            density = 1, \n",
    "                            color ='blue',align='left')\n",
    "\n",
    "plt.xlabel('Vertical Angle (Degrees)')\n",
    "plt.ylabel('Frequency')\n",
    "  \n",
    "plt.title('Histogram of vAngle Differences for Non-Groundballs',\n",
    "          fontweight =\"bold\")\n",
    "  \n",
    "plt.show()"
   ]
  },
  {
   "cell_type": "markdown",
   "metadata": {},
   "source": [
    "Just from splitting the dataset we can already see the discrepancy in differences is mostly due to inaccuracies in ground balls. Therefore in our adjustments between System A and B for **non-groundballs**, we don't need to adjust the speed and velocity of System B nearly as much."
   ]
  },
  {
   "cell_type": "markdown",
   "metadata": {},
   "source": [
    "Since we know that System A is much more accurate, but that the difference isn't as stark as we initially saw once we remove ground balls, the criteria that I use for a *true* exit velocity of a non-ground ball was:\n",
    "\n",
    "`true_velocity_pitch(system_A_speed,system_B_speed){`\n",
    "\n",
    "`if (Only System A):\n",
    "    use System A velocity`\n",
    "    \n",
    "`if (Only System B):\n",
    "    use System B velocity adjusted to System A`\n",
    "\n",
    "`if (System A and System B):\n",
    "    if (speed_diff greater than 2 standard deviations from average speed_diff):\n",
    "        use System A velocity\n",
    "    else:\n",
    "        take an average velocity of System A and adjusted System B` `}`\n",
    "                                                            \n",
    "                                                            \n",
    "After aggregating the true velocities for each pitch, aggregate the average true velocities for each player and adjust based on individual ground-ball rate based on the average discrepancies between ground-ball and non-ground-ball hits.\n",
    "\n",
    "`true_adjusted_velocity(average_true_velocity,ground_ball_rate){\n",
    "    player_true_velocity = average_true_velocity - (player_ground_ball_rate)(ground_ball_adjustment_factor)\n",
    "    return player_true_velocity }`\n",
    "\n"
   ]
  },
  {
   "cell_type": "markdown",
   "metadata": {},
   "source": [
    "I decided the System B speed could be adjusted by adding the the difference in average speed (3.833019), since we observe that System A overestimates speed by that average with a relatively low variance."
   ]
  },
  {
   "cell_type": "code",
   "execution_count": 44,
   "metadata": {},
   "outputs": [],
   "source": [
    "avg_speed_diff = 3.833019\n",
    "speed_diff_std = 1.264390"
   ]
  },
  {
   "cell_type": "code",
   "execution_count": 45,
   "metadata": {},
   "outputs": [],
   "source": [
    "other_balls = batted_balls[(batted_balls['hittype'] != 'ground_ball')].copy()"
   ]
  },
  {
   "cell_type": "code",
   "execution_count": 46,
   "metadata": {},
   "outputs": [],
   "source": [
    "other_balls['speed_diff'] = other_balls['speed_A'] - other_balls['speed_B']"
   ]
  },
  {
   "cell_type": "code",
   "execution_count": 305,
   "metadata": {},
   "outputs": [],
   "source": [
    "# Apply criteria to get true speed of non ground balls\n",
    "other_balls['true_speed'] = np.where(pd.isnull(other_balls['speed_B']) , other_balls['speed_A'],\n",
    "                            np.where(pd.isnull(other_balls['speed_A']) , other_balls['speed_B'],\n",
    "                            np.where((other_balls['speed_diff'] > (avg_speed_diff + 2*speed_diff_std)) | (other_balls['speed_diff'] < (avg_speed_diff - 2*speed_diff_std)),\n",
    "                                     other_balls['speed_A'], (other_balls['speed_A'] + other_balls['speed_B'] + avg_speed_diff)/2)))\n",
    "\n"
   ]
  },
  {
   "cell_type": "code",
   "execution_count": 248,
   "metadata": {},
   "outputs": [
    {
     "data": {
      "text/plain": [
       "2        102.218311\n",
       "3         62.587425\n",
       "4        115.769221\n",
       "7        108.759621\n",
       "8         81.407472\n",
       "            ...    \n",
       "73367     75.447897\n",
       "73368     82.800685\n",
       "73372     86.511324\n",
       "73373     82.335222\n",
       "73374    101.562249\n",
       "Name: true_speed, Length: 40134, dtype: float64"
      ]
     },
     "execution_count": 248,
     "metadata": {},
     "output_type": "execute_result"
    }
   ],
   "source": [
    "other_balls['true_speed']"
   ]
  },
  {
   "cell_type": "code",
   "execution_count": 252,
   "metadata": {},
   "outputs": [],
   "source": [
    "batted_balls = batted_balls.join(other_balls['true_speed'])"
   ]
  },
  {
   "cell_type": "code",
   "execution_count": 254,
   "metadata": {},
   "outputs": [
    {
     "data": {
      "text/html": [
       "<div>\n",
       "<style scoped>\n",
       "    .dataframe tbody tr th:only-of-type {\n",
       "        vertical-align: middle;\n",
       "    }\n",
       "\n",
       "    .dataframe tbody tr th {\n",
       "        vertical-align: top;\n",
       "    }\n",
       "\n",
       "    .dataframe thead th {\n",
       "        text-align: right;\n",
       "    }\n",
       "</style>\n",
       "<table border=\"1\" class=\"dataframe\">\n",
       "  <thead>\n",
       "    <tr style=\"text-align: right;\">\n",
       "      <th></th>\n",
       "      <th>batter</th>\n",
       "      <th>pitcher</th>\n",
       "      <th>hittype</th>\n",
       "      <th>speed_A</th>\n",
       "      <th>vangle_A</th>\n",
       "      <th>speed_B</th>\n",
       "      <th>vangle_B</th>\n",
       "      <th>true_speed</th>\n",
       "    </tr>\n",
       "  </thead>\n",
       "  <tbody>\n",
       "    <tr>\n",
       "      <th>0</th>\n",
       "      <td>393</td>\n",
       "      <td>405</td>\n",
       "      <td>ground_ball</td>\n",
       "      <td>110.987569</td>\n",
       "      <td>4.194081</td>\n",
       "      <td>103.842569</td>\n",
       "      <td>3.164307</td>\n",
       "      <td>NaN</td>\n",
       "    </tr>\n",
       "    <tr>\n",
       "      <th>1</th>\n",
       "      <td>366</td>\n",
       "      <td>405</td>\n",
       "      <td>ground_ball</td>\n",
       "      <td>60.098403</td>\n",
       "      <td>-54.652102</td>\n",
       "      <td>28.092203</td>\n",
       "      <td>-28.324082</td>\n",
       "      <td>NaN</td>\n",
       "    </tr>\n",
       "    <tr>\n",
       "      <th>2</th>\n",
       "      <td>448</td>\n",
       "      <td>518</td>\n",
       "      <td>line_drive</td>\n",
       "      <td>102.757602</td>\n",
       "      <td>11.751851</td>\n",
       "      <td>97.846002</td>\n",
       "      <td>11.658800</td>\n",
       "      <td>102.218311</td>\n",
       "    </tr>\n",
       "    <tr>\n",
       "      <th>3</th>\n",
       "      <td>140</td>\n",
       "      <td>518</td>\n",
       "      <td>fly_ball</td>\n",
       "      <td>61.952091</td>\n",
       "      <td>33.488154</td>\n",
       "      <td>59.389741</td>\n",
       "      <td>32.798274</td>\n",
       "      <td>62.587425</td>\n",
       "    </tr>\n",
       "    <tr>\n",
       "      <th>4</th>\n",
       "      <td>521</td>\n",
       "      <td>518</td>\n",
       "      <td>line_drive</td>\n",
       "      <td>116.690861</td>\n",
       "      <td>22.700762</td>\n",
       "      <td>111.014561</td>\n",
       "      <td>23.164572</td>\n",
       "      <td>115.769221</td>\n",
       "    </tr>\n",
       "    <tr>\n",
       "      <th>...</th>\n",
       "      <td>...</td>\n",
       "      <td>...</td>\n",
       "      <td>...</td>\n",
       "      <td>...</td>\n",
       "      <td>...</td>\n",
       "      <td>...</td>\n",
       "      <td>...</td>\n",
       "      <td>...</td>\n",
       "    </tr>\n",
       "    <tr>\n",
       "      <th>73370</th>\n",
       "      <td>241</td>\n",
       "      <td>144</td>\n",
       "      <td>ground_ball</td>\n",
       "      <td>88.608999</td>\n",
       "      <td>-18.897550</td>\n",
       "      <td>60.251389</td>\n",
       "      <td>-11.486760</td>\n",
       "      <td>NaN</td>\n",
       "    </tr>\n",
       "    <tr>\n",
       "      <th>73371</th>\n",
       "      <td>650</td>\n",
       "      <td>615</td>\n",
       "      <td>ground_ball</td>\n",
       "      <td>110.322436</td>\n",
       "      <td>-7.372974</td>\n",
       "      <td>106.029136</td>\n",
       "      <td>-7.702112</td>\n",
       "      <td>NaN</td>\n",
       "    </tr>\n",
       "    <tr>\n",
       "      <th>73372</th>\n",
       "      <td>267</td>\n",
       "      <td>615</td>\n",
       "      <td>fly_ball</td>\n",
       "      <td>85.887085</td>\n",
       "      <td>44.557649</td>\n",
       "      <td>83.302545</td>\n",
       "      <td>45.256039</td>\n",
       "      <td>86.511324</td>\n",
       "    </tr>\n",
       "    <tr>\n",
       "      <th>73373</th>\n",
       "      <td>797</td>\n",
       "      <td>615</td>\n",
       "      <td>line_drive</td>\n",
       "      <td>81.857912</td>\n",
       "      <td>19.235941</td>\n",
       "      <td>78.979512</td>\n",
       "      <td>18.976781</td>\n",
       "      <td>82.335222</td>\n",
       "    </tr>\n",
       "    <tr>\n",
       "      <th>73374</th>\n",
       "      <td>304</td>\n",
       "      <td>603</td>\n",
       "      <td>line_drive</td>\n",
       "      <td>101.714189</td>\n",
       "      <td>16.345220</td>\n",
       "      <td>97.577289</td>\n",
       "      <td>16.433890</td>\n",
       "      <td>101.562249</td>\n",
       "    </tr>\n",
       "  </tbody>\n",
       "</table>\n",
       "<p>73373 rows × 8 columns</p>\n",
       "</div>"
      ],
      "text/plain": [
       "       batter  pitcher      hittype     speed_A   vangle_A     speed_B  \\\n",
       "0         393      405  ground_ball  110.987569   4.194081  103.842569   \n",
       "1         366      405  ground_ball   60.098403 -54.652102   28.092203   \n",
       "2         448      518   line_drive  102.757602  11.751851   97.846002   \n",
       "3         140      518     fly_ball   61.952091  33.488154   59.389741   \n",
       "4         521      518   line_drive  116.690861  22.700762  111.014561   \n",
       "...       ...      ...          ...         ...        ...         ...   \n",
       "73370     241      144  ground_ball   88.608999 -18.897550   60.251389   \n",
       "73371     650      615  ground_ball  110.322436  -7.372974  106.029136   \n",
       "73372     267      615     fly_ball   85.887085  44.557649   83.302545   \n",
       "73373     797      615   line_drive   81.857912  19.235941   78.979512   \n",
       "73374     304      603   line_drive  101.714189  16.345220   97.577289   \n",
       "\n",
       "        vangle_B  true_speed  \n",
       "0       3.164307         NaN  \n",
       "1     -28.324082         NaN  \n",
       "2      11.658800  102.218311  \n",
       "3      32.798274   62.587425  \n",
       "4      23.164572  115.769221  \n",
       "...          ...         ...  \n",
       "73370 -11.486760         NaN  \n",
       "73371  -7.702112         NaN  \n",
       "73372  45.256039   86.511324  \n",
       "73373  18.976781   82.335222  \n",
       "73374  16.433890  101.562249  \n",
       "\n",
       "[73373 rows x 8 columns]"
      ]
     },
     "execution_count": 254,
     "metadata": {},
     "output_type": "execute_result"
    }
   ],
   "source": [
    "batted_balls"
   ]
  },
  {
   "cell_type": "code",
   "execution_count": 306,
   "metadata": {},
   "outputs": [],
   "source": [
    "# These code blocks get the percentages of the hittypes\n",
    "num = batted_balls.groupby(['batter', 'hittype']).size()\n",
    "denom = batted_balls.groupby(['batter']).size()"
   ]
  },
  {
   "cell_type": "code",
   "execution_count": 256,
   "metadata": {},
   "outputs": [],
   "source": [
    "hittype_pct = num.div(denom, level = 0, axis = 'index')"
   ]
  },
  {
   "cell_type": "code",
   "execution_count": 257,
   "metadata": {},
   "outputs": [],
   "source": [
    "out = hittype_pct.to_frame()"
   ]
  },
  {
   "cell_type": "code",
   "execution_count": 258,
   "metadata": {},
   "outputs": [
    {
     "data": {
      "text/html": [
       "<div>\n",
       "<style scoped>\n",
       "    .dataframe tbody tr th:only-of-type {\n",
       "        vertical-align: middle;\n",
       "    }\n",
       "\n",
       "    .dataframe tbody tr th {\n",
       "        vertical-align: top;\n",
       "    }\n",
       "\n",
       "    .dataframe thead th {\n",
       "        text-align: right;\n",
       "    }\n",
       "</style>\n",
       "<table border=\"1\" class=\"dataframe\">\n",
       "  <thead>\n",
       "    <tr style=\"text-align: right;\">\n",
       "      <th></th>\n",
       "      <th></th>\n",
       "      <th>0</th>\n",
       "    </tr>\n",
       "    <tr>\n",
       "      <th>batter</th>\n",
       "      <th>hittype</th>\n",
       "      <th></th>\n",
       "    </tr>\n",
       "  </thead>\n",
       "  <tbody>\n",
       "    <tr>\n",
       "      <th rowspan=\"4\" valign=\"top\">1</th>\n",
       "      <th>fly_ball</th>\n",
       "      <td>0.225000</td>\n",
       "    </tr>\n",
       "    <tr>\n",
       "      <th>ground_ball</th>\n",
       "      <td>0.512500</td>\n",
       "    </tr>\n",
       "    <tr>\n",
       "      <th>line_drive</th>\n",
       "      <td>0.225000</td>\n",
       "    </tr>\n",
       "    <tr>\n",
       "      <th>popup</th>\n",
       "      <td>0.037500</td>\n",
       "    </tr>\n",
       "    <tr>\n",
       "      <th>2</th>\n",
       "      <th>fly_ball</th>\n",
       "      <td>0.100000</td>\n",
       "    </tr>\n",
       "    <tr>\n",
       "      <th>...</th>\n",
       "      <th>...</th>\n",
       "      <td>...</td>\n",
       "    </tr>\n",
       "    <tr>\n",
       "      <th>814</th>\n",
       "      <th>line_drive</th>\n",
       "      <td>0.133333</td>\n",
       "    </tr>\n",
       "    <tr>\n",
       "      <th>815</th>\n",
       "      <th>ground_ball</th>\n",
       "      <td>1.000000</td>\n",
       "    </tr>\n",
       "    <tr>\n",
       "      <th rowspan=\"3\" valign=\"top\">816</th>\n",
       "      <th>ground_ball</th>\n",
       "      <td>0.571429</td>\n",
       "    </tr>\n",
       "    <tr>\n",
       "      <th>line_drive</th>\n",
       "      <td>0.285714</td>\n",
       "    </tr>\n",
       "    <tr>\n",
       "      <th>popup</th>\n",
       "      <td>0.142857</td>\n",
       "    </tr>\n",
       "  </tbody>\n",
       "</table>\n",
       "<p>2717 rows × 1 columns</p>\n",
       "</div>"
      ],
      "text/plain": [
       "                           0\n",
       "batter hittype              \n",
       "1      fly_ball     0.225000\n",
       "       ground_ball  0.512500\n",
       "       line_drive   0.225000\n",
       "       popup        0.037500\n",
       "2      fly_ball     0.100000\n",
       "...                      ...\n",
       "814    line_drive   0.133333\n",
       "815    ground_ball  1.000000\n",
       "816    ground_ball  0.571429\n",
       "       line_drive   0.285714\n",
       "       popup        0.142857\n",
       "\n",
       "[2717 rows x 1 columns]"
      ]
     },
     "execution_count": 258,
     "metadata": {},
     "output_type": "execute_result"
    }
   ],
   "source": [
    "# Hittype Percentages\n",
    "out"
   ]
  },
  {
   "cell_type": "code",
   "execution_count": 263,
   "metadata": {},
   "outputs": [],
   "source": [
    "unique_batters = []\n",
    "for tup in out.index:\n",
    "    unique_batters.append(tup[0])\n",
    "\n",
    "unique_batters = set(unique_batters)"
   ]
  },
  {
   "cell_type": "code",
   "execution_count": 274,
   "metadata": {},
   "outputs": [],
   "source": [
    "# Ground Ball Rates\n",
    "gb_rates = [] \n",
    "for i in unique_batters:\n",
    "    try: \n",
    "        gb_rates.append((i,out.loc[(i,'ground_ball')].iloc[0]))\n",
    "    except:\n",
    "        gb_rates.append((i,0.0))"
   ]
  },
  {
   "cell_type": "code",
   "execution_count": 280,
   "metadata": {},
   "outputs": [],
   "source": [
    "idx, values = zip(*gb_rates)\n",
    "\n",
    "gb_series = pd.Series(values, idx)"
   ]
  },
  {
   "cell_type": "code",
   "execution_count": 261,
   "metadata": {},
   "outputs": [],
   "source": [
    "# Total At-Bats for each batter\n",
    "batter_at_bats = batted_balls.groupby('batter').size()"
   ]
  },
  {
   "cell_type": "code",
   "execution_count": 259,
   "metadata": {},
   "outputs": [],
   "source": [
    "# Batter average velocity\n",
    "batter_avg_speed = batted_balls.groupby('batter')['true_speed'].mean()"
   ]
  },
  {
   "cell_type": "code",
   "execution_count": 312,
   "metadata": {},
   "outputs": [],
   "source": [
    "frame = {'at_bats':batter_at_bats,'avg_speed':batter_avg_speed,'groundball_rate':gb_series}\n",
    "batter_agg_data = pd.DataFrame(frame)"
   ]
  },
  {
   "cell_type": "code",
   "execution_count": 313,
   "metadata": {},
   "outputs": [
    {
     "data": {
      "text/html": [
       "<div>\n",
       "<style scoped>\n",
       "    .dataframe tbody tr th:only-of-type {\n",
       "        vertical-align: middle;\n",
       "    }\n",
       "\n",
       "    .dataframe tbody tr th {\n",
       "        vertical-align: top;\n",
       "    }\n",
       "\n",
       "    .dataframe thead th {\n",
       "        text-align: right;\n",
       "    }\n",
       "</style>\n",
       "<table border=\"1\" class=\"dataframe\">\n",
       "  <thead>\n",
       "    <tr style=\"text-align: right;\">\n",
       "      <th></th>\n",
       "      <th>at_bats</th>\n",
       "      <th>avg_speed</th>\n",
       "      <th>groundball_rate</th>\n",
       "    </tr>\n",
       "  </thead>\n",
       "  <tbody>\n",
       "    <tr>\n",
       "      <th>1</th>\n",
       "      <td>80</td>\n",
       "      <td>87.916712</td>\n",
       "      <td>0.512500</td>\n",
       "    </tr>\n",
       "    <tr>\n",
       "      <th>2</th>\n",
       "      <td>20</td>\n",
       "      <td>79.344998</td>\n",
       "      <td>0.650000</td>\n",
       "    </tr>\n",
       "    <tr>\n",
       "      <th>3</th>\n",
       "      <td>9</td>\n",
       "      <td>81.437586</td>\n",
       "      <td>0.555556</td>\n",
       "    </tr>\n",
       "    <tr>\n",
       "      <th>4</th>\n",
       "      <td>145</td>\n",
       "      <td>92.176205</td>\n",
       "      <td>0.482759</td>\n",
       "    </tr>\n",
       "    <tr>\n",
       "      <th>5</th>\n",
       "      <td>108</td>\n",
       "      <td>89.088019</td>\n",
       "      <td>0.462963</td>\n",
       "    </tr>\n",
       "    <tr>\n",
       "      <th>...</th>\n",
       "      <td>...</td>\n",
       "      <td>...</td>\n",
       "      <td>...</td>\n",
       "    </tr>\n",
       "    <tr>\n",
       "      <th>812</th>\n",
       "      <td>61</td>\n",
       "      <td>93.463998</td>\n",
       "      <td>0.557377</td>\n",
       "    </tr>\n",
       "    <tr>\n",
       "      <th>813</th>\n",
       "      <td>14</td>\n",
       "      <td>98.403734</td>\n",
       "      <td>0.357143</td>\n",
       "    </tr>\n",
       "    <tr>\n",
       "      <th>814</th>\n",
       "      <td>30</td>\n",
       "      <td>94.701536</td>\n",
       "      <td>0.666667</td>\n",
       "    </tr>\n",
       "    <tr>\n",
       "      <th>815</th>\n",
       "      <td>9</td>\n",
       "      <td>NaN</td>\n",
       "      <td>1.000000</td>\n",
       "    </tr>\n",
       "    <tr>\n",
       "      <th>816</th>\n",
       "      <td>7</td>\n",
       "      <td>78.381527</td>\n",
       "      <td>0.571429</td>\n",
       "    </tr>\n",
       "  </tbody>\n",
       "</table>\n",
       "<p>816 rows × 3 columns</p>\n",
       "</div>"
      ],
      "text/plain": [
       "     at_bats  avg_speed  groundball_rate\n",
       "1         80  87.916712         0.512500\n",
       "2         20  79.344998         0.650000\n",
       "3          9  81.437586         0.555556\n",
       "4        145  92.176205         0.482759\n",
       "5        108  89.088019         0.462963\n",
       "..       ...        ...              ...\n",
       "812       61  93.463998         0.557377\n",
       "813       14  98.403734         0.357143\n",
       "814       30  94.701536         0.666667\n",
       "815        9        NaN         1.000000\n",
       "816        7  78.381527         0.571429\n",
       "\n",
       "[816 rows x 3 columns]"
      ]
     },
     "execution_count": 313,
     "metadata": {},
     "output_type": "execute_result"
    }
   ],
   "source": [
    "batter_agg_data"
   ]
  },
  {
   "cell_type": "markdown",
   "metadata": {},
   "source": [
    "Now that we have the average speed of non-groundballs as well as the average ground ball rate we can project what a player's true velocity.\n",
    "\n",
    "First we drop `NaN` values since this means that the player hit nothing but ground balls and we cannot accurately assess their true velocity."
   ]
  },
  {
   "cell_type": "code",
   "execution_count": 314,
   "metadata": {},
   "outputs": [],
   "source": [
    "batter_agg_data.dropna(inplace=True)"
   ]
  },
  {
   "cell_type": "markdown",
   "metadata": {},
   "source": [
    "We also remove rows with less than 10 at bats where contact was made so that we get a large enough number of samples to get an accurate prediction."
   ]
  },
  {
   "cell_type": "code",
   "execution_count": 315,
   "metadata": {},
   "outputs": [],
   "source": [
    "indexABs = batter_agg_data[ (batter_agg_data['at_bats'] <= 10)].index\n",
    "batter_agg_data.drop(indexABs , inplace=True)"
   ]
  },
  {
   "cell_type": "markdown",
   "metadata": {},
   "source": [
    "Lastly, we need to find the average difference in velocity between ground balls and other contact across the whole dataset to see how much we subtract from a player's velocity on non-ground ball hits, for simplicity we can use System A since we know there are issues with System B's tracking of ground balls. We find across the entire dataset, there is a difference of 4.037235 mph between grounders and non-grounders. In other words, MLB players hit ground balls 4.037235 mph slower on average."
   ]
  },
  {
   "cell_type": "code",
   "execution_count": 316,
   "metadata": {},
   "outputs": [
    {
     "data": {
      "text/plain": [
       "count    28648.000000\n",
       "mean        86.145805\n",
       "std         14.594343\n",
       "min         26.461824\n",
       "25%         76.542640\n",
       "50%         88.677389\n",
       "75%         97.444006\n",
       "max        121.847456\n",
       "Name: speed_A, dtype: float64"
      ]
     },
     "execution_count": 316,
     "metadata": {},
     "output_type": "execute_result"
    }
   ],
   "source": [
    "batted_balls_gb = batted_balls[(batted_balls['hittype'] == 'ground_ball')].copy()\n",
    "batted_balls_gb['speed_A'].describe()"
   ]
  },
  {
   "cell_type": "code",
   "execution_count": 317,
   "metadata": {},
   "outputs": [
    {
     "data": {
      "text/plain": [
       "count    37154.000000\n",
       "mean        90.183040\n",
       "std         11.702149\n",
       "min         35.062166\n",
       "25%         82.924546\n",
       "50%         91.849189\n",
       "75%         98.889056\n",
       "max        118.811930\n",
       "Name: speed_A, dtype: float64"
      ]
     },
     "execution_count": 317,
     "metadata": {},
     "output_type": "execute_result"
    }
   ],
   "source": [
    "batted_balls_other = batted_balls[(batted_balls['hittype'] != 'ground_ball')].copy()\n",
    "batted_balls_other['speed_A'].describe()"
   ]
  },
  {
   "cell_type": "markdown",
   "metadata": {},
   "source": [
    "To finally get our true velocity we can use the equation we outlined earlier:\n",
    "\n",
    "$$\\text{True Velocity} = \\text{(Avg Velocity Non-Ground Balls)} - (\\text{Player Ground Ball Rate})(\\text{Avg Speed Difference of GB vs. Non-GB})$$"
   ]
  },
  {
   "cell_type": "code",
   "execution_count": 318,
   "metadata": {},
   "outputs": [],
   "source": [
    "avg_diff = 4.037235 \n",
    "batter_agg_data['true_velocity'] = batter_agg_data['avg_speed'] - batter_agg_data['groundball_rate']*(avg_diff)"
   ]
  },
  {
   "cell_type": "code",
   "execution_count": 319,
   "metadata": {},
   "outputs": [
    {
     "data": {
      "text/html": [
       "<div>\n",
       "<style scoped>\n",
       "    .dataframe tbody tr th:only-of-type {\n",
       "        vertical-align: middle;\n",
       "    }\n",
       "\n",
       "    .dataframe tbody tr th {\n",
       "        vertical-align: top;\n",
       "    }\n",
       "\n",
       "    .dataframe thead th {\n",
       "        text-align: right;\n",
       "    }\n",
       "</style>\n",
       "<table border=\"1\" class=\"dataframe\">\n",
       "  <thead>\n",
       "    <tr style=\"text-align: right;\">\n",
       "      <th></th>\n",
       "      <th>at_bats</th>\n",
       "      <th>avg_speed</th>\n",
       "      <th>groundball_rate</th>\n",
       "      <th>true_velocity</th>\n",
       "    </tr>\n",
       "  </thead>\n",
       "  <tbody>\n",
       "    <tr>\n",
       "      <th>1</th>\n",
       "      <td>80</td>\n",
       "      <td>87.916712</td>\n",
       "      <td>0.512500</td>\n",
       "      <td>85.847629</td>\n",
       "    </tr>\n",
       "    <tr>\n",
       "      <th>2</th>\n",
       "      <td>20</td>\n",
       "      <td>79.344998</td>\n",
       "      <td>0.650000</td>\n",
       "      <td>76.720795</td>\n",
       "    </tr>\n",
       "    <tr>\n",
       "      <th>4</th>\n",
       "      <td>145</td>\n",
       "      <td>92.176205</td>\n",
       "      <td>0.482759</td>\n",
       "      <td>90.227195</td>\n",
       "    </tr>\n",
       "    <tr>\n",
       "      <th>5</th>\n",
       "      <td>108</td>\n",
       "      <td>89.088019</td>\n",
       "      <td>0.462963</td>\n",
       "      <td>87.218929</td>\n",
       "    </tr>\n",
       "    <tr>\n",
       "      <th>6</th>\n",
       "      <td>413</td>\n",
       "      <td>85.787089</td>\n",
       "      <td>0.617433</td>\n",
       "      <td>83.294365</td>\n",
       "    </tr>\n",
       "    <tr>\n",
       "      <th>...</th>\n",
       "      <td>...</td>\n",
       "      <td>...</td>\n",
       "      <td>...</td>\n",
       "      <td>...</td>\n",
       "    </tr>\n",
       "    <tr>\n",
       "      <th>810</th>\n",
       "      <td>40</td>\n",
       "      <td>86.862587</td>\n",
       "      <td>0.450000</td>\n",
       "      <td>85.045831</td>\n",
       "    </tr>\n",
       "    <tr>\n",
       "      <th>811</th>\n",
       "      <td>280</td>\n",
       "      <td>92.632942</td>\n",
       "      <td>0.539286</td>\n",
       "      <td>90.455719</td>\n",
       "    </tr>\n",
       "    <tr>\n",
       "      <th>812</th>\n",
       "      <td>61</td>\n",
       "      <td>93.463998</td>\n",
       "      <td>0.557377</td>\n",
       "      <td>91.213736</td>\n",
       "    </tr>\n",
       "    <tr>\n",
       "      <th>813</th>\n",
       "      <td>14</td>\n",
       "      <td>98.403734</td>\n",
       "      <td>0.357143</td>\n",
       "      <td>96.961864</td>\n",
       "    </tr>\n",
       "    <tr>\n",
       "      <th>814</th>\n",
       "      <td>30</td>\n",
       "      <td>94.701536</td>\n",
       "      <td>0.666667</td>\n",
       "      <td>92.010046</td>\n",
       "    </tr>\n",
       "  </tbody>\n",
       "</table>\n",
       "<p>583 rows × 4 columns</p>\n",
       "</div>"
      ],
      "text/plain": [
       "     at_bats  avg_speed  groundball_rate  true_velocity\n",
       "1         80  87.916712         0.512500      85.847629\n",
       "2         20  79.344998         0.650000      76.720795\n",
       "4        145  92.176205         0.482759      90.227195\n",
       "5        108  89.088019         0.462963      87.218929\n",
       "6        413  85.787089         0.617433      83.294365\n",
       "..       ...        ...              ...            ...\n",
       "810       40  86.862587         0.450000      85.045831\n",
       "811      280  92.632942         0.539286      90.455719\n",
       "812       61  93.463998         0.557377      91.213736\n",
       "813       14  98.403734         0.357143      96.961864\n",
       "814       30  94.701536         0.666667      92.010046\n",
       "\n",
       "[583 rows x 4 columns]"
      ]
     },
     "execution_count": 319,
     "metadata": {},
     "output_type": "execute_result"
    }
   ],
   "source": [
    "batter_agg_data"
   ]
  },
  {
   "cell_type": "markdown",
   "metadata": {},
   "source": [
    "## Discussion"
   ]
  },
  {
   "cell_type": "markdown",
   "metadata": {},
   "source": [
    "While we observe that ground balls are hit at a lower velocity than line drive, pop-ups, and flyouts, we also acknowledge that they do play a role in determining a player's true velocity which is why we made the adjustments that we did. This also helped us adjust between the differences between Systems A and B once we realized the biggest discrepencies were from ground-balls, which System B seemed to be more inaccurate in tracking.\n",
    "\n",
    "In further work building upon this project I'd be very interested in seeing each player's metrics for hitting beyond OPS such as wxOBA or xOBP. As we saw in the brief analysis of a player with excellent *overall* exit velocity, we saw that he somewhat underperformed his expected performance based on exit velocity as he hit the ball at a high rate into the ground. One additional consideration I would've liked to discuss with others is if there were a better way of adjusting the ground-ball factor in the last step. I would have also liked to try my hand at an unsupervised learning technique such as clustering to investigate the relationship between launch angle and exit velocity, while we know that launch angles that are greater than 0 but not too high are what generally lead to more power and more hits, it would've been interesting to see if we could discern any patterns between the two factors. However, I realize that this project is meant to be completed in about 4 hours and I did not feel I could complete all the analysis I would've been interested in reasonably within the expected time."
   ]
  },
  {
   "cell_type": "markdown",
   "metadata": {},
   "source": [
    "### Citations\n",
    "\n",
    "- https://pandas.pydata.org/docs/index.html\n",
    "- https://matplotlib.org/stable/index.html\n",
    "- https://www.statsmodels.org/stable/index.html\n",
    "- https://tht.fangraphs.com/improving-projections-with-exit-velocity/\n",
    "- https://blogs.fangraphs.com/you-cant-fake-exit-velocity/\n",
    "- https://stackoverflow.com/questions/23377108/pandas-percentage-of-total-with-groupby"
   ]
  },
  {
   "cell_type": "code",
   "execution_count": null,
   "metadata": {},
   "outputs": [],
   "source": []
  }
 ],
 "metadata": {
  "kernelspec": {
   "display_name": "Python 3",
   "language": "python",
   "name": "python3"
  },
  "language_info": {
   "codemirror_mode": {
    "name": "ipython",
    "version": 3
   },
   "file_extension": ".py",
   "mimetype": "text/x-python",
   "name": "python",
   "nbconvert_exporter": "python",
   "pygments_lexer": "ipython3",
   "version": "3.6.8"
  }
 },
 "nbformat": 4,
 "nbformat_minor": 4
}
